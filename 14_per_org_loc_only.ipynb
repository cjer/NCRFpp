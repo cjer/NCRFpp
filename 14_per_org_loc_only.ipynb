{
 "cells": [
  {
   "cell_type": "code",
   "execution_count": 1,
   "metadata": {},
   "outputs": [],
   "source": [
    "%load_ext autoreload\n",
    "%autoreload 2"
   ]
  },
  {
   "cell_type": "code",
   "execution_count": 2,
   "metadata": {},
   "outputs": [],
   "source": [
    "%matplotlib inline\n",
    "import matplotlib.pyplot as plt\n",
    "import seaborn as sns\n",
    "sns.set_context('paper')\n",
    "sns.set_style('white')"
   ]
  },
  {
   "cell_type": "code",
   "execution_count": 3,
   "metadata": {},
   "outputs": [],
   "source": [
    "import pandas as pd\n",
    "import configs\n",
    "import numpy as np"
   ]
  },
  {
   "cell_type": "code",
   "execution_count": 4,
   "metadata": {},
   "outputs": [],
   "source": [
    "import os\n",
    "import json"
   ]
  },
  {
   "cell_type": "markdown",
   "metadata": {},
   "source": [
    "## Create setup dicts\n",
    "1. Word Unit+Labels: `morph, token, multitok`\n",
    "1. Char Arch: `char_lstm, char_cnn, no_char`\n",
    "1. Word Embedding: `ft_tok, ft_yap, ft_tok_oov, ft_yap_oov, w2v_tok, w2v_yap, no_word_embed`\n",
    "\n",
    "3 x 3 x 7 = **63 dicts**"
   ]
  },
  {
   "cell_type": "code",
   "execution_count": 7,
   "metadata": {},
   "outputs": [],
   "source": [
    "data_folder = '../NER/data/for_ncrf'\n",
    "\n",
    "datasets = {\n",
    "    'morph': {\n",
    "        '_unit': 'morpheme',\n",
    "        '_scheme': 'bioes',\n",
    "        'train_dir': 'morph_gold_train.bmes',\n",
    "        'dev_dir': 'morph_gold_dev.bmes',\n",
    "        'test_dir': 'morph_gold_test.bmes', \n",
    "    },\n",
    "    'token': {\n",
    "        '_unit': 'token',\n",
    "        '_scheme': 'bioes',\n",
    "        'train_dir': 'token_gold_train_fix.bmes',\n",
    "        'dev_dir': 'token_gold_dev_fix.bmes',\n",
    "        'test_dir': 'token_gold_test_fix.bmes',\n",
    "    },\n",
    "    'multitok': {\n",
    "        '_unit': 'token',\n",
    "        '_scheme': 'concat_bioes',\n",
    "        'seg': False,\n",
    "        'train_dir': 'token_gold_train_concat.bmes',\n",
    "        'dev_dir': 'token_gold_dev_concat.bmes',\n",
    "        'test_dir': 'token_gold_test_concat.bmes',\n",
    "    },\n",
    "}"
   ]
  },
  {
   "cell_type": "markdown",
   "metadata": {},
   "source": [
    "## Create PER-LOC-ORG only datasets"
   ]
  },
  {
   "cell_type": "code",
   "execution_count": 8,
   "metadata": {},
   "outputs": [],
   "source": [
    "trans_map = {\n",
    "    'ANG': None,\n",
    "    'DUC': None,\n",
    "    'EVE': None,\n",
    "    'FAC': 'LOC',\n",
    "    'GPE': 'LOC',\n",
    "    'LOC': 'LOC',\n",
    "    'ORG': 'ORG',\n",
    "    'PER': 'PER',\n",
    "    'WOA': None,\n",
    "}\n"
   ]
  },
  {
   "cell_type": "code",
   "execution_count": null,
   "metadata": {},
   "outputs": [],
   "source": []
  },
  {
   "cell_type": "code",
   "execution_count": 32,
   "metadata": {},
   "outputs": [
    {
     "name": "stdout",
     "output_type": "stream",
     "text": [
      "../NER/data/for_ncrf/morph_gold_train.bmes\n",
      "../NER/data/for_ncrf/morph_gold_train_plo.bmes\n",
      "../NER/data/for_ncrf/morph_gold_dev.bmes\n",
      "../NER/data/for_ncrf/morph_gold_dev_plo.bmes\n",
      "../NER/data/for_ncrf/morph_gold_test.bmes\n",
      "../NER/data/for_ncrf/morph_gold_test_plo.bmes\n",
      "../NER/data/for_ncrf/token_gold_train_fix.bmes\n",
      "../NER/data/for_ncrf/token_gold_train_fix_plo.bmes\n",
      "../NER/data/for_ncrf/token_gold_dev_fix.bmes\n",
      "../NER/data/for_ncrf/token_gold_dev_fix_plo.bmes\n",
      "../NER/data/for_ncrf/token_gold_test_fix.bmes\n",
      "../NER/data/for_ncrf/token_gold_test_fix_plo.bmes\n",
      "../NER/data/for_ncrf/token_gold_train_concat.bmes\n",
      "../NER/data/for_ncrf/token_gold_train_concat_plo.bmes\n",
      "../NER/data/for_ncrf/token_gold_dev_concat.bmes\n",
      "../NER/data/for_ncrf/token_gold_dev_concat_plo.bmes\n",
      "../NER/data/for_ncrf/token_gold_test_concat.bmes\n",
      "../NER/data/for_ncrf/token_gold_test_concat_plo.bmes\n"
     ]
    }
   ],
   "source": [
    "import re\n",
    "\n",
    "cat_re = re.compile('.*\\-([^\\^]+)\\^?')\n",
    "for n, ds in datasets.items():\n",
    "    for k in ds:\n",
    "        if ('train' in k or 'dev' in k or 'test' in k):\n",
    "            path = os.path.join(data_folder, ds[k])\n",
    "            new_path = os.path.join(data_folder, ds[k].split('.')[0]+'_plo.bmes')\n",
    "            print(path)\n",
    "            print(new_path)\n",
    "            with open(new_path, 'w') as of:\n",
    "                for line in open(path, 'r'):\n",
    "                    line = line.split(' ')\n",
    "                    word = line[0].strip()\n",
    "                    if word!='':\n",
    "                        tag = line[-1].strip()\n",
    "                        tags = tag.split('^')\n",
    "                        #cat = cat_re.search(tag)\n",
    "                        new_tags = []\n",
    "                        for t in tags:\n",
    "                            if t=='O':\n",
    "                                new_tags.append('O')\n",
    "                            else:\n",
    "                                try:\n",
    "                                    bio, cat = t.split('-')\n",
    "                                except:\n",
    "                                    print(line)\n",
    "                                    raise ValueError\n",
    "                                if trans_map[cat] is None:\n",
    "                                    new_tags.append('O')\n",
    "                                else:\n",
    "                                    new_tags.append(bio+'-'+trans_map[cat])\n",
    "                        new_tag = '^'.join(new_tags)\n",
    "                        of.write(word+' '+new_tag+'\\n')\n",
    "                        #print(word, tag, new_tag)\n",
    "                    else:\n",
    "                        of.write('\\n')\n",
    "                        #print('\\n')"
   ]
  },
  {
   "cell_type": "code",
   "execution_count": 40,
   "metadata": {},
   "outputs": [],
   "source": [
    "data_folder = '../NER/data/for_ncrf'\n",
    "\n",
    "new_datasets = {\n",
    "    'morph': {\n",
    "        '_unit': 'morpheme',\n",
    "        '_scheme': 'bioes',\n",
    "        'train_dir': 'morph_gold_train_plo.bmes',\n",
    "        'dev_dir': 'morph_gold_dev_plo.bmes',\n",
    "        'test_dir': 'morph_gold_test_plo.bmes', \n",
    "    },\n",
    "    'token': {\n",
    "        '_unit': 'token',\n",
    "        '_scheme': 'bioes',\n",
    "        'train_dir': 'token_gold_train_fix_plo.bmes',\n",
    "        'dev_dir': 'token_gold_dev_fix_plo.bmes',\n",
    "        'test_dir': 'token_gold_test_fix_plo.bmes',\n",
    "    },\n",
    "    'multitok': {\n",
    "        '_unit': 'token',\n",
    "        '_scheme': 'concat_bioes',\n",
    "        'seg': False,\n",
    "        'train_dir': 'token_gold_train_concat_plo.bmes',\n",
    "        'dev_dir': 'token_gold_dev_concat_plo.bmes',\n",
    "        'test_dir': 'token_gold_test_concat_plo.bmes',\n",
    "    },\n",
    "}"
   ]
  },
  {
   "cell_type": "code",
   "execution_count": 41,
   "metadata": {},
   "outputs": [],
   "source": [
    "default_grid = { \n",
    "        # FIXED\n",
    "        'word_seq_feature': 'LSTM',\n",
    "        'word_emb_dim': 300,\n",
    "        'char_emb_dim': 30,\n",
    "        'iteration': 200,\n",
    "        'bilstm': True,\n",
    "        'norm_word_emb': False,\n",
    "        'norm_char_emb': False,\n",
    "        'ave_batch_loss': False,\n",
    "        'use_crf': True,\n",
    "        'l2': 1e-8,\n",
    "        'lstm_layer': 2,\n",
    "        'batch_size': 8,\n",
    "        'number_normalized': True,\n",
    "        'optimizer': 'SGD',\n",
    "        'lr_decay': 0.05,\n",
    "        'momentum': 0,\n",
    "        'nbest': 1,\n",
    "        'hidden_dim': 200,\n",
    "        'dropout': 0.5,\n",
    "\n",
    "    }\n",
    "    \n",
    "dataset_grids = {\n",
    "    'multitok': {\n",
    "        'learning_rate': 0.005,\n",
    "    },\n",
    "    'morph': {\n",
    "        'learning_rate': 0.01,\n",
    "    },\n",
    "    'token': {\n",
    "        'learning_rate': 0.01,\n",
    "    },\n",
    "}\n",
    "arch_grids = {\n",
    "    'char_lstm': {\n",
    "        'char_seq_feature': 'LSTM',\n",
    "        'use_char': True,\n",
    "        'char_hidden_dim': 70, \n",
    "    },\n",
    "    'char_cnn': {\n",
    "        'char_seq_feature': 'CNN',\n",
    "        'use_char': True,\n",
    "        'char_hidden_dim': 70,\n",
    "        'char_kernel_size': 7,\n",
    "    },\n",
    "    'no_char': {\n",
    "        'use_char': False,\n",
    "     },\n",
    "}\n"
   ]
  },
  {
   "cell_type": "code",
   "execution_count": 42,
   "metadata": {},
   "outputs": [],
   "source": [
    "word_embedding_files = {\n",
    "    #'ft_yap': '../wordembedding-hebrew/vectors_alt_tok/wikipedia.alt_tok.yap_form.fasttext_skipgram.model.vec.nofirstline',\n",
    "    #'ft_tok': '../wordembedding-hebrew/vectors_alt_tok/wikipedia.alt_tok.tokenized.fasttext_skipgram.model.vec.nofirstline',\n",
    "    'ft_oov_yap': 'data/htb_all_words.wikipedia.alt_tok.yap_form.fasttext_skipgram.txt',\n",
    "    'ft_oov_tok': 'data/htb_all_words.wikipedia.alt_tok.tokenized.fasttext_skipgram.txt',\n",
    "    #'w2v_yap': '../wordembedding-hebrew/vectors_alt_tok/wikipedia.alt_tok.yap_form.word2vec_skipgram.txt.nofirstline',\n",
    "    #'w2v_tok': '../wordembedding-hebrew/vectors_alt_tok/wikipedia.alt_tok.tokenized.word2vec_skipgram.txt.nofirstline',\n",
    "    #'glv_yap': '../wordembedding-hebrew/vectors_alt_tok/wikipedia.alt_tok.yap_form.glove.txt',\n",
    "    #'glv_tok': '../wordembedding-hebrew/vectors_alt_tok/wikipedia.alt_tok.tokenized.glove.txt',\n",
    "    #'no_word': None,\n",
    "}"
   ]
  },
  {
   "cell_type": "code",
   "execution_count": 43,
   "metadata": {},
   "outputs": [],
   "source": [
    "models_folder = 'final_setup/plo_models'\n",
    "conf_folder =   'final_setup/plo_conf'\n",
    "json_folder =   'final_setup/plo_conf_json'\n",
    "logs_folder =   'final_setup/plo_logs'"
   ]
  },
  {
   "cell_type": "code",
   "execution_count": 44,
   "metadata": {},
   "outputs": [
    {
     "data": {
      "text/plain": [
       "array([44, 45, 46, 47, 48, 49, 50, 51, 52, 53])"
      ]
     },
     "execution_count": 44,
     "metadata": {},
     "output_type": "execute_result"
    }
   ],
   "source": [
    "seed_num_options = np.arange(44, 54)\n",
    "seed_num_options"
   ]
  },
  {
   "cell_type": "code",
   "execution_count": 45,
   "metadata": {},
   "outputs": [],
   "source": [
    "def create_conf_dict(model_base_name, dataset, arch, emb_name, seed_num):\n",
    "    full_conf_dict = {}\n",
    "    full_conf_dict['status'] = 'train'\n",
    "    full_conf_dict['model_dir'] = os.path.join(models_folder, model_base_name)\n",
    "    \n",
    "    for k, v in new_datasets[dataset].items():\n",
    "        if not k.startswith('_'):\n",
    "            if k in ['train_dir', 'dev_dir', 'test_dir']:\n",
    "                full_conf_dict[k] = os.path.join(data_folder, v)\n",
    "            else:\n",
    "                full_conf_dict[k] = v\n",
    "    \n",
    "    if not(emb_name == 'no_word' or word_embedding_files[emb_name] is None):\n",
    "        full_conf_dict['word_emb_dir'] = word_embedding_files[emb_name]\n",
    "    \n",
    "    \n",
    "    full_conf_dict.update(default_grid)\n",
    "    full_conf_dict.update(dataset_grids[dataset])\n",
    "    full_conf_dict.update(arch_grids[arch])\n",
    "            \n",
    "    return full_conf_dict\n",
    "    "
   ]
  },
  {
   "cell_type": "code",
   "execution_count": 46,
   "metadata": {},
   "outputs": [],
   "source": [
    "ds_embeds = {'morph': ['ft_oov_yap', 'ft_oov_tok'], \n",
    "             'token': ['ft_oov_tok'],\n",
    "             'multitok': ['ft_oov_tok']}\n",
    "ds_archs = {'morph': ['char_cnn'],\n",
    "            'token': ['char_cnn'],\n",
    "            'multitok': ['char_lstm'],}\n",
    "\n",
    "confs = {}\n",
    "for dataset in datasets:\n",
    "    for arch in ds_archs[dataset]:\n",
    "        for emb_name in ds_embeds[dataset]:\n",
    "            for seed_num in seed_num_options:\n",
    "                model_base_name = '.'.join([dataset, arch, emb_name, str(seed_num)+'_seed'])\n",
    "                confs[model_base_name] = create_conf_dict(model_base_name, dataset, \n",
    "                                                          arch, emb_name, seed_num)\n",
    "            "
   ]
  },
  {
   "cell_type": "code",
   "execution_count": 47,
   "metadata": {},
   "outputs": [
    {
     "data": {
      "text/plain": [
       "40"
      ]
     },
     "execution_count": 47,
     "metadata": {},
     "output_type": "execute_result"
    }
   ],
   "source": [
    "len(confs)"
   ]
  },
  {
   "cell_type": "code",
   "execution_count": 49,
   "metadata": {},
   "outputs": [],
   "source": [
    "import pickle\n",
    "pickle.dump(confs, open('final_setup/plo_confs.pkl', 'wb'))"
   ]
  },
  {
   "cell_type": "markdown",
   "metadata": {},
   "source": [
    "## Create conf files for setup dicts\n",
    "1. Random Seed: 10 different `(44, 45, 46...)`\n",
    "1. `morph.charlstm.ft_tok.44_seed.conf`\n",
    "1. `multitok.nochar.no_word_embed.47_seed.conf`\n",
    "\n",
    "63 * 10 = **630 conf files**"
   ]
  },
  {
   "cell_type": "code",
   "execution_count": 50,
   "metadata": {},
   "outputs": [],
   "source": [
    "if not os.path.exists(models_folder):\n",
    "    os.mkdir(models_folder)\n",
    "if not os.path.exists(conf_folder):\n",
    "    os.mkdir(conf_folder)\n",
    "if not os.path.exists(json_folder):\n",
    "    os.mkdir(json_folder)\n",
    "if not os.path.exists(logs_folder):\n",
    "    os.mkdir(logs_folder)"
   ]
  },
  {
   "cell_type": "code",
   "execution_count": 51,
   "metadata": {},
   "outputs": [],
   "source": [
    "for name, conf in confs.items():\n",
    "    conf_path = os.path.join(conf_folder, name+'.conf')\n",
    "    with open(conf_path, 'w', encoding='utf8') as of:\n",
    "        for k, v in conf.items():\n",
    "            of.write(k+'='+str(v)+'\\n')\n",
    "    json_path = os.path.join(json_folder, name+'.json')\n",
    "    with open(json_path, 'w') as of:\n",
    "        of.write(json.dumps(conf))"
   ]
  },
  {
   "cell_type": "markdown",
   "metadata": {},
   "source": [
    "## Create `main.X.py` files\n",
    "Only difference is `seed_num`: \n",
    "- `main.44.py` will have `seed_num = 44`"
   ]
  },
  {
   "cell_type": "markdown",
   "metadata": {},
   "source": [
    "## Create `final_setup_run.py`\n",
    "1. seed_num match: runs `.conf` files with matching `main.X.py` file **only**.\n",
    "1. Choose device. \n",
    "1. Choose conf prefix.\n",
    "1. Skip confs that are running or ran already (using `.dset` file)"
   ]
  },
  {
   "cell_type": "code",
   "execution_count": 7,
   "metadata": {},
   "outputs": [
    {
     "data": {
      "text/plain": [
       "['alt_tok_yap_ft_sg',\n",
       " 'alt_tok_tokenized_ft_sg',\n",
       " 'htb_all_alt_tok_yap_ft_sg',\n",
       " 'htb_all_alt_tok_tokenized_ft_sg',\n",
       " 'alt_tok_yap_w2v_sg',\n",
       " 'alt_tok_tokenized_w2v_sg',\n",
       " None]"
      ]
     },
     "execution_count": 7,
     "metadata": {},
     "output_type": "execute_result"
    }
   ],
   "source": [
    "emb_options = list(word_embedding_files.keys())+[None]\n",
    "emb_options"
   ]
  },
  {
   "cell_type": "markdown",
   "metadata": {},
   "source": [
    "## Read logs"
   ]
  },
  {
   "cell_type": "code",
   "execution_count": 50,
   "metadata": {},
   "outputs": [],
   "source": [
    "import pickle\n",
    "confs = pickle.load( open('final_setup/plo_confs.pkl', 'rb'))"
   ]
  },
  {
   "cell_type": "code",
   "execution_count": 272,
   "metadata": {},
   "outputs": [],
   "source": [
    "import re\n",
    "import os\n",
    "DEV_RES_LINE = re.compile('Dev: .*; acc: (?P<acc>[^,]+)(?:, p: (?P<p>[^,]+), r: (?P<r>[^,]+), f: (?P<f>[-\\d\\.]+))?')\n",
    "#Dev: time: 0.94s speed: 536.09st/s; acc: 0.9043\n",
    "#Dev: time: 3.42s, speed: 146.59st/s; acc: 0.9546, p: 0.7577, r: 0.6393, f: 0.6935\n",
    "\n",
    "mtimes = []\n",
    "res = []\n",
    "archs = []\n",
    "for f in os.scandir(logs_folder):\n",
    "    if f.name.startswith('.ipy'):\n",
    "        continue\n",
    "    mtimes.append(os.path.getmtime(f.path))\n",
    "    model_base_name = '.'.join(f.name.split('.')[:-1])\n",
    "    model_no_seed = '.'.join(f.name.split('.')[:-2])\n",
    "    unit, arch, w_embed, seed_num = f.name.split('.')[:-1]\n",
    "    archs.append(arch)\n",
    "    matching_conf = confs[model_base_name]\n",
    "    params = { 'model_base_name': model_base_name, 'arch': arch, \n",
    "              'unit': unit, 'w_embed': w_embed, 'seed_num': seed_num,\n",
    "              'model_no_seed': model_no_seed,}\n",
    "    params.update(matching_conf)\n",
    "    with open(f.path, 'r') as fp:\n",
    "        i= 0\n",
    "        for line in fp:\n",
    "            m = DEV_RES_LINE.match(line)\n",
    "            if m:\n",
    "                r = m.groupdict().copy()\n",
    "                for k, v in r.items():\n",
    "                    if v is not None:\n",
    "                        r[k] = float(v)\n",
    "                r.update(params)\n",
    "                r['epoch'] = i\n",
    "                i+=1\n",
    "                res.append(r)\n",
    "\n",
    "rdf = pd.DataFrame(res)\n",
    "\n",
    "rdf['model_file_name'] = rdf.model_base_name + '.' + rdf.epoch.astype(str) + '.model'\n",
    "rdf['dset_file_name'] =  rdf.model_base_name +'.dset'\n",
    "rdf['char_seq_feature'] = rdf.char_seq_feature.fillna('NoChar')\n",
    "\n",
    "rdf['relevant_score'] = rdf.f.fillna(rdf.acc)\n",
    "\n",
    "def get_embed_unit(s):\n",
    "    if 'yap' in s:\n",
    "        return 'morph'\n",
    "    elif 'tok' in s:\n",
    "        return 'token'\n",
    "    return 'na'\n",
    "\n",
    "def get_clash_match(s):\n",
    "    if s.embed_unit=='na':\n",
    "        return 'na'\n",
    "    elif s.embed_unit==s.input_unit:\n",
    "        return 'Match'\n",
    "    else:\n",
    "        return 'Clash'\n",
    "    \n",
    "rdf['input_unit'] = rdf.unit.apply(lambda x: 'morph' if x=='morph' else 'token')\n",
    "rdf['embed_unit'] = rdf.w_embed.apply(get_embed_unit)\n",
    "rdf['embed_type'] = rdf.w_embed.str.replace('_tok|_yap', '')\n",
    "rdf['cm'] = rdf.apply(get_clash_match, axis=1)\n",
    "\n",
    "erdf = rdf[(rdf.groupby(['seed_num', 'arch', 'unit', 'w_embed']).relevant_score.transform(max)==rdf.relevant_score) ]\n",
    "erdf = erdf[(erdf.groupby(['seed_num', 'arch', 'unit', 'w_embed']).epoch.transform(min)==erdf.epoch) ]"
   ]
  },
  {
   "cell_type": "code",
   "execution_count": 273,
   "metadata": {},
   "outputs": [
    {
     "data": {
      "text/plain": [
       "(40, 49)"
      ]
     },
     "execution_count": 273,
     "metadata": {},
     "output_type": "execute_result"
    }
   ],
   "source": [
    "erdf.shape"
   ]
  },
  {
   "cell_type": "code",
   "execution_count": 274,
   "metadata": {},
   "outputs": [
    {
     "data": {
      "text/html": [
       "<div>\n",
       "<style scoped>\n",
       "    .dataframe tbody tr th:only-of-type {\n",
       "        vertical-align: middle;\n",
       "    }\n",
       "\n",
       "    .dataframe tbody tr th {\n",
       "        vertical-align: top;\n",
       "    }\n",
       "\n",
       "    .dataframe thead th {\n",
       "        text-align: right;\n",
       "    }\n",
       "</style>\n",
       "<table border=\"1\" class=\"dataframe\">\n",
       "  <thead>\n",
       "    <tr style=\"text-align: right;\">\n",
       "      <th></th>\n",
       "      <th>w_embed</th>\n",
       "      <th>ft_oov_tok</th>\n",
       "      <th>ft_oov_yap</th>\n",
       "    </tr>\n",
       "    <tr>\n",
       "      <th>unit</th>\n",
       "      <th>arch</th>\n",
       "      <th></th>\n",
       "      <th></th>\n",
       "    </tr>\n",
       "  </thead>\n",
       "  <tbody>\n",
       "    <tr>\n",
       "      <th>morph</th>\n",
       "      <th>char_cnn</th>\n",
       "      <td>10.0</td>\n",
       "      <td>10.0</td>\n",
       "    </tr>\n",
       "    <tr>\n",
       "      <th>multitok</th>\n",
       "      <th>char_lstm</th>\n",
       "      <td>10.0</td>\n",
       "      <td>NaN</td>\n",
       "    </tr>\n",
       "    <tr>\n",
       "      <th>token</th>\n",
       "      <th>char_cnn</th>\n",
       "      <td>10.0</td>\n",
       "      <td>NaN</td>\n",
       "    </tr>\n",
       "  </tbody>\n",
       "</table>\n",
       "</div>"
      ],
      "text/plain": [
       "w_embed             ft_oov_tok  ft_oov_yap\n",
       "unit     arch                             \n",
       "morph    char_cnn         10.0        10.0\n",
       "multitok char_lstm        10.0         NaN\n",
       "token    char_cnn         10.0         NaN"
      ]
     },
     "execution_count": 274,
     "metadata": {},
     "output_type": "execute_result"
    }
   ],
   "source": [
    "erdf.groupby(['unit', 'arch', 'w_embed']).seed_num.nunique().unstack()"
   ]
  },
  {
   "cell_type": "code",
   "execution_count": 275,
   "metadata": {},
   "outputs": [
    {
     "name": "stdout",
     "output_type": "stream",
     "text": [
      "Mean time per run: 65.55 minutes\n"
     ]
    }
   ],
   "source": [
    "print ('Mean time per run:', round((max(mtimes) - min(mtimes) )/ len(mtimes) / 60, 2), 'minutes')"
   ]
  },
  {
   "cell_type": "code",
   "execution_count": 276,
   "metadata": {},
   "outputs": [
    {
     "data": {
      "text/html": [
       "<div>\n",
       "<style scoped>\n",
       "    .dataframe tbody tr th:only-of-type {\n",
       "        vertical-align: middle;\n",
       "    }\n",
       "\n",
       "    .dataframe tbody tr th {\n",
       "        vertical-align: top;\n",
       "    }\n",
       "\n",
       "    .dataframe thead tr th {\n",
       "        text-align: left;\n",
       "    }\n",
       "\n",
       "    .dataframe thead tr:last-of-type th {\n",
       "        text-align: right;\n",
       "    }\n",
       "</style>\n",
       "<table border=\"1\" class=\"dataframe\">\n",
       "  <thead>\n",
       "    <tr>\n",
       "      <th></th>\n",
       "      <th>embed_type</th>\n",
       "      <th colspan=\"2\" halign=\"left\">ft_oov</th>\n",
       "    </tr>\n",
       "    <tr>\n",
       "      <th></th>\n",
       "      <th>cm</th>\n",
       "      <th>Clash</th>\n",
       "      <th>Match</th>\n",
       "    </tr>\n",
       "    <tr>\n",
       "      <th>unit</th>\n",
       "      <th>arch</th>\n",
       "      <th></th>\n",
       "      <th></th>\n",
       "    </tr>\n",
       "  </thead>\n",
       "  <tbody>\n",
       "    <tr>\n",
       "      <th>morph</th>\n",
       "      <th>char_cnn</th>\n",
       "      <td>81.9</td>\n",
       "      <td>83.25</td>\n",
       "    </tr>\n",
       "    <tr>\n",
       "      <th>multitok</th>\n",
       "      <th>char_lstm</th>\n",
       "      <td>NaN</td>\n",
       "      <td>94.37</td>\n",
       "    </tr>\n",
       "    <tr>\n",
       "      <th>token</th>\n",
       "      <th>char_cnn</th>\n",
       "      <td>NaN</td>\n",
       "      <td>80.79</td>\n",
       "    </tr>\n",
       "  </tbody>\n",
       "</table>\n",
       "</div>"
      ],
      "text/plain": [
       "embed_type         ft_oov       \n",
       "cm                  Clash  Match\n",
       "unit     arch                   \n",
       "morph    char_cnn    81.9  83.25\n",
       "multitok char_lstm    NaN  94.37\n",
       "token    char_cnn     NaN  80.79"
      ]
     },
     "execution_count": 276,
     "metadata": {},
     "output_type": "execute_result"
    }
   ],
   "source": [
    "erdf.groupby(['unit', 'arch', 'embed_type', 'cm']).relevant_score.mean().unstack([-2,-1]).mul(100).round(2)"
   ]
  },
  {
   "cell_type": "code",
   "execution_count": 277,
   "metadata": {},
   "outputs": [],
   "source": [
    "import numpy as np \n",
    "def perc(n):\n",
    "    def perc_(x):\n",
    "        return np.percentile(x, n)\n",
    "    perc_.__name__ = 'perc_%s' % n\n",
    "    return perc_"
   ]
  },
  {
   "cell_type": "code",
   "execution_count": 278,
   "metadata": {},
   "outputs": [
    {
     "data": {
      "text/html": [
       "<div>\n",
       "<style scoped>\n",
       "    .dataframe tbody tr th:only-of-type {\n",
       "        vertical-align: middle;\n",
       "    }\n",
       "\n",
       "    .dataframe tbody tr th {\n",
       "        vertical-align: top;\n",
       "    }\n",
       "\n",
       "    .dataframe thead th {\n",
       "        text-align: right;\n",
       "    }\n",
       "</style>\n",
       "<table border=\"1\" class=\"dataframe\">\n",
       "  <thead>\n",
       "    <tr style=\"text-align: right;\">\n",
       "      <th></th>\n",
       "      <th></th>\n",
       "      <th>max</th>\n",
       "      <th>min</th>\n",
       "      <th>mean</th>\n",
       "      <th>std</th>\n",
       "      <th>median</th>\n",
       "      <th>perc_95</th>\n",
       "    </tr>\n",
       "    <tr>\n",
       "      <th>unit</th>\n",
       "      <th>char_seq_feature</th>\n",
       "      <th></th>\n",
       "      <th></th>\n",
       "      <th></th>\n",
       "      <th></th>\n",
       "      <th></th>\n",
       "      <th></th>\n",
       "    </tr>\n",
       "  </thead>\n",
       "  <tbody>\n",
       "    <tr>\n",
       "      <th>morph</th>\n",
       "      <th>CNN</th>\n",
       "      <td>84.12</td>\n",
       "      <td>80.61</td>\n",
       "      <td>82.58</td>\n",
       "      <td>0.91</td>\n",
       "      <td>82.72</td>\n",
       "      <td>83.96</td>\n",
       "    </tr>\n",
       "    <tr>\n",
       "      <th>multitok</th>\n",
       "      <th>LSTM</th>\n",
       "      <td>94.50</td>\n",
       "      <td>94.26</td>\n",
       "      <td>94.37</td>\n",
       "      <td>0.08</td>\n",
       "      <td>94.38</td>\n",
       "      <td>94.48</td>\n",
       "    </tr>\n",
       "    <tr>\n",
       "      <th>token</th>\n",
       "      <th>CNN</th>\n",
       "      <td>81.32</td>\n",
       "      <td>80.18</td>\n",
       "      <td>80.79</td>\n",
       "      <td>0.42</td>\n",
       "      <td>80.96</td>\n",
       "      <td>81.24</td>\n",
       "    </tr>\n",
       "  </tbody>\n",
       "</table>\n",
       "</div>"
      ],
      "text/plain": [
       "                             max    min   mean   std  median  perc_95\n",
       "unit     char_seq_feature                                            \n",
       "morph    CNN               84.12  80.61  82.58  0.91   82.72    83.96\n",
       "multitok LSTM              94.50  94.26  94.37  0.08   94.38    94.48\n",
       "token    CNN               81.32  80.18  80.79  0.42   80.96    81.24"
      ]
     },
     "execution_count": 278,
     "metadata": {},
     "output_type": "execute_result"
    }
   ],
   "source": [
    "erdf.groupby(['unit', 'char_seq_feature']).relevant_score.agg(['max', 'min', 'mean', 'std', 'median', perc(95)]).mul(100).round(2)"
   ]
  },
  {
   "cell_type": "code",
   "execution_count": 279,
   "metadata": {},
   "outputs": [
    {
     "data": {
      "text/html": [
       "<div>\n",
       "<style scoped>\n",
       "    .dataframe tbody tr th:only-of-type {\n",
       "        vertical-align: middle;\n",
       "    }\n",
       "\n",
       "    .dataframe tbody tr th {\n",
       "        vertical-align: top;\n",
       "    }\n",
       "\n",
       "    .dataframe thead th {\n",
       "        text-align: right;\n",
       "    }\n",
       "</style>\n",
       "<table border=\"1\" class=\"dataframe\">\n",
       "  <thead>\n",
       "    <tr style=\"text-align: right;\">\n",
       "      <th></th>\n",
       "      <th></th>\n",
       "      <th>max</th>\n",
       "      <th>min</th>\n",
       "      <th>mean</th>\n",
       "      <th>std</th>\n",
       "      <th>median</th>\n",
       "      <th>perc_95</th>\n",
       "    </tr>\n",
       "    <tr>\n",
       "      <th>unit</th>\n",
       "      <th>char_seq_feature</th>\n",
       "      <th></th>\n",
       "      <th></th>\n",
       "      <th></th>\n",
       "      <th></th>\n",
       "      <th></th>\n",
       "      <th></th>\n",
       "    </tr>\n",
       "  </thead>\n",
       "  <tbody>\n",
       "    <tr>\n",
       "      <th>morph</th>\n",
       "      <th>CNN</th>\n",
       "      <td>84.12</td>\n",
       "      <td>80.61</td>\n",
       "      <td>82.58</td>\n",
       "      <td>0.91</td>\n",
       "      <td>82.72</td>\n",
       "      <td>83.96</td>\n",
       "    </tr>\n",
       "    <tr>\n",
       "      <th>multitok</th>\n",
       "      <th>LSTM</th>\n",
       "      <td>94.50</td>\n",
       "      <td>94.26</td>\n",
       "      <td>94.37</td>\n",
       "      <td>0.08</td>\n",
       "      <td>94.38</td>\n",
       "      <td>94.48</td>\n",
       "    </tr>\n",
       "    <tr>\n",
       "      <th>token</th>\n",
       "      <th>CNN</th>\n",
       "      <td>81.32</td>\n",
       "      <td>80.18</td>\n",
       "      <td>80.79</td>\n",
       "      <td>0.42</td>\n",
       "      <td>80.96</td>\n",
       "      <td>81.24</td>\n",
       "    </tr>\n",
       "  </tbody>\n",
       "</table>\n",
       "</div>"
      ],
      "text/plain": [
       "                             max    min   mean   std  median  perc_95\n",
       "unit     char_seq_feature                                            \n",
       "morph    CNN               84.12  80.61  82.58  0.91   82.72    83.96\n",
       "multitok LSTM              94.50  94.26  94.37  0.08   94.38    94.48\n",
       "token    CNN               81.32  80.18  80.79  0.42   80.96    81.24"
      ]
     },
     "execution_count": 279,
     "metadata": {},
     "output_type": "execute_result"
    }
   ],
   "source": [
    "erdf.groupby(['unit', 'char_seq_feature']).relevant_score.agg(['max', 'min', 'mean', 'std', 'median', perc(95)]).mul(100).round(2)"
   ]
  },
  {
   "cell_type": "code",
   "execution_count": 280,
   "metadata": {},
   "outputs": [],
   "source": [
    "erdf.to_pickle('final_setup/plo_erdf.pkl')"
   ]
  },
  {
   "cell_type": "markdown",
   "metadata": {},
   "source": [
    "## Decode"
   ]
  },
  {
   "cell_type": "code",
   "execution_count": 281,
   "metadata": {},
   "outputs": [],
   "source": [
    "output_folder = 'final_setup/plo_decode_output'\n",
    "decode_conf_folder = 'final_setup/plo_decode_conf'"
   ]
  },
  {
   "cell_type": "code",
   "execution_count": 282,
   "metadata": {},
   "outputs": [],
   "source": [
    "if not os.path.exists(output_folder):\n",
    "    os.mkdir(output_folder)\n",
    "\n",
    "if not os.path.exists(decode_conf_folder):\n",
    "    os.mkdir(decode_conf_folder)\n",
    "    \n",
    "decode_sets = {\n",
    "    'morph': {\n",
    "        'morph_dev_gold': '../NER/data/for_ncrf/morph_gold_dev_plo.bmes',\n",
    "        'morph_dev_yap': '../NER/data/for_ncrf/morph_yap_dev_dummy_o.bmes',\n",
    "        'morph_test_gold': '../NER/data/for_ncrf/morph_gold_test_plo.bmes',\n",
    "        'morph_test_yap': '../NER/data/for_ncrf/morph_yap_test_dummy_o.bmes',\n",
    "    },\n",
    "    'token': {\n",
    "        'token_dev': '../NER/data/for_ncrf/token_gold_dev_fix_plo.bmes',\n",
    "        'token_test': '../NER/data/for_ncrf/token_gold_test_fix_plo.bmes',\n",
    "    },\n",
    "    'multitok': {\n",
    "        'token_dev': '../NER/data/for_ncrf/token_gold_dev_concat_plo.bmes',\n",
    "        'token_test': '../NER/data/for_ncrf/token_gold_test_concat_plo.bmes',\n",
    "    }\n",
    "}"
   ]
  },
  {
   "cell_type": "code",
   "execution_count": 283,
   "metadata": {},
   "outputs": [],
   "source": [
    "params = { 'status': 'decode' }\n",
    "\n",
    "for i, row in erdf.iterrows():\n",
    "    unit = row['unit']\n",
    "    for name, set_path in decode_sets[unit].items():\n",
    "        row_par = params.copy()\n",
    "        row_par['load_model_dir'] = os.path.join(models_folder, row['model_file_name'])\n",
    "        row_par['dset_dir'] = os.path.join(models_folder, row['dset_file_name'])\n",
    "        row_par['decode_dir'] = os.path.join(output_folder, name+'.'+row['model_base_name']+'.bmes')\n",
    "        row_par['raw_dir'] = set_path\n",
    "        \n",
    "        conf_path = os.path.join(decode_conf_folder, name+'.'+row['model_base_name']+'.decode.conf')\n",
    "        if not os.path.exists(conf_path):\n",
    "            with open(conf_path, 'w', encoding='utf8') as of:\n",
    "                for k, v in row_par.items():\n",
    "                    of.write(k+'='+str(v)+'\\n')        \n",
    " "
   ]
  },
  {
   "cell_type": "code",
   "execution_count": null,
   "metadata": {},
   "outputs": [],
   "source": []
  },
  {
   "cell_type": "code",
   "execution_count": 161,
   "metadata": {},
   "outputs": [],
   "source": [
    "import os, re"
   ]
  },
  {
   "cell_type": "code",
   "execution_count": 162,
   "metadata": {},
   "outputs": [
    {
     "data": {
      "text/plain": [
       "[]"
      ]
     },
     "execution_count": 162,
     "metadata": {},
     "output_type": "execute_result"
    }
   ],
   "source": [
    "pred_line = re.compile('Predict raw 1-best result has been written into file.*')\n",
    "bads = []\n",
    "for f in os.scandir('final_setup/plo_decode_logs'):\n",
    "    if f.name=='.ipynb_checkpoints' or f.name=='.log':\n",
    "        continue\n",
    "    with open(f.path, 'r') as fp:\n",
    "        data = fp.read()\n",
    "        if len(re.findall(pred_line, data))==0:\n",
    "            bads.append (f.name)\n",
    "            #os.remove(f.path)\n",
    "sorted(bads)"
   ]
  },
  {
   "cell_type": "code",
   "execution_count": 163,
   "metadata": {},
   "outputs": [],
   "source": [
    "from collections import Counter"
   ]
  },
  {
   "cell_type": "code",
   "execution_count": 164,
   "metadata": {},
   "outputs": [
    {
     "data": {
      "text/plain": [
       "[]"
      ]
     },
     "execution_count": 164,
     "metadata": {},
     "output_type": "execute_result"
    }
   ],
   "source": [
    "xxx = []\n",
    "for f in os.scandir('final_setup/plo_decode_output'):\n",
    "    if f.name=='.ipynb_checkpoints' or f.name=='.bmes':\n",
    "        continue\n",
    "    elif 'pruned' in f.name:\n",
    "        xxx.append('.'.join(f.name.split('.')[:-2]))\n",
    "Counter(xxx).most_common()"
   ]
  },
  {
   "cell_type": "markdown",
   "metadata": {},
   "source": [
    "## Evaluate decoded folder"
   ]
  },
  {
   "cell_type": "code",
   "execution_count": 14,
   "metadata": {},
   "outputs": [],
   "source": [
    "erdf = pd.read_pickle('final_setup/plo_erdf.pkl')"
   ]
  },
  {
   "cell_type": "code",
   "execution_count": 137,
   "metadata": {},
   "outputs": [],
   "source": [
    "import sys\n",
    "sys.path.append('../NER')\n",
    "import ne_evaluate_mentions as nem"
   ]
  },
  {
   "cell_type": "code",
   "execution_count": 165,
   "metadata": {},
   "outputs": [],
   "source": [
    "scores = {}"
   ]
  },
  {
   "cell_type": "code",
   "execution_count": 226,
   "metadata": {},
   "outputs": [],
   "source": [
    "if os.path.exists('final_setup/plo_scores.pkl'):\n",
    "    scores = pickle.load(open('final_setup/plo_scores.pkl', 'rb'))"
   ]
  },
  {
   "cell_type": "code",
   "execution_count": 227,
   "metadata": {},
   "outputs": [],
   "source": [
    "for file in os.scandir(output_folder):\n",
    "    if file.name=='.ipynb_checkpoints':\n",
    "        continue\n",
    "    gold_name, inp, arch, w_embed, seed_num = file.name.split('.')[:-1]\n",
    "    if (gold_name, inp, arch, w_embed, seed_num) not in scores:\n",
    "        if len(gold_name.split('_'))>2:\n",
    "            unit, pred_set, _ = gold_name.split('_')\n",
    "            gold_path = decode_sets[unit][unit+'_'+pred_set+'_gold']\n",
    "        else:\n",
    "            unit, pred_set = gold_name.split('_')\n",
    "            gold_path = decode_sets[unit][unit+'_'+pred_set]\n",
    "        p, r, f = nem.evaluate_files(gold_path, file)\n",
    "        scores[(gold_name, inp, arch, w_embed, seed_num)] = (p, r, f)\n",
    "    "
   ]
  },
  {
   "cell_type": "code",
   "execution_count": 228,
   "metadata": {},
   "outputs": [],
   "source": [
    "import pickle\n",
    "pickle.dump(scores, open('final_setup/plo_scores.pkl', 'wb'))"
   ]
  },
  {
   "cell_type": "code",
   "execution_count": 229,
   "metadata": {},
   "outputs": [],
   "source": [
    "score_tups = [(*k, *v) for k,v in scores.items()]"
   ]
  },
  {
   "cell_type": "code",
   "execution_count": 230,
   "metadata": {},
   "outputs": [
    {
     "data": {
      "text/html": [
       "<div>\n",
       "<style scoped>\n",
       "    .dataframe tbody tr th:only-of-type {\n",
       "        vertical-align: middle;\n",
       "    }\n",
       "\n",
       "    .dataframe tbody tr th {\n",
       "        vertical-align: top;\n",
       "    }\n",
       "\n",
       "    .dataframe thead th {\n",
       "        text-align: right;\n",
       "    }\n",
       "</style>\n",
       "<table border=\"1\" class=\"dataframe\">\n",
       "  <thead>\n",
       "    <tr style=\"text-align: right;\">\n",
       "      <th></th>\n",
       "      <th></th>\n",
       "      <th></th>\n",
       "      <th>max</th>\n",
       "      <th>min</th>\n",
       "      <th>mean</th>\n",
       "      <th>std</th>\n",
       "      <th>median</th>\n",
       "      <th>perc_95</th>\n",
       "    </tr>\n",
       "    <tr>\n",
       "      <th>gold_name</th>\n",
       "      <th>unit</th>\n",
       "      <th>arch</th>\n",
       "      <th></th>\n",
       "      <th></th>\n",
       "      <th></th>\n",
       "      <th></th>\n",
       "      <th></th>\n",
       "      <th></th>\n",
       "    </tr>\n",
       "  </thead>\n",
       "  <tbody>\n",
       "    <tr>\n",
       "      <th>morph_dev_gold</th>\n",
       "      <th>morph</th>\n",
       "      <th>char_cnn</th>\n",
       "      <td>0.841183</td>\n",
       "      <td>0.808324</td>\n",
       "      <td>0.826238</td>\n",
       "      <td>0.008902</td>\n",
       "      <td>0.827349</td>\n",
       "      <td>0.839565</td>\n",
       "    </tr>\n",
       "    <tr>\n",
       "      <th>morph_dev_pruned</th>\n",
       "      <th>morph</th>\n",
       "      <th>char_cnn</th>\n",
       "      <td>0.824834</td>\n",
       "      <td>0.807991</td>\n",
       "      <td>0.815201</td>\n",
       "      <td>0.004974</td>\n",
       "      <td>0.814694</td>\n",
       "      <td>0.822162</td>\n",
       "    </tr>\n",
       "    <tr>\n",
       "      <th>morph_dev_yap</th>\n",
       "      <th>morph</th>\n",
       "      <th>char_cnn</th>\n",
       "      <td>0.772475</td>\n",
       "      <td>0.730512</td>\n",
       "      <td>0.750409</td>\n",
       "      <td>0.011575</td>\n",
       "      <td>0.748765</td>\n",
       "      <td>0.764040</td>\n",
       "    </tr>\n",
       "    <tr>\n",
       "      <th rowspan=\"2\" valign=\"top\">token_dev</th>\n",
       "      <th>multitok</th>\n",
       "      <th>char_lstm</th>\n",
       "      <td>0.815385</td>\n",
       "      <td>0.792990</td>\n",
       "      <td>0.802283</td>\n",
       "      <td>0.006898</td>\n",
       "      <td>0.800217</td>\n",
       "      <td>0.812771</td>\n",
       "    </tr>\n",
       "    <tr>\n",
       "      <th>token</th>\n",
       "      <th>char_cnn</th>\n",
       "      <td>0.812775</td>\n",
       "      <td>0.801752</td>\n",
       "      <td>0.807945</td>\n",
       "      <td>0.004199</td>\n",
       "      <td>0.809624</td>\n",
       "      <td>0.812559</td>\n",
       "    </tr>\n",
       "  </tbody>\n",
       "</table>\n",
       "</div>"
      ],
      "text/plain": [
       "                                          max       min      mean       std  \\\n",
       "gold_name        unit     arch                                                \n",
       "morph_dev_gold   morph    char_cnn   0.841183  0.808324  0.826238  0.008902   \n",
       "morph_dev_pruned morph    char_cnn   0.824834  0.807991  0.815201  0.004974   \n",
       "morph_dev_yap    morph    char_cnn   0.772475  0.730512  0.750409  0.011575   \n",
       "token_dev        multitok char_lstm  0.815385  0.792990  0.802283  0.006898   \n",
       "                 token    char_cnn   0.812775  0.801752  0.807945  0.004199   \n",
       "\n",
       "                                       median   perc_95  \n",
       "gold_name        unit     arch                           \n",
       "morph_dev_gold   morph    char_cnn   0.827349  0.839565  \n",
       "morph_dev_pruned morph    char_cnn   0.814694  0.822162  \n",
       "morph_dev_yap    morph    char_cnn   0.748765  0.764040  \n",
       "token_dev        multitok char_lstm  0.800217  0.812771  \n",
       "                 token    char_cnn   0.809624  0.812559  "
      ]
     },
     "execution_count": 230,
     "metadata": {},
     "output_type": "execute_result"
    }
   ],
   "source": [
    "mev = pd.DataFrame(score_tups, columns=('gold_name', 'unit', 'arch', \n",
    "                                        'w_embed', 'seed_num', \n",
    "                                        'p_m', 'r_m', 'f_m'))\n",
    "(mev[mev.gold_name.str.contains('dev')].groupby(['gold_name', 'unit', 'arch'])\n",
    " .f_m.agg(['max', 'min', 'mean', 'std', 'median', perc(95)]))"
   ]
  },
  {
   "cell_type": "code",
   "execution_count": 231,
   "metadata": {},
   "outputs": [
    {
     "data": {
      "text/plain": [
       "gold_name         unit      arch     \n",
       "morph_dev_gold    morph     char_cnn     20\n",
       "morph_dev_pruned  morph     char_cnn     10\n",
       "morph_dev_yap     morph     char_cnn     20\n",
       "token_dev         multitok  char_lstm    10\n",
       "                  token     char_cnn     10\n",
       "dtype: int64"
      ]
     },
     "execution_count": 231,
     "metadata": {},
     "output_type": "execute_result"
    }
   ],
   "source": [
    "(mev[mev.gold_name.str.contains('dev')].groupby(['gold_name', 'unit', 'arch']).size())"
   ]
  },
  {
   "cell_type": "code",
   "execution_count": 232,
   "metadata": {},
   "outputs": [
    {
     "data": {
      "text/html": [
       "<div>\n",
       "<style scoped>\n",
       "    .dataframe tbody tr th:only-of-type {\n",
       "        vertical-align: middle;\n",
       "    }\n",
       "\n",
       "    .dataframe tbody tr th {\n",
       "        vertical-align: top;\n",
       "    }\n",
       "\n",
       "    .dataframe thead th {\n",
       "        text-align: right;\n",
       "    }\n",
       "</style>\n",
       "<table border=\"1\" class=\"dataframe\">\n",
       "  <thead>\n",
       "    <tr style=\"text-align: right;\">\n",
       "      <th></th>\n",
       "      <th>gold_name</th>\n",
       "      <th>unit</th>\n",
       "      <th>arch</th>\n",
       "      <th>w_embed</th>\n",
       "      <th>seed_num</th>\n",
       "      <th>p_m</th>\n",
       "      <th>r_m</th>\n",
       "      <th>f_m</th>\n",
       "    </tr>\n",
       "  </thead>\n",
       "  <tbody>\n",
       "    <tr>\n",
       "      <th>0</th>\n",
       "      <td>token_dev</td>\n",
       "      <td>token</td>\n",
       "      <td>char_cnn</td>\n",
       "      <td>ft_oov_tok</td>\n",
       "      <td>44_seed</td>\n",
       "      <td>0.843318</td>\n",
       "      <td>0.773784</td>\n",
       "      <td>0.807056</td>\n",
       "    </tr>\n",
       "    <tr>\n",
       "      <th>1</th>\n",
       "      <td>token_test</td>\n",
       "      <td>token</td>\n",
       "      <td>char_cnn</td>\n",
       "      <td>ft_oov_tok</td>\n",
       "      <td>44_seed</td>\n",
       "      <td>0.810934</td>\n",
       "      <td>0.772234</td>\n",
       "      <td>0.791111</td>\n",
       "    </tr>\n",
       "    <tr>\n",
       "      <th>2</th>\n",
       "      <td>token_dev</td>\n",
       "      <td>multitok</td>\n",
       "      <td>char_lstm</td>\n",
       "      <td>ft_oov_tok</td>\n",
       "      <td>44_seed</td>\n",
       "      <td>0.821826</td>\n",
       "      <td>0.780127</td>\n",
       "      <td>0.800434</td>\n",
       "    </tr>\n",
       "    <tr>\n",
       "      <th>3</th>\n",
       "      <td>token_test</td>\n",
       "      <td>multitok</td>\n",
       "      <td>char_lstm</td>\n",
       "      <td>ft_oov_tok</td>\n",
       "      <td>44_seed</td>\n",
       "      <td>0.790043</td>\n",
       "      <td>0.791757</td>\n",
       "      <td>0.790899</td>\n",
       "    </tr>\n",
       "    <tr>\n",
       "      <th>4</th>\n",
       "      <td>token_dev</td>\n",
       "      <td>token</td>\n",
       "      <td>char_cnn</td>\n",
       "      <td>ft_oov_tok</td>\n",
       "      <td>46_seed</td>\n",
       "      <td>0.844749</td>\n",
       "      <td>0.782241</td>\n",
       "      <td>0.812294</td>\n",
       "    </tr>\n",
       "  </tbody>\n",
       "</table>\n",
       "</div>"
      ],
      "text/plain": [
       "    gold_name      unit       arch     w_embed seed_num       p_m       r_m  \\\n",
       "0   token_dev     token   char_cnn  ft_oov_tok  44_seed  0.843318  0.773784   \n",
       "1  token_test     token   char_cnn  ft_oov_tok  44_seed  0.810934  0.772234   \n",
       "2   token_dev  multitok  char_lstm  ft_oov_tok  44_seed  0.821826  0.780127   \n",
       "3  token_test  multitok  char_lstm  ft_oov_tok  44_seed  0.790043  0.791757   \n",
       "4   token_dev     token   char_cnn  ft_oov_tok  46_seed  0.844749  0.782241   \n",
       "\n",
       "        f_m  \n",
       "0  0.807056  \n",
       "1  0.791111  \n",
       "2  0.800434  \n",
       "3  0.790899  \n",
       "4  0.812294  "
      ]
     },
     "execution_count": 232,
     "metadata": {},
     "output_type": "execute_result"
    }
   ],
   "source": [
    "mev.head()"
   ]
  },
  {
   "cell_type": "code",
   "execution_count": 233,
   "metadata": {},
   "outputs": [],
   "source": [
    "mev['pred_set'] = mev.gold_name.apply(lambda x: '_'.join(x.split('_')[1:]))"
   ]
  },
  {
   "cell_type": "code",
   "execution_count": 234,
   "metadata": {},
   "outputs": [],
   "source": [
    "mev = mev.merge(erdf, how='left')"
   ]
  },
  {
   "cell_type": "code",
   "execution_count": 235,
   "metadata": {},
   "outputs": [
    {
     "data": {
      "text/html": [
       "<div>\n",
       "<style scoped>\n",
       "    .dataframe tbody tr th:only-of-type {\n",
       "        vertical-align: middle;\n",
       "    }\n",
       "\n",
       "    .dataframe tbody tr th {\n",
       "        vertical-align: top;\n",
       "    }\n",
       "\n",
       "    .dataframe thead tr th {\n",
       "        text-align: left;\n",
       "    }\n",
       "\n",
       "    .dataframe thead tr:last-of-type th {\n",
       "        text-align: right;\n",
       "    }\n",
       "</style>\n",
       "<table border=\"1\" class=\"dataframe\">\n",
       "  <thead>\n",
       "    <tr>\n",
       "      <th></th>\n",
       "      <th></th>\n",
       "      <th></th>\n",
       "      <th colspan=\"2\" halign=\"left\">mean</th>\n",
       "    </tr>\n",
       "    <tr>\n",
       "      <th></th>\n",
       "      <th></th>\n",
       "      <th>embed_type</th>\n",
       "      <th colspan=\"2\" halign=\"left\">ft_oov</th>\n",
       "    </tr>\n",
       "    <tr>\n",
       "      <th></th>\n",
       "      <th></th>\n",
       "      <th>cm</th>\n",
       "      <th>Clash</th>\n",
       "      <th>Match</th>\n",
       "    </tr>\n",
       "    <tr>\n",
       "      <th>unit</th>\n",
       "      <th>pred_set</th>\n",
       "      <th>arch</th>\n",
       "      <th></th>\n",
       "      <th></th>\n",
       "    </tr>\n",
       "  </thead>\n",
       "  <tbody>\n",
       "    <tr>\n",
       "      <th rowspan=\"3\" valign=\"top\">morph</th>\n",
       "      <th>dev_gold</th>\n",
       "      <th>char_cnn</th>\n",
       "      <td>81.95 ± 0.7</td>\n",
       "      <td>83.30 ± 0.5</td>\n",
       "    </tr>\n",
       "    <tr>\n",
       "      <th>dev_pruned</th>\n",
       "      <th>char_cnn</th>\n",
       "      <td>NaN</td>\n",
       "      <td>81.52 ± 0.5</td>\n",
       "    </tr>\n",
       "    <tr>\n",
       "      <th>dev_yap</th>\n",
       "      <th>char_cnn</th>\n",
       "      <td>74.40 ± 1.0</td>\n",
       "      <td>75.68 ± 0.9</td>\n",
       "    </tr>\n",
       "    <tr>\n",
       "      <th>multitok</th>\n",
       "      <th>dev</th>\n",
       "      <th>char_lstm</th>\n",
       "      <td>NaN</td>\n",
       "      <td>80.23 ± 0.7</td>\n",
       "    </tr>\n",
       "    <tr>\n",
       "      <th>token</th>\n",
       "      <th>dev</th>\n",
       "      <th>char_cnn</th>\n",
       "      <td>NaN</td>\n",
       "      <td>80.79 ± 0.4</td>\n",
       "    </tr>\n",
       "  </tbody>\n",
       "</table>\n",
       "</div>"
      ],
      "text/plain": [
       "                                      mean             \n",
       "embed_type                          ft_oov             \n",
       "cm                                   Clash        Match\n",
       "unit     pred_set   arch                               \n",
       "morph    dev_gold   char_cnn   81.95 ± 0.7  83.30 ± 0.5\n",
       "         dev_pruned char_cnn           NaN  81.52 ± 0.5\n",
       "         dev_yap    char_cnn   74.40 ± 1.0  75.68 ± 0.9\n",
       "multitok dev        char_lstm          NaN  80.23 ± 0.7\n",
       "token    dev        char_cnn           NaN  80.79 ± 0.4"
      ]
     },
     "execution_count": 235,
     "metadata": {},
     "output_type": "execute_result"
    }
   ],
   "source": [
    "(mev[mev.pred_set.str.contains('dev')].groupby(['unit', 'pred_set', 'arch', 'embed_type', 'cm'])\n",
    " .f_m.agg(['mean', 'std']).mul(100).round(2)\n",
    " .assign(mean = lambda x: x['mean'].apply('{:,.2f}'.format).astype(str)+' ± '+ x['std'].round(1).astype(str))[['mean']]\n",
    " .unstack([-2,-1]))\n"
   ]
  },
  {
   "cell_type": "code",
   "execution_count": 236,
   "metadata": {},
   "outputs": [
    {
     "data": {
      "text/html": [
       "<div>\n",
       "<style scoped>\n",
       "    .dataframe tbody tr th:only-of-type {\n",
       "        vertical-align: middle;\n",
       "    }\n",
       "\n",
       "    .dataframe tbody tr th {\n",
       "        vertical-align: top;\n",
       "    }\n",
       "\n",
       "    .dataframe thead tr th {\n",
       "        text-align: left;\n",
       "    }\n",
       "\n",
       "    .dataframe thead tr:last-of-type th {\n",
       "        text-align: right;\n",
       "    }\n",
       "</style>\n",
       "<table border=\"1\" class=\"dataframe\">\n",
       "  <thead>\n",
       "    <tr>\n",
       "      <th></th>\n",
       "      <th></th>\n",
       "      <th>embed_type</th>\n",
       "      <th colspan=\"4\" halign=\"left\">ft_oov</th>\n",
       "    </tr>\n",
       "    <tr>\n",
       "      <th></th>\n",
       "      <th></th>\n",
       "      <th>cm</th>\n",
       "      <th colspan=\"2\" halign=\"left\">Clash</th>\n",
       "      <th colspan=\"2\" halign=\"left\">Match</th>\n",
       "    </tr>\n",
       "    <tr>\n",
       "      <th></th>\n",
       "      <th></th>\n",
       "      <th></th>\n",
       "      <th>mean</th>\n",
       "      <th>std</th>\n",
       "      <th>mean</th>\n",
       "      <th>std</th>\n",
       "    </tr>\n",
       "    <tr>\n",
       "      <th>unit</th>\n",
       "      <th>pred_set</th>\n",
       "      <th>arch</th>\n",
       "      <th></th>\n",
       "      <th></th>\n",
       "      <th></th>\n",
       "      <th></th>\n",
       "    </tr>\n",
       "  </thead>\n",
       "  <tbody>\n",
       "    <tr>\n",
       "      <th rowspan=\"3\" valign=\"top\">morph</th>\n",
       "      <th>dev_gold</th>\n",
       "      <th>char_cnn</th>\n",
       "      <td>81.95</td>\n",
       "      <td>0.7</td>\n",
       "      <td>83.30</td>\n",
       "      <td>0.5</td>\n",
       "    </tr>\n",
       "    <tr>\n",
       "      <th>dev_pruned</th>\n",
       "      <th>char_cnn</th>\n",
       "      <td>NaN</td>\n",
       "      <td>NaN</td>\n",
       "      <td>81.52</td>\n",
       "      <td>0.5</td>\n",
       "    </tr>\n",
       "    <tr>\n",
       "      <th>dev_yap</th>\n",
       "      <th>char_cnn</th>\n",
       "      <td>74.40</td>\n",
       "      <td>1.0</td>\n",
       "      <td>75.68</td>\n",
       "      <td>0.9</td>\n",
       "    </tr>\n",
       "    <tr>\n",
       "      <th>multitok</th>\n",
       "      <th>dev</th>\n",
       "      <th>char_lstm</th>\n",
       "      <td>NaN</td>\n",
       "      <td>NaN</td>\n",
       "      <td>80.23</td>\n",
       "      <td>0.7</td>\n",
       "    </tr>\n",
       "    <tr>\n",
       "      <th>token</th>\n",
       "      <th>dev</th>\n",
       "      <th>char_cnn</th>\n",
       "      <td>NaN</td>\n",
       "      <td>NaN</td>\n",
       "      <td>80.79</td>\n",
       "      <td>0.4</td>\n",
       "    </tr>\n",
       "  </tbody>\n",
       "</table>\n",
       "</div>"
      ],
      "text/plain": [
       "embed_type                    ft_oov                 \n",
       "cm                             Clash       Match     \n",
       "                                mean  std   mean  std\n",
       "unit     pred_set   arch                             \n",
       "morph    dev_gold   char_cnn   81.95  0.7  83.30  0.5\n",
       "         dev_pruned char_cnn     NaN  NaN  81.52  0.5\n",
       "         dev_yap    char_cnn   74.40  1.0  75.68  0.9\n",
       "multitok dev        char_lstm    NaN  NaN  80.23  0.7\n",
       "token    dev        char_cnn     NaN  NaN  80.79  0.4"
      ]
     },
     "execution_count": 236,
     "metadata": {},
     "output_type": "execute_result"
    }
   ],
   "source": [
    "x = (mev[mev.pred_set.str.contains('dev')].groupby(['unit', 'pred_set', 'arch', 'embed_type', 'cm'])\n",
    " .f_m.agg([ 'mean', 'std']).mul(100).round(2)\n",
    " .assign(std = lambda x: x['std'].round(1))\n",
    " .unstack([-2,-1]))\n",
    "x.columns = x.columns.reorder_levels([1,2,0])\n",
    "pd.set_option(\"max_columns\", 30)\n",
    "x.sort_index(axis=1)\n"
   ]
  },
  {
   "cell_type": "code",
   "execution_count": 237,
   "metadata": {},
   "outputs": [
    {
     "data": {
      "text/html": [
       "<div>\n",
       "<style scoped>\n",
       "    .dataframe tbody tr th:only-of-type {\n",
       "        vertical-align: middle;\n",
       "    }\n",
       "\n",
       "    .dataframe tbody tr th {\n",
       "        vertical-align: top;\n",
       "    }\n",
       "\n",
       "    .dataframe thead th {\n",
       "        text-align: right;\n",
       "    }\n",
       "</style>\n",
       "<table border=\"1\" class=\"dataframe\">\n",
       "  <thead>\n",
       "    <tr style=\"text-align: right;\">\n",
       "      <th>cm</th>\n",
       "      <th>Match</th>\n",
       "    </tr>\n",
       "    <tr>\n",
       "      <th>pred_set</th>\n",
       "      <th></th>\n",
       "    </tr>\n",
       "  </thead>\n",
       "  <tbody>\n",
       "    <tr>\n",
       "      <th>dev_pruned</th>\n",
       "      <td>0.815201</td>\n",
       "    </tr>\n",
       "    <tr>\n",
       "      <th>test_pruned</th>\n",
       "      <td>0.777842</td>\n",
       "    </tr>\n",
       "  </tbody>\n",
       "</table>\n",
       "</div>"
      ],
      "text/plain": [
       "cm              Match\n",
       "pred_set             \n",
       "dev_pruned   0.815201\n",
       "test_pruned  0.777842"
      ]
     },
     "execution_count": 237,
     "metadata": {},
     "output_type": "execute_result"
    }
   ],
   "source": [
    "mev[(mev.unit=='morph') & (mev.pred_set.str.contains('pruned')) & (mev.embed_type=='ft_oov') & (mev.arch=='char_cnn')].groupby(['pred_set','cm']).f_m.mean().unstack()"
   ]
  },
  {
   "cell_type": "code",
   "execution_count": 238,
   "metadata": {},
   "outputs": [
    {
     "data": {
      "text/html": [
       "<div>\n",
       "<style scoped>\n",
       "    .dataframe tbody tr th:only-of-type {\n",
       "        vertical-align: middle;\n",
       "    }\n",
       "\n",
       "    .dataframe tbody tr th {\n",
       "        vertical-align: top;\n",
       "    }\n",
       "\n",
       "    .dataframe thead th {\n",
       "        text-align: right;\n",
       "    }\n",
       "</style>\n",
       "<table border=\"1\" class=\"dataframe\">\n",
       "  <thead>\n",
       "    <tr style=\"text-align: right;\">\n",
       "      <th></th>\n",
       "      <th></th>\n",
       "      <th>pred_set_main</th>\n",
       "      <th>dev</th>\n",
       "      <th>test</th>\n",
       "      <th>ratio</th>\n",
       "    </tr>\n",
       "    <tr>\n",
       "      <th>unit</th>\n",
       "      <th>pred_set_sub</th>\n",
       "      <th>cm</th>\n",
       "      <th></th>\n",
       "      <th></th>\n",
       "      <th></th>\n",
       "    </tr>\n",
       "  </thead>\n",
       "  <tbody>\n",
       "    <tr>\n",
       "      <th rowspan=\"5\" valign=\"top\">morph</th>\n",
       "      <th rowspan=\"2\" valign=\"top\">gold</th>\n",
       "      <th>Clash</th>\n",
       "      <td>81.95</td>\n",
       "      <td>79.74</td>\n",
       "      <td>-2.7</td>\n",
       "    </tr>\n",
       "    <tr>\n",
       "      <th>Match</th>\n",
       "      <td>83.30</td>\n",
       "      <td>79.94</td>\n",
       "      <td>-4.0</td>\n",
       "    </tr>\n",
       "    <tr>\n",
       "      <th>pruned</th>\n",
       "      <th>Match</th>\n",
       "      <td>81.52</td>\n",
       "      <td>77.78</td>\n",
       "      <td>-4.6</td>\n",
       "    </tr>\n",
       "    <tr>\n",
       "      <th rowspan=\"2\" valign=\"top\">yap</th>\n",
       "      <th>Clash</th>\n",
       "      <td>74.40</td>\n",
       "      <td>69.69</td>\n",
       "      <td>-6.3</td>\n",
       "    </tr>\n",
       "    <tr>\n",
       "      <th>Match</th>\n",
       "      <td>75.68</td>\n",
       "      <td>69.65</td>\n",
       "      <td>-8.0</td>\n",
       "    </tr>\n",
       "    <tr>\n",
       "      <th>multitok</th>\n",
       "      <th></th>\n",
       "      <th>Match</th>\n",
       "      <td>80.23</td>\n",
       "      <td>80.49</td>\n",
       "      <td>0.3</td>\n",
       "    </tr>\n",
       "    <tr>\n",
       "      <th>token</th>\n",
       "      <th></th>\n",
       "      <th>Match</th>\n",
       "      <td>80.79</td>\n",
       "      <td>79.41</td>\n",
       "      <td>-1.7</td>\n",
       "    </tr>\n",
       "  </tbody>\n",
       "</table>\n",
       "</div>"
      ],
      "text/plain": [
       "pred_set_main                  dev   test  ratio\n",
       "unit     pred_set_sub cm                        \n",
       "morph    gold         Clash  81.95  79.74   -2.7\n",
       "                      Match  83.30  79.94   -4.0\n",
       "         pruned       Match  81.52  77.78   -4.6\n",
       "         yap          Clash  74.40  69.69   -6.3\n",
       "                      Match  75.68  69.65   -8.0\n",
       "multitok              Match  80.23  80.49    0.3\n",
       "token                 Match  80.79  79.41   -1.7"
      ]
     },
     "execution_count": 238,
     "metadata": {},
     "output_type": "execute_result"
    }
   ],
   "source": [
    "mev['pred_set_sub'] = mev.pred_set.apply(lambda x: x.split('_')[1] if '_' in x else '')\n",
    "mev['pred_set_main'] = mev.pred_set.apply(lambda x: x.split('_')[0] )\n",
    "(mev[((mev.unit!='morph') & (mev.embed_type=='ft_oov') \n",
    "    ) \n",
    "    |\n",
    "     ((mev.unit=='morph') \n",
    "       & (mev.embed_type=='ft_oov') \n",
    "      & (mev.arch=='char_cnn'))].groupby(['unit', 'pred_set_sub', 'cm', 'pred_set_main',])\n",
    " .f_m.mean().unstack().mul(100).round(2)\n",
    " .assign(ratio = lambda x: (x.test/x.dev -1).mul(100).round(1)))"
   ]
  },
  {
   "cell_type": "code",
   "execution_count": 291,
   "metadata": {},
   "outputs": [
    {
     "name": "stdout",
     "output_type": "stream",
     "text": [
      "\\begin{tabular}{llll}\n",
      "\\toprule\n",
      "      & \\textbf{pred\\_set\\_main} &            dev &           test \\\\\n",
      "\\textbf{unit} & \\textbf{pred\\_set\\_sub} &                &                \\\\\n",
      "\\midrule\n",
      "\\textbf{morph} & \\textbf{gold} &  $83.30 \\pm 0.5$ &  $79.94 \\pm 0.9$ \\\\\n",
      "      & \\textbf{pruned} &  $81.52 \\pm 0.5$ &  $77.78 \\pm 0.9$ \\\\\n",
      "      & \\textbf{yap} &  $75.68 \\pm 0.9$ &  $69.65 \\pm 0.9$ \\\\\n",
      "\\textbf{multitok} &     &  $80.23 \\pm 0.7$ &  $80.49 \\pm 0.9$ \\\\\n",
      "\\textbf{token} &     &  $80.79 \\pm 0.4$ &  $79.41 \\pm 0.6$ \\\\\n",
      "\\bottomrule\n",
      "\\end{tabular}\n",
      "\n"
     ]
    }
   ],
   "source": [
    "x= (mev[ (mev.cm=='Match') & (((mev.unit!='morph') & (mev.embed_type=='ft_oov') \n",
    "    ) \n",
    "    |\n",
    "     ((mev.unit=='morph') \n",
    "       & (mev.embed_type=='ft_oov') \n",
    "      & (mev.arch=='char_cnn')))].groupby(['unit', 'pred_set_sub', 'pred_set_main'])\n",
    "         .f_m.agg(['mean', 'std']).mul(100).round(2)\n",
    "         .assign(mean = lambda x: '$'+x['mean'].apply('{:,.2f}'.format).astype(str)+' ± '+ x['std'].round(1).astype(str)+'$')[['mean']].unstack()\n",
    " )\n",
    "x.columns = x.columns.droplevel(0)\n",
    "print (x.to_latex(bold_rows=True).replace('±', '\\pm').replace('\\$', '$'))"
   ]
  },
  {
   "cell_type": "code",
   "execution_count": 292,
   "metadata": {},
   "outputs": [
    {
     "data": {
      "text/html": [
       "<div>\n",
       "<style scoped>\n",
       "    .dataframe tbody tr th:only-of-type {\n",
       "        vertical-align: middle;\n",
       "    }\n",
       "\n",
       "    .dataframe tbody tr th {\n",
       "        vertical-align: top;\n",
       "    }\n",
       "\n",
       "    .dataframe thead th {\n",
       "        text-align: right;\n",
       "    }\n",
       "</style>\n",
       "<table border=\"1\" class=\"dataframe\">\n",
       "  <thead>\n",
       "    <tr style=\"text-align: right;\">\n",
       "      <th></th>\n",
       "      <th>pred_set_main</th>\n",
       "      <th>dev</th>\n",
       "      <th>test</th>\n",
       "    </tr>\n",
       "    <tr>\n",
       "      <th>unit</th>\n",
       "      <th>pred_set_sub</th>\n",
       "      <th></th>\n",
       "      <th></th>\n",
       "    </tr>\n",
       "  </thead>\n",
       "  <tbody>\n",
       "    <tr>\n",
       "      <th rowspan=\"3\" valign=\"top\">morph</th>\n",
       "      <th>gold</th>\n",
       "      <td>$83.30 ± 0.5$</td>\n",
       "      <td>$79.94 ± 0.9$</td>\n",
       "    </tr>\n",
       "    <tr>\n",
       "      <th>pruned</th>\n",
       "      <td>$81.52 ± 0.5$</td>\n",
       "      <td>$77.78 ± 0.9$</td>\n",
       "    </tr>\n",
       "    <tr>\n",
       "      <th>yap</th>\n",
       "      <td>$75.68 ± 0.9$</td>\n",
       "      <td>$69.65 ± 0.9$</td>\n",
       "    </tr>\n",
       "    <tr>\n",
       "      <th>multitok</th>\n",
       "      <th></th>\n",
       "      <td>$80.23 ± 0.7$</td>\n",
       "      <td>$80.49 ± 0.9$</td>\n",
       "    </tr>\n",
       "    <tr>\n",
       "      <th>token</th>\n",
       "      <th></th>\n",
       "      <td>$80.79 ± 0.4$</td>\n",
       "      <td>$79.41 ± 0.6$</td>\n",
       "    </tr>\n",
       "  </tbody>\n",
       "</table>\n",
       "</div>"
      ],
      "text/plain": [
       "pred_set_main                    dev           test\n",
       "unit     pred_set_sub                              \n",
       "morph    gold          $83.30 ± 0.5$  $79.94 ± 0.9$\n",
       "         pruned        $81.52 ± 0.5$  $77.78 ± 0.9$\n",
       "         yap           $75.68 ± 0.9$  $69.65 ± 0.9$\n",
       "multitok               $80.23 ± 0.7$  $80.49 ± 0.9$\n",
       "token                  $80.79 ± 0.4$  $79.41 ± 0.6$"
      ]
     },
     "execution_count": 292,
     "metadata": {},
     "output_type": "execute_result"
    }
   ],
   "source": [
    "x"
   ]
  },
  {
   "cell_type": "code",
   "execution_count": 213,
   "metadata": {},
   "outputs": [],
   "source": [
    "mev.to_pickle('final_setup/plo_mev.pkl')"
   ]
  },
  {
   "cell_type": "code",
   "execution_count": null,
   "metadata": {},
   "outputs": [],
   "source": [
    "1+1"
   ]
  },
  {
   "cell_type": "code",
   "execution_count": null,
   "metadata": {},
   "outputs": [],
   "source": []
  },
  {
   "cell_type": "code",
   "execution_count": 257,
   "metadata": {},
   "outputs": [
    {
     "data": {
      "text/html": [
       "<div>\n",
       "<style scoped>\n",
       "    .dataframe tbody tr th:only-of-type {\n",
       "        vertical-align: middle;\n",
       "    }\n",
       "\n",
       "    .dataframe tbody tr th {\n",
       "        vertical-align: top;\n",
       "    }\n",
       "\n",
       "    .dataframe thead th {\n",
       "        text-align: right;\n",
       "    }\n",
       "</style>\n",
       "<table border=\"1\" class=\"dataframe\">\n",
       "  <thead>\n",
       "    <tr style=\"text-align: right;\">\n",
       "      <th>set</th>\n",
       "      <th>train</th>\n",
       "      <th>dev</th>\n",
       "      <th>test</th>\n",
       "    </tr>\n",
       "  </thead>\n",
       "  <tbody>\n",
       "    <tr>\n",
       "      <th>PER</th>\n",
       "      <td>2128</td>\n",
       "      <td>193</td>\n",
       "      <td>267</td>\n",
       "    </tr>\n",
       "    <tr>\n",
       "      <th>ORG</th>\n",
       "      <td>2043</td>\n",
       "      <td>119</td>\n",
       "      <td>408</td>\n",
       "    </tr>\n",
       "    <tr>\n",
       "      <th>LOC</th>\n",
       "      <td>1871</td>\n",
       "      <td>161</td>\n",
       "      <td>247</td>\n",
       "    </tr>\n",
       "  </tbody>\n",
       "</table>\n",
       "</div>"
      ],
      "text/plain": [
       "set  train  dev  test\n",
       "PER   2128  193   267\n",
       "ORG   2043  119   408\n",
       "LOC   1871  161   247"
      ]
     },
     "execution_count": 257,
     "metadata": {},
     "output_type": "execute_result"
    }
   ],
   "source": [
    "from collections import defaultdict\n",
    "\n",
    "ne_sets = {\n",
    "    'morph': {\n",
    "        'train': '../NER/data/for_ncrf/morph_gold_train_plo.bmes',\n",
    "        'dev': '../NER/data/for_ncrf/morph_gold_dev_plo.bmes',\n",
    "        'test': '../NER/data/for_ncrf/morph_gold_test_plo.bmes',\n",
    "    },\n",
    "\n",
    "\n",
    "}\n",
    "\n",
    "all_cats = []\n",
    "for unit in ne_sets:\n",
    "    for ps, path in ne_sets[unit].items():\n",
    "        cats = defaultdict(lambda: 0)\n",
    "\n",
    "        gold_sents = nem.read_file_sents(path)\n",
    "        gold_mentions = nem.sents_to_mentions(gold_sents, truncate=None)\n",
    "        for ment in gold_mentions:\n",
    "            cats[ment[2]]+=1\n",
    "\n",
    "        cats.update({'set': ps})\n",
    "        all_cats.append(cats)\n",
    "            \n",
    "cats = pd.DataFrame(all_cats).fillna(0).set_index('set').astype(int)\n",
    "cats.T.sort_values('train', ascending=False)            "
   ]
  },
  {
   "cell_type": "code",
   "execution_count": 258,
   "metadata": {},
   "outputs": [
    {
     "data": {
      "text/html": [
       "<div>\n",
       "<style scoped>\n",
       "    .dataframe tbody tr th:only-of-type {\n",
       "        vertical-align: middle;\n",
       "    }\n",
       "\n",
       "    .dataframe tbody tr th {\n",
       "        vertical-align: top;\n",
       "    }\n",
       "\n",
       "    .dataframe thead th {\n",
       "        text-align: right;\n",
       "    }\n",
       "</style>\n",
       "<table border=\"1\" class=\"dataframe\">\n",
       "  <thead>\n",
       "    <tr style=\"text-align: right;\">\n",
       "      <th>set</th>\n",
       "      <th>train</th>\n",
       "      <th>dev</th>\n",
       "      <th>test</th>\n",
       "    </tr>\n",
       "  </thead>\n",
       "  <tbody>\n",
       "    <tr>\n",
       "      <th>PER</th>\n",
       "      <td>2128</td>\n",
       "      <td>193</td>\n",
       "      <td>267</td>\n",
       "    </tr>\n",
       "    <tr>\n",
       "      <th>ORG</th>\n",
       "      <td>2043</td>\n",
       "      <td>119</td>\n",
       "      <td>408</td>\n",
       "    </tr>\n",
       "    <tr>\n",
       "      <th>LOC</th>\n",
       "      <td>1871</td>\n",
       "      <td>161</td>\n",
       "      <td>247</td>\n",
       "    </tr>\n",
       "  </tbody>\n",
       "</table>\n",
       "</div>"
      ],
      "text/plain": [
       "set  train  dev  test\n",
       "PER   2128  193   267\n",
       "ORG   2043  119   408\n",
       "LOC   1871  161   247"
      ]
     },
     "execution_count": 258,
     "metadata": {},
     "output_type": "execute_result"
    }
   ],
   "source": [
    "from collections import defaultdict\n",
    "\n",
    "ne_sets = {\n",
    "    'token': {\n",
    "        'train': '../NER/data/for_ncrf/token_gold_train_fix_plo.bmes',\n",
    "        'dev': '../NER/data/for_ncrf/token_gold_dev_fix_plo.bmes',\n",
    "        'test': '../NER/data/for_ncrf/token_gold_test_fix_plo.bmes',\n",
    "    },\n",
    "\n",
    "\n",
    "}\n",
    "\n",
    "all_cats = []\n",
    "for unit in ne_sets:\n",
    "    for ps, path in ne_sets[unit].items():\n",
    "        cats = defaultdict(lambda: 0)\n",
    "\n",
    "        gold_sents = nem.read_file_sents(path)\n",
    "        gold_mentions = nem.sents_to_mentions(gold_sents, truncate=None)\n",
    "        for ment in gold_mentions:\n",
    "            cats[ment[2]]+=1\n",
    "\n",
    "        cats.update({'set': ps})\n",
    "        all_cats.append(cats)\n",
    "            \n",
    "cats = pd.DataFrame(all_cats).fillna(0).set_index('set').astype(int)\n",
    "cats.T.sort_values('train', ascending=False)     "
   ]
  },
  {
   "cell_type": "code",
   "execution_count": 155,
   "metadata": {},
   "outputs": [
    {
     "name": "stdout",
     "output_type": "stream",
     "text": [
      "\\begin{tabular}{lrrr}\n",
      "\\toprule\n",
      "\\textbf{set} &  train &   dev &  test \\\\\n",
      "\\midrule\n",
      "\\textbf{PER} & $2128$ & $193$ & $267$ \\\\\n",
      "\\textbf{ORG} & $2043$ & $119$ & $408$ \\\\\n",
      "\\textbf{GPE} & $1377$ & $121$ & $195$ \\\\\n",
      "\\textbf{LOC} &  $331$ &  $28$ &  $41$ \\\\\n",
      "\\textbf{FAC} &  $163$ &  $12$ &  $11$ \\\\\n",
      "\\textbf{WOA} &  $114$ &   $9$ &   $6$ \\\\\n",
      "\\textbf{EVE} &   $57$ &  $12$ &   $0$ \\\\\n",
      "\\textbf{DUC} &   $36$ &   $2$ &   $3$ \\\\\n",
      "\\textbf{ANG} &   $33$ &   $3$ &   $1$ \\\\\n",
      "\\bottomrule\n",
      "\\end{tabular}\n",
      "\n"
     ]
    }
   ],
   "source": [
    "add_dol = lambda x: '$'+str(x)+'$'\n",
    "print (cats.T.sort_values('train', ascending=False)\n",
    "       .to_latex(bold_rows=True, formatters = [add_dol, add_dol, add_dol]).replace('\\$', '$'))"
   ]
  },
  {
   "cell_type": "code",
   "execution_count": 157,
   "metadata": {},
   "outputs": [
    {
     "data": {
      "text/plain": [
       "set\n",
       "train    6282\n",
       "dev       499\n",
       "test      932\n",
       "dtype: int64"
      ]
     },
     "execution_count": 157,
     "metadata": {},
     "output_type": "execute_result"
    }
   ],
   "source": [
    "cats.T.sum()"
   ]
  },
  {
   "cell_type": "code",
   "execution_count": null,
   "metadata": {},
   "outputs": [],
   "source": []
  },
  {
   "cell_type": "markdown",
   "metadata": {},
   "source": [
    "## Eval with ignore category"
   ]
  },
  {
   "cell_type": "code",
   "execution_count": 239,
   "metadata": {},
   "outputs": [],
   "source": [
    "scores = {}"
   ]
  },
  {
   "cell_type": "code",
   "execution_count": 240,
   "metadata": {},
   "outputs": [],
   "source": [
    "if os.path.exists('final_setup/plo_scores_nocat.pkl'):\n",
    "    scores = pickle.load(open('final_setup/plo_scores_nocat.pkl', 'rb'))"
   ]
  },
  {
   "cell_type": "code",
   "execution_count": 241,
   "metadata": {},
   "outputs": [],
   "source": [
    "for file in os.scandir(output_folder):\n",
    "    if file.name=='.ipynb_checkpoints':\n",
    "        continue\n",
    "    gold_name, inp, arch, w_embed, seed_num = file.name.split('.')[:-1]\n",
    "    if (gold_name, inp, arch, w_embed, seed_num) not in scores:\n",
    "        if len(gold_name.split('_'))>2:\n",
    "            unit, pred_set, _ = gold_name.split('_')\n",
    "            gold_path = decode_sets[unit][unit+'_'+pred_set+'_gold']\n",
    "        else:\n",
    "            unit, pred_set = gold_name.split('_')\n",
    "            gold_path = decode_sets[unit][unit+'_'+pred_set]\n",
    "        p, r, f = nem.evaluate_files(gold_path, file, ignore_cat=True)\n",
    "        scores[(gold_name, inp, arch, w_embed, seed_num)] = (p, r, f)\n",
    "    "
   ]
  },
  {
   "cell_type": "code",
   "execution_count": 242,
   "metadata": {},
   "outputs": [],
   "source": [
    "import pickle\n",
    "pickle.dump(scores, open('final_setup/plo_scores_nocat.pkl', 'wb'))"
   ]
  },
  {
   "cell_type": "code",
   "execution_count": 243,
   "metadata": {},
   "outputs": [],
   "source": [
    "score_tups = [(*k, *v) for k,v in scores.items()]"
   ]
  },
  {
   "cell_type": "code",
   "execution_count": 244,
   "metadata": {},
   "outputs": [],
   "source": [
    "mev_nocat = pd.DataFrame(score_tups, columns=('gold_name', 'unit', 'arch', \n",
    "                                        'w_embed', 'seed_num', \n",
    "                                        'p_m', 'r_m', 'f_m'))"
   ]
  },
  {
   "cell_type": "code",
   "execution_count": 245,
   "metadata": {},
   "outputs": [
    {
     "data": {
      "text/plain": [
       "gold_name         unit      arch     \n",
       "morph_dev_gold    morph     char_cnn     20\n",
       "morph_dev_pruned  morph     char_cnn     10\n",
       "morph_dev_yap     morph     char_cnn     20\n",
       "token_dev         multitok  char_lstm    10\n",
       "                  token     char_cnn     10\n",
       "dtype: int64"
      ]
     },
     "execution_count": 245,
     "metadata": {},
     "output_type": "execute_result"
    }
   ],
   "source": [
    "(mev_nocat[mev_nocat.gold_name.str.contains('dev')].groupby(['gold_name', 'unit', 'arch']).size())"
   ]
  },
  {
   "cell_type": "code",
   "execution_count": 246,
   "metadata": {},
   "outputs": [],
   "source": [
    "mev_nocat['pred_set'] = mev_nocat.gold_name.apply(lambda x: '_'.join(x.split('_')[1:]))"
   ]
  },
  {
   "cell_type": "code",
   "execution_count": 247,
   "metadata": {},
   "outputs": [],
   "source": [
    "mev_nocat = mev_nocat.merge(erdf, how='left')"
   ]
  },
  {
   "cell_type": "code",
   "execution_count": 248,
   "metadata": {},
   "outputs": [
    {
     "data": {
      "text/html": [
       "<div>\n",
       "<style scoped>\n",
       "    .dataframe tbody tr th:only-of-type {\n",
       "        vertical-align: middle;\n",
       "    }\n",
       "\n",
       "    .dataframe tbody tr th {\n",
       "        vertical-align: top;\n",
       "    }\n",
       "\n",
       "    .dataframe thead tr th {\n",
       "        text-align: left;\n",
       "    }\n",
       "\n",
       "    .dataframe thead tr:last-of-type th {\n",
       "        text-align: right;\n",
       "    }\n",
       "</style>\n",
       "<table border=\"1\" class=\"dataframe\">\n",
       "  <thead>\n",
       "    <tr>\n",
       "      <th></th>\n",
       "      <th></th>\n",
       "      <th></th>\n",
       "      <th colspan=\"2\" halign=\"left\">mean</th>\n",
       "    </tr>\n",
       "    <tr>\n",
       "      <th></th>\n",
       "      <th></th>\n",
       "      <th>embed_type</th>\n",
       "      <th colspan=\"2\" halign=\"left\">ft_oov</th>\n",
       "    </tr>\n",
       "    <tr>\n",
       "      <th></th>\n",
       "      <th></th>\n",
       "      <th>cm</th>\n",
       "      <th>Clash</th>\n",
       "      <th>Match</th>\n",
       "    </tr>\n",
       "    <tr>\n",
       "      <th>unit</th>\n",
       "      <th>pred_set</th>\n",
       "      <th>arch</th>\n",
       "      <th></th>\n",
       "      <th></th>\n",
       "    </tr>\n",
       "  </thead>\n",
       "  <tbody>\n",
       "    <tr>\n",
       "      <th rowspan=\"3\" valign=\"top\">morph</th>\n",
       "      <th>dev_gold</th>\n",
       "      <th>char_cnn</th>\n",
       "      <td>85.90 ± 0.6</td>\n",
       "      <td>86.47 ± 0.4</td>\n",
       "    </tr>\n",
       "    <tr>\n",
       "      <th>dev_pruned</th>\n",
       "      <th>char_cnn</th>\n",
       "      <td>NaN</td>\n",
       "      <td>84.30 ± 0.5</td>\n",
       "    </tr>\n",
       "    <tr>\n",
       "      <th>dev_yap</th>\n",
       "      <th>char_cnn</th>\n",
       "      <td>78.05 ± 1.0</td>\n",
       "      <td>78.69 ± 0.8</td>\n",
       "    </tr>\n",
       "    <tr>\n",
       "      <th>multitok</th>\n",
       "      <th>dev</th>\n",
       "      <th>char_lstm</th>\n",
       "      <td>NaN</td>\n",
       "      <td>84.45 ± 0.7</td>\n",
       "    </tr>\n",
       "    <tr>\n",
       "      <th>token</th>\n",
       "      <th>dev</th>\n",
       "      <th>char_cnn</th>\n",
       "      <td>NaN</td>\n",
       "      <td>84.30 ± 0.5</td>\n",
       "    </tr>\n",
       "  </tbody>\n",
       "</table>\n",
       "</div>"
      ],
      "text/plain": [
       "                                      mean             \n",
       "embed_type                          ft_oov             \n",
       "cm                                   Clash        Match\n",
       "unit     pred_set   arch                               \n",
       "morph    dev_gold   char_cnn   85.90 ± 0.6  86.47 ± 0.4\n",
       "         dev_pruned char_cnn           NaN  84.30 ± 0.5\n",
       "         dev_yap    char_cnn   78.05 ± 1.0  78.69 ± 0.8\n",
       "multitok dev        char_lstm          NaN  84.45 ± 0.7\n",
       "token    dev        char_cnn           NaN  84.30 ± 0.5"
      ]
     },
     "execution_count": 248,
     "metadata": {},
     "output_type": "execute_result"
    }
   ],
   "source": [
    "(mev_nocat[mev_nocat.pred_set.str.contains('dev')].groupby(['unit', 'pred_set', 'arch', 'embed_type', 'cm'])\n",
    " .f_m.agg(['mean', 'std']).mul(100).round(2)\n",
    " .assign(mean = lambda x: x['mean'].apply('{:,.2f}'.format).astype(str)+' ± '+ x['std'].round(1).astype(str))[['mean']]\n",
    " .unstack([-2,-1]))\n"
   ]
  },
  {
   "cell_type": "code",
   "execution_count": 249,
   "metadata": {},
   "outputs": [
    {
     "data": {
      "text/html": [
       "<div>\n",
       "<style scoped>\n",
       "    .dataframe tbody tr th:only-of-type {\n",
       "        vertical-align: middle;\n",
       "    }\n",
       "\n",
       "    .dataframe tbody tr th {\n",
       "        vertical-align: top;\n",
       "    }\n",
       "\n",
       "    .dataframe thead tr th {\n",
       "        text-align: left;\n",
       "    }\n",
       "\n",
       "    .dataframe thead tr:last-of-type th {\n",
       "        text-align: right;\n",
       "    }\n",
       "</style>\n",
       "<table border=\"1\" class=\"dataframe\">\n",
       "  <thead>\n",
       "    <tr>\n",
       "      <th></th>\n",
       "      <th></th>\n",
       "      <th>embed_type</th>\n",
       "      <th colspan=\"4\" halign=\"left\">ft_oov</th>\n",
       "    </tr>\n",
       "    <tr>\n",
       "      <th></th>\n",
       "      <th></th>\n",
       "      <th>cm</th>\n",
       "      <th colspan=\"2\" halign=\"left\">Clash</th>\n",
       "      <th colspan=\"2\" halign=\"left\">Match</th>\n",
       "    </tr>\n",
       "    <tr>\n",
       "      <th></th>\n",
       "      <th></th>\n",
       "      <th></th>\n",
       "      <th>mean</th>\n",
       "      <th>std</th>\n",
       "      <th>mean</th>\n",
       "      <th>std</th>\n",
       "    </tr>\n",
       "    <tr>\n",
       "      <th>unit</th>\n",
       "      <th>pred_set</th>\n",
       "      <th>arch</th>\n",
       "      <th></th>\n",
       "      <th></th>\n",
       "      <th></th>\n",
       "      <th></th>\n",
       "    </tr>\n",
       "  </thead>\n",
       "  <tbody>\n",
       "    <tr>\n",
       "      <th rowspan=\"3\" valign=\"top\">morph</th>\n",
       "      <th>dev_gold</th>\n",
       "      <th>char_cnn</th>\n",
       "      <td>85.90</td>\n",
       "      <td>0.6</td>\n",
       "      <td>86.47</td>\n",
       "      <td>0.4</td>\n",
       "    </tr>\n",
       "    <tr>\n",
       "      <th>dev_pruned</th>\n",
       "      <th>char_cnn</th>\n",
       "      <td>NaN</td>\n",
       "      <td>NaN</td>\n",
       "      <td>84.30</td>\n",
       "      <td>0.5</td>\n",
       "    </tr>\n",
       "    <tr>\n",
       "      <th>dev_yap</th>\n",
       "      <th>char_cnn</th>\n",
       "      <td>78.05</td>\n",
       "      <td>1.0</td>\n",
       "      <td>78.69</td>\n",
       "      <td>0.8</td>\n",
       "    </tr>\n",
       "    <tr>\n",
       "      <th>multitok</th>\n",
       "      <th>dev</th>\n",
       "      <th>char_lstm</th>\n",
       "      <td>NaN</td>\n",
       "      <td>NaN</td>\n",
       "      <td>84.45</td>\n",
       "      <td>0.7</td>\n",
       "    </tr>\n",
       "    <tr>\n",
       "      <th>token</th>\n",
       "      <th>dev</th>\n",
       "      <th>char_cnn</th>\n",
       "      <td>NaN</td>\n",
       "      <td>NaN</td>\n",
       "      <td>84.30</td>\n",
       "      <td>0.5</td>\n",
       "    </tr>\n",
       "  </tbody>\n",
       "</table>\n",
       "</div>"
      ],
      "text/plain": [
       "embed_type                    ft_oov                 \n",
       "cm                             Clash       Match     \n",
       "                                mean  std   mean  std\n",
       "unit     pred_set   arch                             \n",
       "morph    dev_gold   char_cnn   85.90  0.6  86.47  0.4\n",
       "         dev_pruned char_cnn     NaN  NaN  84.30  0.5\n",
       "         dev_yap    char_cnn   78.05  1.0  78.69  0.8\n",
       "multitok dev        char_lstm    NaN  NaN  84.45  0.7\n",
       "token    dev        char_cnn     NaN  NaN  84.30  0.5"
      ]
     },
     "execution_count": 249,
     "metadata": {},
     "output_type": "execute_result"
    }
   ],
   "source": [
    "x = (mev_nocat[mev_nocat.pred_set.str.contains('dev')].groupby(['unit', 'pred_set', 'arch', 'embed_type', 'cm'])\n",
    " .f_m.agg([ 'mean', 'std']).mul(100).round(2)\n",
    " .assign(std = lambda x: x['std'].round(1))\n",
    " .unstack([-2,-1]))\n",
    "x.columns = x.columns.reorder_levels([1,2,0])\n",
    "pd.set_option(\"max_columns\", 30)\n",
    "x.sort_index(axis=1)\n"
   ]
  },
  {
   "cell_type": "code",
   "execution_count": 250,
   "metadata": {},
   "outputs": [
    {
     "data": {
      "text/html": [
       "<div>\n",
       "<style scoped>\n",
       "    .dataframe tbody tr th:only-of-type {\n",
       "        vertical-align: middle;\n",
       "    }\n",
       "\n",
       "    .dataframe tbody tr th {\n",
       "        vertical-align: top;\n",
       "    }\n",
       "\n",
       "    .dataframe thead th {\n",
       "        text-align: right;\n",
       "    }\n",
       "</style>\n",
       "<table border=\"1\" class=\"dataframe\">\n",
       "  <thead>\n",
       "    <tr style=\"text-align: right;\">\n",
       "      <th>cm</th>\n",
       "      <th>Match</th>\n",
       "    </tr>\n",
       "    <tr>\n",
       "      <th>pred_set</th>\n",
       "      <th></th>\n",
       "    </tr>\n",
       "  </thead>\n",
       "  <tbody>\n",
       "    <tr>\n",
       "      <th>dev_pruned</th>\n",
       "      <td>0.843030</td>\n",
       "    </tr>\n",
       "    <tr>\n",
       "      <th>test_pruned</th>\n",
       "      <td>0.836174</td>\n",
       "    </tr>\n",
       "  </tbody>\n",
       "</table>\n",
       "</div>"
      ],
      "text/plain": [
       "cm              Match\n",
       "pred_set             \n",
       "dev_pruned   0.843030\n",
       "test_pruned  0.836174"
      ]
     },
     "execution_count": 250,
     "metadata": {},
     "output_type": "execute_result"
    }
   ],
   "source": [
    "mev_nocat[(mev_nocat.unit=='morph') \n",
    "          & (mev_nocat.pred_set.str.contains('pruned')) & (mev_nocat.embed_type=='ft_oov') \n",
    "          & (mev_nocat.arch=='char_cnn')].groupby(['pred_set','cm']).f_m.mean().unstack()"
   ]
  },
  {
   "cell_type": "code",
   "execution_count": 252,
   "metadata": {},
   "outputs": [
    {
     "data": {
      "text/html": [
       "<div>\n",
       "<style scoped>\n",
       "    .dataframe tbody tr th:only-of-type {\n",
       "        vertical-align: middle;\n",
       "    }\n",
       "\n",
       "    .dataframe tbody tr th {\n",
       "        vertical-align: top;\n",
       "    }\n",
       "\n",
       "    .dataframe thead th {\n",
       "        text-align: right;\n",
       "    }\n",
       "</style>\n",
       "<table border=\"1\" class=\"dataframe\">\n",
       "  <thead>\n",
       "    <tr style=\"text-align: right;\">\n",
       "      <th></th>\n",
       "      <th></th>\n",
       "      <th>pred_set_main</th>\n",
       "      <th>dev</th>\n",
       "      <th>test</th>\n",
       "      <th>ratio</th>\n",
       "    </tr>\n",
       "    <tr>\n",
       "      <th>unit</th>\n",
       "      <th>pred_set_sub</th>\n",
       "      <th>cm</th>\n",
       "      <th></th>\n",
       "      <th></th>\n",
       "      <th></th>\n",
       "    </tr>\n",
       "  </thead>\n",
       "  <tbody>\n",
       "    <tr>\n",
       "      <th rowspan=\"5\" valign=\"top\">morph</th>\n",
       "      <th rowspan=\"2\" valign=\"top\">gold</th>\n",
       "      <th>Clash</th>\n",
       "      <td>85.90</td>\n",
       "      <td>85.84</td>\n",
       "      <td>-0.1</td>\n",
       "    </tr>\n",
       "    <tr>\n",
       "      <th>Match</th>\n",
       "      <td>86.47</td>\n",
       "      <td>86.19</td>\n",
       "      <td>-0.3</td>\n",
       "    </tr>\n",
       "    <tr>\n",
       "      <th>pruned</th>\n",
       "      <th>Match</th>\n",
       "      <td>84.30</td>\n",
       "      <td>83.62</td>\n",
       "      <td>-0.8</td>\n",
       "    </tr>\n",
       "    <tr>\n",
       "      <th rowspan=\"2\" valign=\"top\">yap</th>\n",
       "      <th>Clash</th>\n",
       "      <td>78.05</td>\n",
       "      <td>74.62</td>\n",
       "      <td>-4.4</td>\n",
       "    </tr>\n",
       "    <tr>\n",
       "      <th>Match</th>\n",
       "      <td>78.69</td>\n",
       "      <td>74.98</td>\n",
       "      <td>-4.7</td>\n",
       "    </tr>\n",
       "    <tr>\n",
       "      <th>multitok</th>\n",
       "      <th></th>\n",
       "      <th>Match</th>\n",
       "      <td>84.45</td>\n",
       "      <td>86.18</td>\n",
       "      <td>2.0</td>\n",
       "    </tr>\n",
       "    <tr>\n",
       "      <th>token</th>\n",
       "      <th></th>\n",
       "      <th>Match</th>\n",
       "      <td>84.30</td>\n",
       "      <td>84.82</td>\n",
       "      <td>0.6</td>\n",
       "    </tr>\n",
       "  </tbody>\n",
       "</table>\n",
       "</div>"
      ],
      "text/plain": [
       "pred_set_main                  dev   test  ratio\n",
       "unit     pred_set_sub cm                        \n",
       "morph    gold         Clash  85.90  85.84   -0.1\n",
       "                      Match  86.47  86.19   -0.3\n",
       "         pruned       Match  84.30  83.62   -0.8\n",
       "         yap          Clash  78.05  74.62   -4.4\n",
       "                      Match  78.69  74.98   -4.7\n",
       "multitok              Match  84.45  86.18    2.0\n",
       "token                 Match  84.30  84.82    0.6"
      ]
     },
     "execution_count": 252,
     "metadata": {},
     "output_type": "execute_result"
    }
   ],
   "source": [
    "mev_nocat['pred_set_sub'] = mev_nocat.pred_set.apply(lambda x: x.split('_')[1] if '_' in x else '')\n",
    "mev_nocat['pred_set_main'] = mev_nocat.pred_set.apply(lambda x: x.split('_')[0] )\n",
    "(mev_nocat[((mev_nocat.unit!='morph') & (mev_nocat.embed_type=='ft_oov') ) \n",
    "    |\n",
    "     ((mev_nocat.unit=='morph') \n",
    "       & (mev_nocat.embed_type=='ft_oov') \n",
    "      & (mev_nocat.arch=='char_cnn'))].groupby(['unit', 'pred_set_sub', 'cm', 'pred_set_main',])\n",
    " .f_m.mean().unstack().mul(100).round(2)\n",
    " .assign(ratio = lambda x: (x.test/x.dev -1).mul(100).round(1)))"
   ]
  },
  {
   "cell_type": "code",
   "execution_count": 253,
   "metadata": {},
   "outputs": [],
   "source": [
    "mev.to_pickle('final_setup/plo_mev_nocat.pkl')"
   ]
  },
  {
   "cell_type": "code",
   "execution_count": null,
   "metadata": {},
   "outputs": [],
   "source": []
  },
  {
   "cell_type": "code",
   "execution_count": null,
   "metadata": {},
   "outputs": [],
   "source": []
  },
  {
   "cell_type": "code",
   "execution_count": null,
   "metadata": {},
   "outputs": [],
   "source": []
  },
  {
   "cell_type": "code",
   "execution_count": null,
   "metadata": {},
   "outputs": [],
   "source": []
  },
  {
   "cell_type": "code",
   "execution_count": null,
   "metadata": {},
   "outputs": [],
   "source": []
  },
  {
   "cell_type": "code",
   "execution_count": null,
   "metadata": {},
   "outputs": [],
   "source": []
  },
  {
   "cell_type": "code",
   "execution_count": null,
   "metadata": {},
   "outputs": [],
   "source": []
  },
  {
   "cell_type": "code",
   "execution_count": null,
   "metadata": {},
   "outputs": [],
   "source": []
  },
  {
   "cell_type": "code",
   "execution_count": null,
   "metadata": {},
   "outputs": [],
   "source": []
  },
  {
   "cell_type": "code",
   "execution_count": null,
   "metadata": {},
   "outputs": [],
   "source": []
  },
  {
   "cell_type": "code",
   "execution_count": null,
   "metadata": {},
   "outputs": [],
   "source": []
  },
  {
   "cell_type": "code",
   "execution_count": null,
   "metadata": {},
   "outputs": [],
   "source": []
  },
  {
   "cell_type": "code",
   "execution_count": null,
   "metadata": {},
   "outputs": [],
   "source": []
  },
  {
   "cell_type": "code",
   "execution_count": null,
   "metadata": {},
   "outputs": [],
   "source": []
  },
  {
   "cell_type": "code",
   "execution_count": null,
   "metadata": {},
   "outputs": [],
   "source": []
  },
  {
   "cell_type": "code",
   "execution_count": null,
   "metadata": {},
   "outputs": [],
   "source": []
  },
  {
   "cell_type": "code",
   "execution_count": null,
   "metadata": {},
   "outputs": [],
   "source": []
  },
  {
   "cell_type": "code",
   "execution_count": null,
   "metadata": {},
   "outputs": [],
   "source": []
  },
  {
   "cell_type": "code",
   "execution_count": null,
   "metadata": {},
   "outputs": [],
   "source": []
  },
  {
   "cell_type": "code",
   "execution_count": null,
   "metadata": {},
   "outputs": [],
   "source": []
  },
  {
   "cell_type": "code",
   "execution_count": null,
   "metadata": {},
   "outputs": [],
   "source": []
  },
  {
   "cell_type": "code",
   "execution_count": null,
   "metadata": {},
   "outputs": [],
   "source": []
  },
  {
   "cell_type": "code",
   "execution_count": null,
   "metadata": {},
   "outputs": [],
   "source": []
  },
  {
   "cell_type": "code",
   "execution_count": null,
   "metadata": {},
   "outputs": [],
   "source": []
  },
  {
   "cell_type": "code",
   "execution_count": null,
   "metadata": {},
   "outputs": [],
   "source": []
  },
  {
   "cell_type": "code",
   "execution_count": null,
   "metadata": {},
   "outputs": [],
   "source": []
  },
  {
   "cell_type": "code",
   "execution_count": null,
   "metadata": {},
   "outputs": [],
   "source": []
  },
  {
   "cell_type": "code",
   "execution_count": null,
   "metadata": {},
   "outputs": [],
   "source": []
  },
  {
   "cell_type": "code",
   "execution_count": null,
   "metadata": {},
   "outputs": [],
   "source": []
  },
  {
   "cell_type": "code",
   "execution_count": null,
   "metadata": {},
   "outputs": [],
   "source": []
  },
  {
   "cell_type": "code",
   "execution_count": null,
   "metadata": {},
   "outputs": [],
   "source": []
  },
  {
   "cell_type": "code",
   "execution_count": null,
   "metadata": {},
   "outputs": [],
   "source": []
  },
  {
   "cell_type": "code",
   "execution_count": null,
   "metadata": {},
   "outputs": [],
   "source": []
  },
  {
   "cell_type": "code",
   "execution_count": null,
   "metadata": {},
   "outputs": [],
   "source": []
  },
  {
   "cell_type": "code",
   "execution_count": null,
   "metadata": {},
   "outputs": [],
   "source": []
  },
  {
   "cell_type": "code",
   "execution_count": null,
   "metadata": {},
   "outputs": [],
   "source": []
  },
  {
   "cell_type": "code",
   "execution_count": null,
   "metadata": {},
   "outputs": [],
   "source": []
  },
  {
   "cell_type": "code",
   "execution_count": null,
   "metadata": {},
   "outputs": [],
   "source": []
  },
  {
   "cell_type": "code",
   "execution_count": null,
   "metadata": {},
   "outputs": [],
   "source": []
  },
  {
   "cell_type": "code",
   "execution_count": null,
   "metadata": {},
   "outputs": [],
   "source": []
  },
  {
   "cell_type": "code",
   "execution_count": null,
   "metadata": {},
   "outputs": [],
   "source": []
  },
  {
   "cell_type": "code",
   "execution_count": null,
   "metadata": {},
   "outputs": [],
   "source": []
  },
  {
   "cell_type": "code",
   "execution_count": null,
   "metadata": {},
   "outputs": [],
   "source": []
  },
  {
   "cell_type": "code",
   "execution_count": null,
   "metadata": {},
   "outputs": [],
   "source": []
  },
  {
   "cell_type": "code",
   "execution_count": null,
   "metadata": {},
   "outputs": [],
   "source": []
  },
  {
   "cell_type": "code",
   "execution_count": null,
   "metadata": {},
   "outputs": [],
   "source": []
  },
  {
   "cell_type": "code",
   "execution_count": null,
   "metadata": {},
   "outputs": [],
   "source": []
  },
  {
   "cell_type": "code",
   "execution_count": null,
   "metadata": {},
   "outputs": [],
   "source": []
  },
  {
   "cell_type": "code",
   "execution_count": null,
   "metadata": {},
   "outputs": [],
   "source": []
  },
  {
   "cell_type": "code",
   "execution_count": null,
   "metadata": {},
   "outputs": [],
   "source": []
  },
  {
   "cell_type": "code",
   "execution_count": null,
   "metadata": {},
   "outputs": [],
   "source": []
  },
  {
   "cell_type": "code",
   "execution_count": null,
   "metadata": {},
   "outputs": [],
   "source": []
  },
  {
   "cell_type": "code",
   "execution_count": null,
   "metadata": {},
   "outputs": [],
   "source": []
  },
  {
   "cell_type": "code",
   "execution_count": null,
   "metadata": {},
   "outputs": [],
   "source": []
  },
  {
   "cell_type": "code",
   "execution_count": null,
   "metadata": {},
   "outputs": [],
   "source": []
  },
  {
   "cell_type": "code",
   "execution_count": null,
   "metadata": {},
   "outputs": [],
   "source": []
  },
  {
   "cell_type": "code",
   "execution_count": null,
   "metadata": {},
   "outputs": [],
   "source": []
  },
  {
   "cell_type": "code",
   "execution_count": null,
   "metadata": {},
   "outputs": [],
   "source": []
  }
 ],
 "metadata": {
  "kernelspec": {
   "display_name": "tf",
   "language": "python",
   "name": "tf"
  },
  "language_info": {
   "codemirror_mode": {
    "name": "ipython",
    "version": 3
   },
   "file_extension": ".py",
   "mimetype": "text/x-python",
   "name": "python",
   "nbconvert_exporter": "python",
   "pygments_lexer": "ipython3",
   "version": "3.7.5"
  }
 },
 "nbformat": 4,
 "nbformat_minor": 4
}
