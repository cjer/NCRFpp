{
 "cells": [
  {
   "cell_type": "code",
   "execution_count": 200,
   "metadata": {},
   "outputs": [
    {
     "name": "stdout",
     "output_type": "stream",
     "text": [
      "The autoreload extension is already loaded. To reload it, use:\n",
      "  %reload_ext autoreload\n"
     ]
    }
   ],
   "source": [
    "%load_ext autoreload\n",
    "%autoreload 2"
   ]
  },
  {
   "cell_type": "code",
   "execution_count": 201,
   "metadata": {},
   "outputs": [],
   "source": [
    "import configs"
   ]
  },
  {
   "cell_type": "code",
   "execution_count": 203,
   "metadata": {},
   "outputs": [],
   "source": [
    "lstm_gen = configs.config_generator('CharLSTM')"
   ]
  },
  {
   "cell_type": "code",
   "execution_count": 204,
   "metadata": {},
   "outputs": [],
   "source": [
    "lstm_confs = configs.get_x_configs('CharLSTM', 100)"
   ]
  },
  {
   "cell_type": "code",
   "execution_count": 205,
   "metadata": {},
   "outputs": [],
   "source": [
    "import pandas as pd\n",
    "df = pd.DataFrame(lstm_confs)"
   ]
  },
  {
   "cell_type": "code",
   "execution_count": 206,
   "metadata": {},
   "outputs": [
    {
     "data": {
      "text/plain": [
       "SGD        40\n",
       "RMSProp    32\n",
       "Adam       28\n",
       "Name: optimizer, dtype: int64"
      ]
     },
     "execution_count": 206,
     "metadata": {},
     "output_type": "execute_result"
    }
   ],
   "source": [
    "df.optimizer.value_counts()"
   ]
  },
  {
   "cell_type": "code",
   "execution_count": 207,
   "metadata": {},
   "outputs": [
    {
     "data": {
      "text/plain": [
       "2    53\n",
       "1    47\n",
       "Name: lstm_layer, dtype: int64"
      ]
     },
     "execution_count": 207,
     "metadata": {},
     "output_type": "execute_result"
    }
   ],
   "source": [
    "df.lstm_layer.value_counts()"
   ]
  },
  {
   "cell_type": "code",
   "execution_count": 208,
   "metadata": {},
   "outputs": [
    {
     "data": {
      "text/plain": [
       "30    37\n",
       "10    36\n",
       "20    27\n",
       "Name: batch_size, dtype: int64"
      ]
     },
     "execution_count": 208,
     "metadata": {},
     "output_type": "execute_result"
    }
   ],
   "source": [
    "df.batch_size.value_counts()"
   ]
  },
  {
   "cell_type": "code",
   "execution_count": 212,
   "metadata": {},
   "outputs": [],
   "source": [
    "cnn_confs = configs.get_x_configs('CharCNN', 100)"
   ]
  },
  {
   "cell_type": "code",
   "execution_count": 213,
   "metadata": {},
   "outputs": [],
   "source": [
    "import pandas as pd\n",
    "cdf = pd.DataFrame(cnn_confs)"
   ]
  },
  {
   "cell_type": "code",
   "execution_count": 214,
   "metadata": {},
   "outputs": [
    {
     "data": {
      "text/plain": [
       "SGD        34\n",
       "Adam       34\n",
       "RMSProp    32\n",
       "Name: optimizer, dtype: int64"
      ]
     },
     "execution_count": 214,
     "metadata": {},
     "output_type": "execute_result"
    }
   ],
   "source": [
    "cdf.optimizer.value_counts()"
   ]
  },
  {
   "cell_type": "code",
   "execution_count": 215,
   "metadata": {},
   "outputs": [
    {
     "data": {
      "text/plain": [
       "1    52\n",
       "2    48\n",
       "Name: lstm_layer, dtype: int64"
      ]
     },
     "execution_count": 215,
     "metadata": {},
     "output_type": "execute_result"
    }
   ],
   "source": [
    "cdf.lstm_layer.value_counts()"
   ]
  },
  {
   "cell_type": "code",
   "execution_count": 216,
   "metadata": {},
   "outputs": [
    {
     "data": {
      "text/plain": [
       "30    36\n",
       "20    32\n",
       "10    32\n",
       "Name: batch_size, dtype: int64"
      ]
     },
     "execution_count": 216,
     "metadata": {},
     "output_type": "execute_result"
    }
   ],
   "source": [
    "cdf.batch_size.value_counts()"
   ]
  },
  {
   "cell_type": "code",
   "execution_count": 217,
   "metadata": {},
   "outputs": [],
   "source": [
    "import os"
   ]
  },
  {
   "cell_type": "raw",
   "metadata": {},
   "source": [
    "os.mkdir('hp_search/models')"
   ]
  },
  {
   "cell_type": "raw",
   "metadata": {},
   "source": [
    "os.mkdir('hp_search')\n",
    "os.mkdir('hp_search/conf')"
   ]
  },
  {
   "cell_type": "raw",
   "metadata": {},
   "source": [
    "os.mkdir('hp_search/conf_json')"
   ]
  },
  {
   "cell_type": "code",
   "execution_count": 218,
   "metadata": {},
   "outputs": [],
   "source": [
    "import json\n",
    "\n",
    "max_digits = len(str(len(lstm_confs)))\n",
    "full_confs = []\n",
    "for i, conf in enumerate(lstm_confs):\n",
    "    fc = configs.create_conf_file(f'hp_search/conf/morph_charlstm.{str(i).zfill(max_digits)}.conf', \n",
    "                             f'hp_search/models/morph_charlstm.{str(i).zfill(max_digits)}.model', \n",
    "                             'gold_morpheme', \n",
    "                             conf, \n",
    "                             'alt_tok_yap_ft_sg')\n",
    "    full_confs.append(fc)\n",
    "\n",
    "for i, fc in enumerate(full_confs):\n",
    "    with open( f'hp_search/conf_json/morph_charlstm.{str(i).zfill(max_digits)}.json', 'w') as of:\n",
    "        of.write(json.dumps(fc))"
   ]
  },
  {
   "cell_type": "code",
   "execution_count": 219,
   "metadata": {},
   "outputs": [],
   "source": [
    "max_digits = len(str(len(cnn_confs)))\n",
    "full_confs = []\n",
    "for i, conf in enumerate(cnn_confs):\n",
    "    fc = configs.create_conf_file(f'hp_search/conf/morph_charcnn.{str(i).zfill(max_digits)}.conf', \n",
    "                             f'hp_search/models/morph_charcnn.{str(i).zfill(max_digits)}.model', \n",
    "                             'gold_morpheme', \n",
    "                             conf, \n",
    "                             'alt_tok_yap_ft_sg')\n",
    "    full_confs.append(fc)\n",
    "\n",
    "for i, fc in enumerate(full_confs):\n",
    "    with open( f'hp_search/conf_json/morph_charcnn.{str(i).zfill(max_digits)}.json', 'w') as of:\n",
    "        of.write(json.dumps(fc))"
   ]
  },
  {
   "cell_type": "markdown",
   "metadata": {},
   "source": [
    "## Token"
   ]
  },
  {
   "cell_type": "code",
   "execution_count": 220,
   "metadata": {},
   "outputs": [],
   "source": [
    "max_digits = len(str(len(lstm_confs)))\n",
    "full_confs = []\n",
    "for i, conf in enumerate(lstm_confs):\n",
    "    fc = configs.create_conf_file(f'hp_search/conf/token_charlstm.{str(i).zfill(max_digits)}.conf', \n",
    "                             f'hp_search/models/token_charlstm.{str(i).zfill(max_digits)}.model', \n",
    "                             'gold_token_bioes', \n",
    "                             conf, \n",
    "                             'alt_tok_tokenized_ft_sg')\n",
    "    full_confs.append(fc)\n",
    "\n",
    "for i, fc in enumerate(full_confs):\n",
    "    with open( f'hp_search/conf_json/token_charlstm.{str(i).zfill(max_digits)}.json', 'w') as of:\n",
    "        of.write(json.dumps(fc))"
   ]
  },
  {
   "cell_type": "code",
   "execution_count": 221,
   "metadata": {},
   "outputs": [],
   "source": [
    "max_digits = len(str(len(cnn_confs)))\n",
    "full_confs = []\n",
    "for i, conf in enumerate(cnn_confs):\n",
    "    fc = configs.create_conf_file(f'hp_search/conf/token_charcnn.{str(i).zfill(max_digits)}.conf', \n",
    "                             f'hp_search/models/token_charcnn.{str(i).zfill(max_digits)}.model', \n",
    "                             'gold_token_bioes', \n",
    "                             conf, \n",
    "                             'alt_tok_tokenized_ft_sg')\n",
    "    full_confs.append(fc)\n",
    "\n",
    "for i, fc in enumerate(full_confs):\n",
    "    with open( f'hp_search/conf_json/token_charcnn.{str(i).zfill(max_digits)}.json', 'w') as of:\n",
    "        of.write(json.dumps(fc))"
   ]
  },
  {
   "cell_type": "code",
   "execution_count": null,
   "metadata": {},
   "outputs": [],
   "source": []
  },
  {
   "cell_type": "code",
   "execution_count": null,
   "metadata": {},
   "outputs": [],
   "source": []
  },
  {
   "cell_type": "markdown",
   "metadata": {},
   "source": [
    "## Check results"
   ]
  },
  {
   "cell_type": "code",
   "execution_count": 342,
   "metadata": {},
   "outputs": [
    {
     "data": {
      "text/plain": [
       "(24, 24)"
      ]
     },
     "execution_count": 342,
     "metadata": {},
     "output_type": "execute_result"
    }
   ],
   "source": [
    "len(cnn_confs[0]), len(lstm_confs[0])"
   ]
  },
  {
   "cell_type": "code",
   "execution_count": 352,
   "metadata": {},
   "outputs": [
    {
     "data": {
      "text/plain": [
       "{'word_seq_feature': 'LSTM',\n",
       " 'word_emb_dim': 300,\n",
       " 'char_emb_dim': 30,\n",
       " 'iteration': 100,\n",
       " 'bilstm': True,\n",
       " 'norm_word_emb': False,\n",
       " 'norm_char_emb': False,\n",
       " 'ave_batch_loss': False,\n",
       " 'l2': 1e-08,\n",
       " 'lstm_layer': 2,\n",
       " 'batch_size': 10,\n",
       " 'number_normalized': False,\n",
       " 'optimizer': 'SGD',\n",
       " 'nbest': 1,\n",
       " 'char_seq_feature': 'LSTM',\n",
       " 'use_char': True,\n",
       " 'use_crf': True,\n",
       " 'char_hidden_dim': 50,\n",
       " 'hidden_dim': 200,\n",
       " 'dropout': 0.5,\n",
       " 'cnn_layer': 8,\n",
       " 'learning_rate': 0.015,\n",
       " 'lr_decay': 0.05,\n",
       " 'momentum': 0}"
      ]
     },
     "execution_count": 352,
     "metadata": {},
     "output_type": "execute_result"
    }
   ],
   "source": [
    "lstm_confs[0]"
   ]
  },
  {
   "cell_type": "code",
   "execution_count": 359,
   "metadata": {},
   "outputs": [],
   "source": [
    "import re\n",
    "DEV_RES_LINE = re.compile('Dev: .*; acc: (?P<acc>[^,]+), p: (?P<p>[^,]+), r: (?P<r>[^,]+), f: (?P<f>[-\\d\\.]+)')\n",
    "\n",
    "\n",
    "res = []\n",
    "for f in os.scandir('hp_search/logs'):\n",
    "    if f.name.startswith('.ipy'):\n",
    "        continue\n",
    "    arch = f.name.split('.')[0]\n",
    "    conf_num = f.name.split('.')[1]\n",
    "    matching_conf = cnn_confs[int(conf_num)] if 'cnn' in arch else lstm_confs[int(conf_num)]\n",
    "    params = { 'arch': arch, 'conf_num': conf_num}\n",
    "    params.update(matching_conf)\n",
    "    with open(f.path, 'r') as fp:\n",
    "        i= 0\n",
    "        for line in fp:\n",
    "            m = DEV_RES_LINE.match(line)\n",
    "            if m:\n",
    "                r = m.groupdict().copy()\n",
    "                for k, v in r.items():\n",
    "                    r[k] = float(v)\n",
    "                r.update(params)\n",
    "                r['epoch'] = i\n",
    "                i+=1\n",
    "                res.append(r)"
   ]
  },
  {
   "cell_type": "code",
   "execution_count": 360,
   "metadata": {},
   "outputs": [],
   "source": [
    "rdf = pd.DataFrame(res)"
   ]
  },
  {
   "cell_type": "code",
   "execution_count": 361,
   "metadata": {},
   "outputs": [
    {
     "data": {
      "text/html": [
       "<div>\n",
       "<style scoped>\n",
       "    .dataframe tbody tr th:only-of-type {\n",
       "        vertical-align: middle;\n",
       "    }\n",
       "\n",
       "    .dataframe tbody tr th {\n",
       "        vertical-align: top;\n",
       "    }\n",
       "\n",
       "    .dataframe thead th {\n",
       "        text-align: right;\n",
       "    }\n",
       "</style>\n",
       "<table border=\"1\" class=\"dataframe\">\n",
       "  <thead>\n",
       "    <tr style=\"text-align: right;\">\n",
       "      <th></th>\n",
       "      <th>acc</th>\n",
       "      <th>p</th>\n",
       "      <th>r</th>\n",
       "      <th>f</th>\n",
       "      <th>arch</th>\n",
       "      <th>conf_num</th>\n",
       "      <th>word_seq_feature</th>\n",
       "      <th>word_emb_dim</th>\n",
       "      <th>char_emb_dim</th>\n",
       "      <th>iteration</th>\n",
       "      <th>...</th>\n",
       "      <th>use_char</th>\n",
       "      <th>use_crf</th>\n",
       "      <th>char_hidden_dim</th>\n",
       "      <th>hidden_dim</th>\n",
       "      <th>dropout</th>\n",
       "      <th>cnn_layer</th>\n",
       "      <th>learning_rate</th>\n",
       "      <th>epoch</th>\n",
       "      <th>lr_decay</th>\n",
       "      <th>momentum</th>\n",
       "    </tr>\n",
       "  </thead>\n",
       "  <tbody>\n",
       "    <tr>\n",
       "      <th>0</th>\n",
       "      <td>0.9027</td>\n",
       "      <td>-1.0000</td>\n",
       "      <td>0.0000</td>\n",
       "      <td>-1.0000</td>\n",
       "      <td>token_charlstm</td>\n",
       "      <td>019</td>\n",
       "      <td>LSTM</td>\n",
       "      <td>300</td>\n",
       "      <td>30</td>\n",
       "      <td>100</td>\n",
       "      <td>...</td>\n",
       "      <td>True</td>\n",
       "      <td>True</td>\n",
       "      <td>50</td>\n",
       "      <td>50</td>\n",
       "      <td>0.3</td>\n",
       "      <td>8</td>\n",
       "      <td>0.001</td>\n",
       "      <td>0</td>\n",
       "      <td>NaN</td>\n",
       "      <td>NaN</td>\n",
       "    </tr>\n",
       "    <tr>\n",
       "      <th>1</th>\n",
       "      <td>0.9090</td>\n",
       "      <td>0.5775</td>\n",
       "      <td>0.0822</td>\n",
       "      <td>0.1439</td>\n",
       "      <td>token_charlstm</td>\n",
       "      <td>019</td>\n",
       "      <td>LSTM</td>\n",
       "      <td>300</td>\n",
       "      <td>30</td>\n",
       "      <td>100</td>\n",
       "      <td>...</td>\n",
       "      <td>True</td>\n",
       "      <td>True</td>\n",
       "      <td>50</td>\n",
       "      <td>50</td>\n",
       "      <td>0.3</td>\n",
       "      <td>8</td>\n",
       "      <td>0.001</td>\n",
       "      <td>0</td>\n",
       "      <td>NaN</td>\n",
       "      <td>NaN</td>\n",
       "    </tr>\n",
       "    <tr>\n",
       "      <th>2</th>\n",
       "      <td>0.9333</td>\n",
       "      <td>0.6075</td>\n",
       "      <td>0.3567</td>\n",
       "      <td>0.4495</td>\n",
       "      <td>token_charlstm</td>\n",
       "      <td>019</td>\n",
       "      <td>LSTM</td>\n",
       "      <td>300</td>\n",
       "      <td>30</td>\n",
       "      <td>100</td>\n",
       "      <td>...</td>\n",
       "      <td>True</td>\n",
       "      <td>True</td>\n",
       "      <td>50</td>\n",
       "      <td>50</td>\n",
       "      <td>0.3</td>\n",
       "      <td>8</td>\n",
       "      <td>0.001</td>\n",
       "      <td>0</td>\n",
       "      <td>NaN</td>\n",
       "      <td>NaN</td>\n",
       "    </tr>\n",
       "    <tr>\n",
       "      <th>3</th>\n",
       "      <td>0.9400</td>\n",
       "      <td>0.5895</td>\n",
       "      <td>0.4489</td>\n",
       "      <td>0.5097</td>\n",
       "      <td>token_charlstm</td>\n",
       "      <td>019</td>\n",
       "      <td>LSTM</td>\n",
       "      <td>300</td>\n",
       "      <td>30</td>\n",
       "      <td>100</td>\n",
       "      <td>...</td>\n",
       "      <td>True</td>\n",
       "      <td>True</td>\n",
       "      <td>50</td>\n",
       "      <td>50</td>\n",
       "      <td>0.3</td>\n",
       "      <td>8</td>\n",
       "      <td>0.001</td>\n",
       "      <td>0</td>\n",
       "      <td>NaN</td>\n",
       "      <td>NaN</td>\n",
       "    </tr>\n",
       "    <tr>\n",
       "      <th>4</th>\n",
       "      <td>0.9397</td>\n",
       "      <td>0.5829</td>\n",
       "      <td>0.4509</td>\n",
       "      <td>0.5085</td>\n",
       "      <td>token_charlstm</td>\n",
       "      <td>019</td>\n",
       "      <td>LSTM</td>\n",
       "      <td>300</td>\n",
       "      <td>30</td>\n",
       "      <td>100</td>\n",
       "      <td>...</td>\n",
       "      <td>True</td>\n",
       "      <td>True</td>\n",
       "      <td>50</td>\n",
       "      <td>50</td>\n",
       "      <td>0.3</td>\n",
       "      <td>8</td>\n",
       "      <td>0.001</td>\n",
       "      <td>0</td>\n",
       "      <td>NaN</td>\n",
       "      <td>NaN</td>\n",
       "    </tr>\n",
       "  </tbody>\n",
       "</table>\n",
       "<p>5 rows × 31 columns</p>\n",
       "</div>"
      ],
      "text/plain": [
       "      acc       p       r       f            arch conf_num word_seq_feature  \\\n",
       "0  0.9027 -1.0000  0.0000 -1.0000  token_charlstm      019             LSTM   \n",
       "1  0.9090  0.5775  0.0822  0.1439  token_charlstm      019             LSTM   \n",
       "2  0.9333  0.6075  0.3567  0.4495  token_charlstm      019             LSTM   \n",
       "3  0.9400  0.5895  0.4489  0.5097  token_charlstm      019             LSTM   \n",
       "4  0.9397  0.5829  0.4509  0.5085  token_charlstm      019             LSTM   \n",
       "\n",
       "   word_emb_dim  char_emb_dim  iteration  ...  use_char  use_crf  \\\n",
       "0           300            30        100  ...      True     True   \n",
       "1           300            30        100  ...      True     True   \n",
       "2           300            30        100  ...      True     True   \n",
       "3           300            30        100  ...      True     True   \n",
       "4           300            30        100  ...      True     True   \n",
       "\n",
       "   char_hidden_dim  hidden_dim  dropout  cnn_layer  learning_rate  epoch  \\\n",
       "0               50          50      0.3          8          0.001      0   \n",
       "1               50          50      0.3          8          0.001      0   \n",
       "2               50          50      0.3          8          0.001      0   \n",
       "3               50          50      0.3          8          0.001      0   \n",
       "4               50          50      0.3          8          0.001      0   \n",
       "\n",
       "  lr_decay  momentum  \n",
       "0      NaN       NaN  \n",
       "1      NaN       NaN  \n",
       "2      NaN       NaN  \n",
       "3      NaN       NaN  \n",
       "4      NaN       NaN  \n",
       "\n",
       "[5 rows x 31 columns]"
      ]
     },
     "execution_count": 361,
     "metadata": {},
     "output_type": "execute_result"
    }
   ],
   "source": [
    "rdf.head()"
   ]
  },
  {
   "cell_type": "code",
   "execution_count": 362,
   "metadata": {},
   "outputs": [
    {
     "data": {
      "text/html": [
       "<div>\n",
       "<style scoped>\n",
       "    .dataframe tbody tr th:only-of-type {\n",
       "        vertical-align: middle;\n",
       "    }\n",
       "\n",
       "    .dataframe tbody tr th {\n",
       "        vertical-align: top;\n",
       "    }\n",
       "\n",
       "    .dataframe thead th {\n",
       "        text-align: right;\n",
       "    }\n",
       "</style>\n",
       "<table border=\"1\" class=\"dataframe\">\n",
       "  <thead>\n",
       "    <tr style=\"text-align: right;\">\n",
       "      <th>arch</th>\n",
       "      <th>morph_charcnn</th>\n",
       "      <th>morph_charlstm</th>\n",
       "      <th>token_charcnn</th>\n",
       "      <th>token_charlstm</th>\n",
       "    </tr>\n",
       "    <tr>\n",
       "      <th>conf_num</th>\n",
       "      <th></th>\n",
       "      <th></th>\n",
       "      <th></th>\n",
       "      <th></th>\n",
       "    </tr>\n",
       "  </thead>\n",
       "  <tbody>\n",
       "    <tr>\n",
       "      <th>000</th>\n",
       "      <td>0.7443</td>\n",
       "      <td>0.7904</td>\n",
       "      <td>0.7538</td>\n",
       "      <td>0.7697</td>\n",
       "    </tr>\n",
       "    <tr>\n",
       "      <th>001</th>\n",
       "      <td>0.0112</td>\n",
       "      <td>0.0480</td>\n",
       "      <td>-1.0000</td>\n",
       "      <td>0.0299</td>\n",
       "    </tr>\n",
       "    <tr>\n",
       "      <th>002</th>\n",
       "      <td>0.6211</td>\n",
       "      <td>0.5269</td>\n",
       "      <td>0.5855</td>\n",
       "      <td>0.4356</td>\n",
       "    </tr>\n",
       "    <tr>\n",
       "      <th>003</th>\n",
       "      <td>0.6352</td>\n",
       "      <td>0.7829</td>\n",
       "      <td>0.5522</td>\n",
       "      <td>0.7383</td>\n",
       "    </tr>\n",
       "    <tr>\n",
       "      <th>004</th>\n",
       "      <td>0.7736</td>\n",
       "      <td>0.5486</td>\n",
       "      <td>0.7313</td>\n",
       "      <td>0.6659</td>\n",
       "    </tr>\n",
       "    <tr>\n",
       "      <th>...</th>\n",
       "      <td>...</td>\n",
       "      <td>...</td>\n",
       "      <td>...</td>\n",
       "      <td>...</td>\n",
       "    </tr>\n",
       "    <tr>\n",
       "      <th>095</th>\n",
       "      <td>NaN</td>\n",
       "      <td>NaN</td>\n",
       "      <td>0.6344</td>\n",
       "      <td>0.5282</td>\n",
       "    </tr>\n",
       "    <tr>\n",
       "      <th>096</th>\n",
       "      <td>NaN</td>\n",
       "      <td>NaN</td>\n",
       "      <td>0.6301</td>\n",
       "      <td>0.5871</td>\n",
       "    </tr>\n",
       "    <tr>\n",
       "      <th>097</th>\n",
       "      <td>NaN</td>\n",
       "      <td>NaN</td>\n",
       "      <td>0.5876</td>\n",
       "      <td>0.0480</td>\n",
       "    </tr>\n",
       "    <tr>\n",
       "      <th>098</th>\n",
       "      <td>NaN</td>\n",
       "      <td>NaN</td>\n",
       "      <td>0.6276</td>\n",
       "      <td>0.7028</td>\n",
       "    </tr>\n",
       "    <tr>\n",
       "      <th>099</th>\n",
       "      <td>NaN</td>\n",
       "      <td>NaN</td>\n",
       "      <td>0.5718</td>\n",
       "      <td>0.6207</td>\n",
       "    </tr>\n",
       "  </tbody>\n",
       "</table>\n",
       "<p>100 rows × 4 columns</p>\n",
       "</div>"
      ],
      "text/plain": [
       "arch      morph_charcnn  morph_charlstm  token_charcnn  token_charlstm\n",
       "conf_num                                                              \n",
       "000              0.7443          0.7904         0.7538          0.7697\n",
       "001              0.0112          0.0480        -1.0000          0.0299\n",
       "002              0.6211          0.5269         0.5855          0.4356\n",
       "003              0.6352          0.7829         0.5522          0.7383\n",
       "004              0.7736          0.5486         0.7313          0.6659\n",
       "...                 ...             ...            ...             ...\n",
       "095                 NaN             NaN         0.6344          0.5282\n",
       "096                 NaN             NaN         0.6301          0.5871\n",
       "097                 NaN             NaN         0.5876          0.0480\n",
       "098                 NaN             NaN         0.6276          0.7028\n",
       "099                 NaN             NaN         0.5718          0.6207\n",
       "\n",
       "[100 rows x 4 columns]"
      ]
     },
     "execution_count": 362,
     "metadata": {},
     "output_type": "execute_result"
    }
   ],
   "source": [
    "rdf.groupby(['conf_num', 'arch']).f.max().unstack()"
   ]
  },
  {
   "cell_type": "code",
   "execution_count": 363,
   "metadata": {},
   "outputs": [
    {
     "data": {
      "text/plain": [
       "(34500, 31)"
      ]
     },
     "execution_count": 363,
     "metadata": {},
     "output_type": "execute_result"
    }
   ],
   "source": [
    "rdf.shape"
   ]
  },
  {
   "cell_type": "code",
   "execution_count": 364,
   "metadata": {},
   "outputs": [
    {
     "data": {
      "text/plain": [
       "arch\n",
       "morph_charcnn     0.7736\n",
       "morph_charlstm    0.7904\n",
       "token_charcnn     0.7538\n",
       "token_charlstm    0.7697\n",
       "Name: f, dtype: float64"
      ]
     },
     "execution_count": 364,
     "metadata": {},
     "output_type": "execute_result"
    }
   ],
   "source": [
    "rdf.groupby('arch').f.max()"
   ]
  },
  {
   "cell_type": "code",
   "execution_count": 368,
   "metadata": {},
   "outputs": [
    {
     "data": {
      "text/html": [
       "<div>\n",
       "<style scoped>\n",
       "    .dataframe tbody tr th:only-of-type {\n",
       "        vertical-align: middle;\n",
       "    }\n",
       "\n",
       "    .dataframe tbody tr th {\n",
       "        vertical-align: top;\n",
       "    }\n",
       "\n",
       "    .dataframe thead th {\n",
       "        text-align: right;\n",
       "    }\n",
       "</style>\n",
       "<table border=\"1\" class=\"dataframe\">\n",
       "  <thead>\n",
       "    <tr style=\"text-align: right;\">\n",
       "      <th>arch</th>\n",
       "      <th>morph_charcnn</th>\n",
       "      <th>morph_charlstm</th>\n",
       "      <th>token_charcnn</th>\n",
       "      <th>token_charlstm</th>\n",
       "    </tr>\n",
       "    <tr>\n",
       "      <th>dropout</th>\n",
       "      <th></th>\n",
       "      <th></th>\n",
       "      <th></th>\n",
       "      <th></th>\n",
       "    </tr>\n",
       "  </thead>\n",
       "  <tbody>\n",
       "    <tr>\n",
       "      <th>0.1</th>\n",
       "      <td>0.7569</td>\n",
       "      <td>0.7829</td>\n",
       "      <td>0.7433</td>\n",
       "      <td>0.7383</td>\n",
       "    </tr>\n",
       "    <tr>\n",
       "      <th>0.3</th>\n",
       "      <td>0.7736</td>\n",
       "      <td>0.7879</td>\n",
       "      <td>0.7428</td>\n",
       "      <td>0.7554</td>\n",
       "    </tr>\n",
       "    <tr>\n",
       "      <th>0.5</th>\n",
       "      <td>0.7629</td>\n",
       "      <td>0.7904</td>\n",
       "      <td>0.7538</td>\n",
       "      <td>0.7697</td>\n",
       "    </tr>\n",
       "  </tbody>\n",
       "</table>\n",
       "</div>"
      ],
      "text/plain": [
       "arch     morph_charcnn  morph_charlstm  token_charcnn  token_charlstm\n",
       "dropout                                                              \n",
       "0.1             0.7569          0.7829         0.7433          0.7383\n",
       "0.3             0.7736          0.7879         0.7428          0.7554\n",
       "0.5             0.7629          0.7904         0.7538          0.7697"
      ]
     },
     "execution_count": 368,
     "metadata": {},
     "output_type": "execute_result"
    }
   ],
   "source": [
    "rdf.groupby(['dropout', 'arch']).f.max().unstack()"
   ]
  },
  {
   "cell_type": "code",
   "execution_count": 369,
   "metadata": {},
   "outputs": [
    {
     "data": {
      "text/html": [
       "<div>\n",
       "<style scoped>\n",
       "    .dataframe tbody tr th:only-of-type {\n",
       "        vertical-align: middle;\n",
       "    }\n",
       "\n",
       "    .dataframe tbody tr th {\n",
       "        vertical-align: top;\n",
       "    }\n",
       "\n",
       "    .dataframe thead th {\n",
       "        text-align: right;\n",
       "    }\n",
       "</style>\n",
       "<table border=\"1\" class=\"dataframe\">\n",
       "  <thead>\n",
       "    <tr style=\"text-align: right;\">\n",
       "      <th>arch</th>\n",
       "      <th>morph_charcnn</th>\n",
       "      <th>morph_charlstm</th>\n",
       "      <th>token_charcnn</th>\n",
       "      <th>token_charlstm</th>\n",
       "    </tr>\n",
       "    <tr>\n",
       "      <th>hidden_dim</th>\n",
       "      <th></th>\n",
       "      <th></th>\n",
       "      <th></th>\n",
       "      <th></th>\n",
       "    </tr>\n",
       "  </thead>\n",
       "  <tbody>\n",
       "    <tr>\n",
       "      <th>50</th>\n",
       "      <td>0.7736</td>\n",
       "      <td>0.7879</td>\n",
       "      <td>0.7437</td>\n",
       "      <td>0.7546</td>\n",
       "    </tr>\n",
       "    <tr>\n",
       "      <th>100</th>\n",
       "      <td>0.7627</td>\n",
       "      <td>0.7861</td>\n",
       "      <td>0.7538</td>\n",
       "      <td>0.7401</td>\n",
       "    </tr>\n",
       "    <tr>\n",
       "      <th>200</th>\n",
       "      <td>0.7478</td>\n",
       "      <td>0.7904</td>\n",
       "      <td>0.6845</td>\n",
       "      <td>0.7697</td>\n",
       "    </tr>\n",
       "  </tbody>\n",
       "</table>\n",
       "</div>"
      ],
      "text/plain": [
       "arch        morph_charcnn  morph_charlstm  token_charcnn  token_charlstm\n",
       "hidden_dim                                                              \n",
       "50                 0.7736          0.7879         0.7437          0.7546\n",
       "100                0.7627          0.7861         0.7538          0.7401\n",
       "200                0.7478          0.7904         0.6845          0.7697"
      ]
     },
     "execution_count": 369,
     "metadata": {},
     "output_type": "execute_result"
    }
   ],
   "source": [
    "rdf.groupby(['hidden_dim', 'arch']).f.max().unstack()"
   ]
  },
  {
   "cell_type": "code",
   "execution_count": 370,
   "metadata": {},
   "outputs": [
    {
     "data": {
      "text/html": [
       "<div>\n",
       "<style scoped>\n",
       "    .dataframe tbody tr th:only-of-type {\n",
       "        vertical-align: middle;\n",
       "    }\n",
       "\n",
       "    .dataframe tbody tr th {\n",
       "        vertical-align: top;\n",
       "    }\n",
       "\n",
       "    .dataframe thead th {\n",
       "        text-align: right;\n",
       "    }\n",
       "</style>\n",
       "<table border=\"1\" class=\"dataframe\">\n",
       "  <thead>\n",
       "    <tr style=\"text-align: right;\">\n",
       "      <th>arch</th>\n",
       "      <th>morph_charcnn</th>\n",
       "      <th>morph_charlstm</th>\n",
       "      <th>token_charcnn</th>\n",
       "      <th>token_charlstm</th>\n",
       "    </tr>\n",
       "    <tr>\n",
       "      <th>lstm_layer</th>\n",
       "      <th></th>\n",
       "      <th></th>\n",
       "      <th></th>\n",
       "      <th></th>\n",
       "    </tr>\n",
       "  </thead>\n",
       "  <tbody>\n",
       "    <tr>\n",
       "      <th>1</th>\n",
       "      <td>0.7736</td>\n",
       "      <td>0.7900</td>\n",
       "      <td>0.7538</td>\n",
       "      <td>0.7554</td>\n",
       "    </tr>\n",
       "    <tr>\n",
       "      <th>2</th>\n",
       "      <td>0.7629</td>\n",
       "      <td>0.7904</td>\n",
       "      <td>0.6845</td>\n",
       "      <td>0.7697</td>\n",
       "    </tr>\n",
       "  </tbody>\n",
       "</table>\n",
       "</div>"
      ],
      "text/plain": [
       "arch        morph_charcnn  morph_charlstm  token_charcnn  token_charlstm\n",
       "lstm_layer                                                              \n",
       "1                  0.7736          0.7900         0.7538          0.7554\n",
       "2                  0.7629          0.7904         0.6845          0.7697"
      ]
     },
     "execution_count": 370,
     "metadata": {},
     "output_type": "execute_result"
    }
   ],
   "source": [
    "rdf.groupby(['lstm_layer', 'arch']).f.max().unstack()"
   ]
  },
  {
   "cell_type": "code",
   "execution_count": 371,
   "metadata": {},
   "outputs": [
    {
     "data": {
      "text/html": [
       "<div>\n",
       "<style scoped>\n",
       "    .dataframe tbody tr th:only-of-type {\n",
       "        vertical-align: middle;\n",
       "    }\n",
       "\n",
       "    .dataframe tbody tr th {\n",
       "        vertical-align: top;\n",
       "    }\n",
       "\n",
       "    .dataframe thead th {\n",
       "        text-align: right;\n",
       "    }\n",
       "</style>\n",
       "<table border=\"1\" class=\"dataframe\">\n",
       "  <thead>\n",
       "    <tr style=\"text-align: right;\">\n",
       "      <th>arch</th>\n",
       "      <th>morph_charcnn</th>\n",
       "      <th>morph_charlstm</th>\n",
       "      <th>token_charcnn</th>\n",
       "      <th>token_charlstm</th>\n",
       "    </tr>\n",
       "    <tr>\n",
       "      <th>optimizer</th>\n",
       "      <th></th>\n",
       "      <th></th>\n",
       "      <th></th>\n",
       "      <th></th>\n",
       "    </tr>\n",
       "  </thead>\n",
       "  <tbody>\n",
       "    <tr>\n",
       "      <th>Adam</th>\n",
       "      <td>0.6901</td>\n",
       "      <td>0.6951</td>\n",
       "      <td>0.6615</td>\n",
       "      <td>0.6659</td>\n",
       "    </tr>\n",
       "    <tr>\n",
       "      <th>RMSProp</th>\n",
       "      <td>0.6791</td>\n",
       "      <td>0.6883</td>\n",
       "      <td>0.6352</td>\n",
       "      <td>0.6591</td>\n",
       "    </tr>\n",
       "    <tr>\n",
       "      <th>SGD</th>\n",
       "      <td>0.7736</td>\n",
       "      <td>0.7904</td>\n",
       "      <td>0.7538</td>\n",
       "      <td>0.7697</td>\n",
       "    </tr>\n",
       "  </tbody>\n",
       "</table>\n",
       "</div>"
      ],
      "text/plain": [
       "arch       morph_charcnn  morph_charlstm  token_charcnn  token_charlstm\n",
       "optimizer                                                              \n",
       "Adam              0.6901          0.6951         0.6615          0.6659\n",
       "RMSProp           0.6791          0.6883         0.6352          0.6591\n",
       "SGD               0.7736          0.7904         0.7538          0.7697"
      ]
     },
     "execution_count": 371,
     "metadata": {},
     "output_type": "execute_result"
    }
   ],
   "source": [
    "rdf.groupby(['optimizer', 'arch']).f.max().unstack()"
   ]
  },
  {
   "cell_type": "code",
   "execution_count": 375,
   "metadata": {},
   "outputs": [
    {
     "data": {
      "text/html": [
       "<div>\n",
       "<style scoped>\n",
       "    .dataframe tbody tr th:only-of-type {\n",
       "        vertical-align: middle;\n",
       "    }\n",
       "\n",
       "    .dataframe tbody tr th {\n",
       "        vertical-align: top;\n",
       "    }\n",
       "\n",
       "    .dataframe thead th {\n",
       "        text-align: right;\n",
       "    }\n",
       "</style>\n",
       "<table border=\"1\" class=\"dataframe\">\n",
       "  <thead>\n",
       "    <tr style=\"text-align: right;\">\n",
       "      <th>arch</th>\n",
       "      <th>morph_charcnn</th>\n",
       "      <th>token_charcnn</th>\n",
       "    </tr>\n",
       "    <tr>\n",
       "      <th>cnn_layer</th>\n",
       "      <th></th>\n",
       "      <th></th>\n",
       "    </tr>\n",
       "  </thead>\n",
       "  <tbody>\n",
       "    <tr>\n",
       "      <th>2</th>\n",
       "      <td>0.7736</td>\n",
       "      <td>0.7433</td>\n",
       "    </tr>\n",
       "    <tr>\n",
       "      <th>4</th>\n",
       "      <td>0.7629</td>\n",
       "      <td>0.7437</td>\n",
       "    </tr>\n",
       "    <tr>\n",
       "      <th>8</th>\n",
       "      <td>0.7443</td>\n",
       "      <td>0.7538</td>\n",
       "    </tr>\n",
       "  </tbody>\n",
       "</table>\n",
       "</div>"
      ],
      "text/plain": [
       "arch       morph_charcnn  token_charcnn\n",
       "cnn_layer                              \n",
       "2                 0.7736         0.7433\n",
       "4                 0.7629         0.7437\n",
       "8                 0.7443         0.7538"
      ]
     },
     "execution_count": 375,
     "metadata": {},
     "output_type": "execute_result"
    }
   ],
   "source": [
    "rdf[rdf.arch.str.contains('cnn')].groupby(['cnn_layer', 'arch']).f.max().unstack()"
   ]
  },
  {
   "cell_type": "code",
   "execution_count": 376,
   "metadata": {},
   "outputs": [
    {
     "data": {
      "text/html": [
       "<div>\n",
       "<style scoped>\n",
       "    .dataframe tbody tr th:only-of-type {\n",
       "        vertical-align: middle;\n",
       "    }\n",
       "\n",
       "    .dataframe tbody tr th {\n",
       "        vertical-align: top;\n",
       "    }\n",
       "\n",
       "    .dataframe thead th {\n",
       "        text-align: right;\n",
       "    }\n",
       "</style>\n",
       "<table border=\"1\" class=\"dataframe\">\n",
       "  <thead>\n",
       "    <tr style=\"text-align: right;\">\n",
       "      <th>arch</th>\n",
       "      <th>morph_charlstm</th>\n",
       "      <th>token_charlstm</th>\n",
       "    </tr>\n",
       "    <tr>\n",
       "      <th>char_hidden_dim</th>\n",
       "      <th></th>\n",
       "      <th></th>\n",
       "    </tr>\n",
       "  </thead>\n",
       "  <tbody>\n",
       "    <tr>\n",
       "      <th>20</th>\n",
       "      <td>0.7900</td>\n",
       "      <td>0.7549</td>\n",
       "    </tr>\n",
       "    <tr>\n",
       "      <th>50</th>\n",
       "      <td>0.7904</td>\n",
       "      <td>0.7697</td>\n",
       "    </tr>\n",
       "    <tr>\n",
       "      <th>70</th>\n",
       "      <td>0.7829</td>\n",
       "      <td>0.7554</td>\n",
       "    </tr>\n",
       "  </tbody>\n",
       "</table>\n",
       "</div>"
      ],
      "text/plain": [
       "arch             morph_charlstm  token_charlstm\n",
       "char_hidden_dim                                \n",
       "20                       0.7900          0.7549\n",
       "50                       0.7904          0.7697\n",
       "70                       0.7829          0.7554"
      ]
     },
     "execution_count": 376,
     "metadata": {},
     "output_type": "execute_result"
    }
   ],
   "source": [
    "rdf[rdf.arch.str.contains('lstm')].groupby(['char_hidden_dim', 'arch']).f.max().unstack()"
   ]
  },
  {
   "cell_type": "code",
   "execution_count": 377,
   "metadata": {},
   "outputs": [
    {
     "data": {
      "text/html": [
       "<div>\n",
       "<style scoped>\n",
       "    .dataframe tbody tr th:only-of-type {\n",
       "        vertical-align: middle;\n",
       "    }\n",
       "\n",
       "    .dataframe tbody tr th {\n",
       "        vertical-align: top;\n",
       "    }\n",
       "\n",
       "    .dataframe thead th {\n",
       "        text-align: right;\n",
       "    }\n",
       "</style>\n",
       "<table border=\"1\" class=\"dataframe\">\n",
       "  <thead>\n",
       "    <tr style=\"text-align: right;\">\n",
       "      <th></th>\n",
       "      <th>arch</th>\n",
       "      <th>morph_charcnn</th>\n",
       "      <th>morph_charlstm</th>\n",
       "      <th>token_charcnn</th>\n",
       "      <th>token_charlstm</th>\n",
       "    </tr>\n",
       "    <tr>\n",
       "      <th>optimizer</th>\n",
       "      <th>learning_rate</th>\n",
       "      <th></th>\n",
       "      <th></th>\n",
       "      <th></th>\n",
       "      <th></th>\n",
       "    </tr>\n",
       "  </thead>\n",
       "  <tbody>\n",
       "    <tr>\n",
       "      <th rowspan=\"3\" valign=\"top\">Adam</th>\n",
       "      <th>0.0005</th>\n",
       "      <td>0.6477</td>\n",
       "      <td>0.6951</td>\n",
       "      <td>0.6452</td>\n",
       "      <td>0.6600</td>\n",
       "    </tr>\n",
       "    <tr>\n",
       "      <th>0.0010</th>\n",
       "      <td>0.6901</td>\n",
       "      <td>0.6369</td>\n",
       "      <td>0.6615</td>\n",
       "      <td>0.6495</td>\n",
       "    </tr>\n",
       "    <tr>\n",
       "      <th>0.0050</th>\n",
       "      <td>0.6607</td>\n",
       "      <td>0.6835</td>\n",
       "      <td>0.6608</td>\n",
       "      <td>0.6659</td>\n",
       "    </tr>\n",
       "    <tr>\n",
       "      <th rowspan=\"3\" valign=\"top\">RMSProp</th>\n",
       "      <th>0.0050</th>\n",
       "      <td>0.6791</td>\n",
       "      <td>0.6883</td>\n",
       "      <td>0.6352</td>\n",
       "      <td>0.6591</td>\n",
       "    </tr>\n",
       "    <tr>\n",
       "      <th>0.0100</th>\n",
       "      <td>0.6530</td>\n",
       "      <td>0.6596</td>\n",
       "      <td>0.5974</td>\n",
       "      <td>0.6056</td>\n",
       "    </tr>\n",
       "    <tr>\n",
       "      <th>0.0500</th>\n",
       "      <td>0.4304</td>\n",
       "      <td>0.5798</td>\n",
       "      <td>0.3515</td>\n",
       "      <td>0.5340</td>\n",
       "    </tr>\n",
       "    <tr>\n",
       "      <th rowspan=\"3\" valign=\"top\">SGD</th>\n",
       "      <th>0.0100</th>\n",
       "      <td>0.7736</td>\n",
       "      <td>0.7900</td>\n",
       "      <td>0.7437</td>\n",
       "      <td>0.7554</td>\n",
       "    </tr>\n",
       "    <tr>\n",
       "      <th>0.0150</th>\n",
       "      <td>0.7629</td>\n",
       "      <td>0.7904</td>\n",
       "      <td>0.7538</td>\n",
       "      <td>0.7697</td>\n",
       "    </tr>\n",
       "    <tr>\n",
       "      <th>0.0300</th>\n",
       "      <td>0.7478</td>\n",
       "      <td>0.7419</td>\n",
       "      <td>0.6845</td>\n",
       "      <td>0.7269</td>\n",
       "    </tr>\n",
       "  </tbody>\n",
       "</table>\n",
       "</div>"
      ],
      "text/plain": [
       "arch                     morph_charcnn  morph_charlstm  token_charcnn  \\\n",
       "optimizer learning_rate                                                 \n",
       "Adam      0.0005                0.6477          0.6951         0.6452   \n",
       "          0.0010                0.6901          0.6369         0.6615   \n",
       "          0.0050                0.6607          0.6835         0.6608   \n",
       "RMSProp   0.0050                0.6791          0.6883         0.6352   \n",
       "          0.0100                0.6530          0.6596         0.5974   \n",
       "          0.0500                0.4304          0.5798         0.3515   \n",
       "SGD       0.0100                0.7736          0.7900         0.7437   \n",
       "          0.0150                0.7629          0.7904         0.7538   \n",
       "          0.0300                0.7478          0.7419         0.6845   \n",
       "\n",
       "arch                     token_charlstm  \n",
       "optimizer learning_rate                  \n",
       "Adam      0.0005                 0.6600  \n",
       "          0.0010                 0.6495  \n",
       "          0.0050                 0.6659  \n",
       "RMSProp   0.0050                 0.6591  \n",
       "          0.0100                 0.6056  \n",
       "          0.0500                 0.5340  \n",
       "SGD       0.0100                 0.7554  \n",
       "          0.0150                 0.7697  \n",
       "          0.0300                 0.7269  "
      ]
     },
     "execution_count": 377,
     "metadata": {},
     "output_type": "execute_result"
    }
   ],
   "source": [
    "rdf.groupby(['optimizer', 'learning_rate', 'arch']).f.max().unstack()"
   ]
  },
  {
   "cell_type": "markdown",
   "metadata": {},
   "source": [
    "## TODO:\n",
    "1. create more random configs (we will take them sequencially for order's sake)\n",
    "1. run more in another server\n",
    "1. match confs and results\n",
    "1. initial analysis and maybe drop and add some HPs"
   ]
  },
  {
   "cell_type": "code",
   "execution_count": null,
   "metadata": {},
   "outputs": [],
   "source": []
  }
 ],
 "metadata": {
  "kernelspec": {
   "display_name": "tf",
   "language": "python",
   "name": "tf"
  },
  "language_info": {
   "codemirror_mode": {
    "name": "ipython",
    "version": 3
   },
   "file_extension": ".py",
   "mimetype": "text/x-python",
   "name": "python",
   "nbconvert_exporter": "python",
   "pygments_lexer": "ipython3",
   "version": "3.7.5"
  }
 },
 "nbformat": 4,
 "nbformat_minor": 4
}
