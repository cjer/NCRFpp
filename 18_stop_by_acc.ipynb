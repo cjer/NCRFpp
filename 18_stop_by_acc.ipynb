{
 "cells": [
  {
   "cell_type": "code",
   "execution_count": 1,
   "metadata": {},
   "outputs": [],
   "source": [
    "%load_ext autoreload\n",
    "%autoreload 2"
   ]
  },
  {
   "cell_type": "code",
   "execution_count": 2,
   "metadata": {},
   "outputs": [],
   "source": [
    "%matplotlib inline\n",
    "import matplotlib.pyplot as plt\n",
    "import seaborn as sns\n",
    "sns.set_context('paper')\n",
    "sns.set_style('white')"
   ]
  },
  {
   "cell_type": "code",
   "execution_count": 3,
   "metadata": {},
   "outputs": [],
   "source": [
    "import pandas as pd\n",
    "import configs\n",
    "import numpy as np"
   ]
  },
  {
   "cell_type": "code",
   "execution_count": 4,
   "metadata": {},
   "outputs": [],
   "source": [
    "import os\n",
    "import json"
   ]
  },
  {
   "cell_type": "markdown",
   "metadata": {},
   "source": [
    "## Create setup dicts\n",
    "1. Word Unit+Labels: `morph, token, multitok`\n",
    "1. Char Arch: `char_lstm, char_cnn, no_char`\n",
    "1. Word Embedding: `ft_tok, ft_yap, ft_tok_oov, ft_yap_oov, w2v_tok, w2v_yap, no_word_embed`\n",
    "\n",
    "3 x 3 x 7 = **63 dicts**"
   ]
  },
  {
   "cell_type": "markdown",
   "metadata": {},
   "source": [
    "## Create PER-LOC-ORG only datasets"
   ]
  },
  {
   "cell_type": "code",
   "execution_count": 5,
   "metadata": {},
   "outputs": [],
   "source": [
    "data_folder = '../NER/data/for_ncrf'\n",
    "\n",
    "new_datasets = {\n",
    "    'morph': {\n",
    "        '_unit': 'morpheme',\n",
    "        '_scheme': 'bioes',\n",
    "        'seg': False,\n",
    "        'train_dir': 'morph_gold_train_plo.bmes',\n",
    "        'dev_dir': 'morph_gold_dev_plo.bmes',\n",
    "        'test_dir': 'morph_gold_test_plo.bmes', \n",
    "    },\n",
    "    'token': {\n",
    "        '_unit': 'token',\n",
    "        '_scheme': 'bioes',\n",
    "        'seg': False,\n",
    "        'train_dir': 'token_gold_train_fix_plo.bmes',\n",
    "        'dev_dir': 'token_gold_dev_fix_plo.bmes',\n",
    "        'test_dir': 'token_gold_test_fix_plo.bmes',\n",
    "    },\n",
    "}"
   ]
  },
  {
   "cell_type": "code",
   "execution_count": 6,
   "metadata": {},
   "outputs": [],
   "source": [
    "default_grid = { \n",
    "        # FIXED\n",
    "        'word_seq_feature': 'LSTM',\n",
    "        'word_emb_dim': 300,\n",
    "        'char_emb_dim': 30,\n",
    "        'iteration': 200,\n",
    "        'bilstm': True,\n",
    "        'norm_word_emb': False,\n",
    "        'norm_char_emb': False,\n",
    "        'ave_batch_loss': False,\n",
    "        'use_crf': True,\n",
    "        'l2': 1e-8,\n",
    "        'lstm_layer': 2,\n",
    "        'batch_size': 8,\n",
    "        'number_normalized': True,\n",
    "        'optimizer': 'SGD',\n",
    "        'lr_decay': 0.05,\n",
    "        'momentum': 0,\n",
    "        'nbest': 1,\n",
    "        'hidden_dim': 200,\n",
    "        'dropout': 0.5,\n",
    "\n",
    "    }\n",
    "    \n",
    "dataset_grids = {\n",
    "    'multitok': {\n",
    "        'learning_rate': 0.005,\n",
    "    },\n",
    "    'morph': {\n",
    "        'learning_rate': 0.01,\n",
    "    },\n",
    "    'token': {\n",
    "        'learning_rate': 0.01,\n",
    "    },\n",
    "}\n",
    "arch_grids = {\n",
    "    'char_lstm': {\n",
    "        'char_seq_feature': 'LSTM',\n",
    "        'use_char': True,\n",
    "        'char_hidden_dim': 70, \n",
    "    },\n",
    "    'char_cnn': {\n",
    "        'char_seq_feature': 'CNN',\n",
    "        'use_char': True,\n",
    "        'char_hidden_dim': 70,\n",
    "        'char_kernel_size': 7,\n",
    "    },\n",
    "    'no_char': {\n",
    "        'use_char': False,\n",
    "     },\n",
    "}\n"
   ]
  },
  {
   "cell_type": "code",
   "execution_count": 7,
   "metadata": {},
   "outputs": [],
   "source": [
    "word_embedding_files = {\n",
    "    #'ft_yap': '../wordembedding-hebrew/vectors_alt_tok/wikipedia.alt_tok.yap_form.fasttext_skipgram.model.vec.nofirstline',\n",
    "    #'ft_tok': '../wordembedding-hebrew/vectors_alt_tok/wikipedia.alt_tok.tokenized.fasttext_skipgram.model.vec.nofirstline',\n",
    "    'ft_oov_yap': 'data/htb_all_words.wikipedia.alt_tok.yap_form.fasttext_skipgram.txt',\n",
    "    'ft_oov_tok': 'data/htb_all_words.wikipedia.alt_tok.tokenized.fasttext_skipgram.txt',\n",
    "    #'w2v_yap': '../wordembedding-hebrew/vectors_alt_tok/wikipedia.alt_tok.yap_form.word2vec_skipgram.txt.nofirstline',\n",
    "    #'w2v_tok': '../wordembedding-hebrew/vectors_alt_tok/wikipedia.alt_tok.tokenized.word2vec_skipgram.txt.nofirstline',\n",
    "    #'glv_yap': '../wordembedding-hebrew/vectors_alt_tok/wikipedia.alt_tok.yap_form.glove.txt',\n",
    "    #'glv_tok': '../wordembedding-hebrew/vectors_alt_tok/wikipedia.alt_tok.tokenized.glove.txt',\n",
    "    #'no_word': None,\n",
    "}"
   ]
  },
  {
   "cell_type": "code",
   "execution_count": 8,
   "metadata": {},
   "outputs": [],
   "source": [
    "models_folder = 'final_setup/noseg_plo_models'\n",
    "conf_folder =   'final_setup/noseg_plo_conf'\n",
    "json_folder =   'final_setup/noseg_plo_conf_json'\n",
    "logs_folder =   'final_setup/noseg_plo_logs'"
   ]
  },
  {
   "cell_type": "code",
   "execution_count": 9,
   "metadata": {},
   "outputs": [
    {
     "data": {
      "text/plain": [
       "array([44, 45, 46, 47, 48, 49, 50, 51, 52, 53])"
      ]
     },
     "execution_count": 9,
     "metadata": {},
     "output_type": "execute_result"
    }
   ],
   "source": [
    "seed_num_options = np.arange(44, 54)\n",
    "seed_num_options"
   ]
  },
  {
   "cell_type": "code",
   "execution_count": 10,
   "metadata": {},
   "outputs": [],
   "source": [
    "def create_conf_dict(model_base_name, dataset, arch, emb_name, seed_num):\n",
    "    full_conf_dict = {}\n",
    "    full_conf_dict['status'] = 'train'\n",
    "    full_conf_dict['model_dir'] = os.path.join(models_folder, model_base_name)\n",
    "    \n",
    "    for k, v in new_datasets[dataset].items():\n",
    "        if not k.startswith('_'):\n",
    "            if k in ['train_dir', 'dev_dir', 'test_dir']:\n",
    "                full_conf_dict[k] = os.path.join(data_folder, v)\n",
    "            else:\n",
    "                full_conf_dict[k] = v\n",
    "    \n",
    "    if not(emb_name == 'no_word' or word_embedding_files[emb_name] is None):\n",
    "        full_conf_dict['word_emb_dir'] = word_embedding_files[emb_name]\n",
    "    \n",
    "    \n",
    "    full_conf_dict.update(default_grid)\n",
    "    full_conf_dict.update(dataset_grids[dataset])\n",
    "    full_conf_dict.update(arch_grids[arch])\n",
    "            \n",
    "    return full_conf_dict\n",
    "    "
   ]
  },
  {
   "cell_type": "code",
   "execution_count": 11,
   "metadata": {},
   "outputs": [],
   "source": [
    "ds_embeds = {'morph': ['ft_oov_yap', 'ft_oov_tok'], \n",
    "             'token': ['ft_oov_tok'],}\n",
    "ds_archs = {'morph': ['char_cnn'],\n",
    "            'token': ['char_cnn'],}\n",
    "\n",
    "confs = {}\n",
    "for dataset in new_datasets:\n",
    "    for arch in ds_archs[dataset]:\n",
    "        for emb_name in ds_embeds[dataset]:\n",
    "            for seed_num in seed_num_options:\n",
    "                model_base_name = '.'.join([dataset, arch, emb_name, str(seed_num)+'_seed'])\n",
    "                confs[model_base_name] = create_conf_dict(model_base_name, dataset, \n",
    "                                                          arch, emb_name, seed_num)\n",
    "            "
   ]
  },
  {
   "cell_type": "code",
   "execution_count": 12,
   "metadata": {},
   "outputs": [
    {
     "data": {
      "text/plain": [
       "30"
      ]
     },
     "execution_count": 12,
     "metadata": {},
     "output_type": "execute_result"
    }
   ],
   "source": [
    "len(confs)"
   ]
  },
  {
   "cell_type": "code",
   "execution_count": 13,
   "metadata": {},
   "outputs": [],
   "source": [
    "import pickle\n",
    "pickle.dump(confs, open('final_setup/noseg_plo_confs.pkl', 'wb'))"
   ]
  },
  {
   "cell_type": "markdown",
   "metadata": {},
   "source": [
    "## Create conf files for setup dicts\n",
    "1. Random Seed: 10 different `(44, 45, 46...)`\n",
    "1. `morph.charlstm.ft_tok.44_seed.conf`\n",
    "1. `multitok.nochar.no_word_embed.47_seed.conf`\n",
    "\n",
    "63 * 10 = **630 conf files**"
   ]
  },
  {
   "cell_type": "code",
   "execution_count": 14,
   "metadata": {},
   "outputs": [],
   "source": [
    "if not os.path.exists(models_folder):\n",
    "    os.mkdir(models_folder)\n",
    "if not os.path.exists(conf_folder):\n",
    "    os.mkdir(conf_folder)\n",
    "if not os.path.exists(json_folder):\n",
    "    os.mkdir(json_folder)\n",
    "if not os.path.exists(logs_folder):\n",
    "    os.mkdir(logs_folder)"
   ]
  },
  {
   "cell_type": "code",
   "execution_count": 15,
   "metadata": {},
   "outputs": [],
   "source": [
    "for name, conf in confs.items():\n",
    "    conf_path = os.path.join(conf_folder, name+'.conf')\n",
    "    with open(conf_path, 'w', encoding='utf8') as of:\n",
    "        for k, v in conf.items():\n",
    "            of.write(k+'='+str(v)+'\\n')\n",
    "    json_path = os.path.join(json_folder, name+'.json')\n",
    "    with open(json_path, 'w') as of:\n",
    "        of.write(json.dumps(conf))"
   ]
  },
  {
   "cell_type": "markdown",
   "metadata": {},
   "source": [
    "## Create `main.X.py` files\n",
    "Only difference is `seed_num`: \n",
    "- `main.44.py` will have `seed_num = 44`"
   ]
  },
  {
   "cell_type": "markdown",
   "metadata": {},
   "source": [
    "## Create `final_setup_run.py`\n",
    "1. seed_num match: runs `.conf` files with matching `main.X.py` file **only**.\n",
    "1. Choose device. \n",
    "1. Choose conf prefix.\n",
    "1. Skip confs that are running or ran already (using `.dset` file)"
   ]
  },
  {
   "cell_type": "code",
   "execution_count": 7,
   "metadata": {},
   "outputs": [
    {
     "data": {
      "text/plain": [
       "['alt_tok_yap_ft_sg',\n",
       " 'alt_tok_tokenized_ft_sg',\n",
       " 'htb_all_alt_tok_yap_ft_sg',\n",
       " 'htb_all_alt_tok_tokenized_ft_sg',\n",
       " 'alt_tok_yap_w2v_sg',\n",
       " 'alt_tok_tokenized_w2v_sg',\n",
       " None]"
      ]
     },
     "execution_count": 7,
     "metadata": {},
     "output_type": "execute_result"
    }
   ],
   "source": [
    "emb_options = list(word_embedding_files.keys())+[None]\n",
    "emb_options"
   ]
  },
  {
   "cell_type": "markdown",
   "metadata": {},
   "source": [
    "## Read logs"
   ]
  },
  {
   "cell_type": "code",
   "execution_count": 50,
   "metadata": {},
   "outputs": [],
   "source": [
    "import pickle\n",
    "confs = pickle.load( open('final_setup/noseg_plo_confs.pkl', 'rb'))"
   ]
  },
  {
   "cell_type": "code",
   "execution_count": 293,
   "metadata": {},
   "outputs": [],
   "source": [
    "import re\n",
    "import os\n",
    "DEV_RES_LINE = re.compile('Dev: .*; acc: (?P<acc>[^,]+)(?:, p: (?P<p>[^,]+), r: (?P<r>[^,]+), f: (?P<f>[-\\d\\.]+))?')\n",
    "#Dev: time: 0.94s speed: 536.09st/s; acc: 0.9043\n",
    "#Dev: time: 3.42s, speed: 146.59st/s; acc: 0.9546, p: 0.7577, r: 0.6393, f: 0.6935\n",
    "\n",
    "mtimes = []\n",
    "res = []\n",
    "archs = []\n",
    "for f in os.scandir(logs_folder):\n",
    "    if f.name.startswith('.ipy'):\n",
    "        continue\n",
    "    mtimes.append(os.path.getmtime(f.path))\n",
    "    model_base_name = '.'.join(f.name.split('.')[:-1])\n",
    "    model_no_seed = '.'.join(f.name.split('.')[:-2])\n",
    "    unit, arch, w_embed, seed_num = f.name.split('.')[:-1]\n",
    "    archs.append(arch)\n",
    "    matching_conf = confs[model_base_name]\n",
    "    params = { 'model_base_name': model_base_name, 'arch': arch, \n",
    "              'unit': unit, 'w_embed': w_embed, 'seed_num': seed_num,\n",
    "              'model_no_seed': model_no_seed,}\n",
    "    params.update(matching_conf)\n",
    "    with open(f.path, 'r') as fp:\n",
    "        i= 0\n",
    "        for line in fp:\n",
    "            m = DEV_RES_LINE.match(line)\n",
    "            if m:\n",
    "                r = m.groupdict().copy()\n",
    "                for k, v in r.items():\n",
    "                    if v is not None:\n",
    "                        r[k] = float(v)\n",
    "                r.update(params)\n",
    "                r['epoch'] = i\n",
    "                i+=1\n",
    "                res.append(r)\n",
    "\n",
    "rdf = pd.DataFrame(res)\n",
    "\n",
    "rdf['model_file_name'] = rdf.model_base_name + '.' + rdf.epoch.astype(str) + '.model'\n",
    "rdf['dset_file_name'] =  rdf.model_base_name +'.dset'\n",
    "rdf['char_seq_feature'] = rdf.char_seq_feature.fillna('NoChar')\n",
    "\n",
    "rdf['relevant_score'] = rdf.f.fillna(rdf.acc)\n",
    "\n",
    "def get_embed_unit(s):\n",
    "    if 'yap' in s:\n",
    "        return 'morph'\n",
    "    elif 'tok' in s:\n",
    "        return 'token'\n",
    "    return 'na'\n",
    "\n",
    "def get_clash_match(s):\n",
    "    if s.embed_unit=='na':\n",
    "        return 'na'\n",
    "    elif s.embed_unit==s.input_unit:\n",
    "        return 'Match'\n",
    "    else:\n",
    "        return 'Clash'\n",
    "    \n",
    "rdf['input_unit'] = rdf.unit.apply(lambda x: 'morph' if x=='morph' else 'token')\n",
    "rdf['embed_unit'] = rdf.w_embed.apply(get_embed_unit)\n",
    "rdf['embed_type'] = rdf.w_embed.str.replace('_tok|_yap', '')\n",
    "rdf['cm'] = rdf.apply(get_clash_match, axis=1)\n",
    "\n",
    "erdf = rdf[(rdf.groupby(['seed_num', 'arch', 'unit', 'w_embed']).relevant_score.transform(max)==rdf.relevant_score) ]\n",
    "erdf = erdf[(erdf.groupby(['seed_num', 'arch', 'unit', 'w_embed']).epoch.transform(min)==erdf.epoch) ]"
   ]
  },
  {
   "cell_type": "code",
   "execution_count": 294,
   "metadata": {},
   "outputs": [
    {
     "data": {
      "text/plain": [
       "(30, 49)"
      ]
     },
     "execution_count": 294,
     "metadata": {},
     "output_type": "execute_result"
    }
   ],
   "source": [
    "erdf.shape"
   ]
  },
  {
   "cell_type": "code",
   "execution_count": 295,
   "metadata": {},
   "outputs": [
    {
     "data": {
      "text/html": [
       "<div>\n",
       "<style scoped>\n",
       "    .dataframe tbody tr th:only-of-type {\n",
       "        vertical-align: middle;\n",
       "    }\n",
       "\n",
       "    .dataframe tbody tr th {\n",
       "        vertical-align: top;\n",
       "    }\n",
       "\n",
       "    .dataframe thead th {\n",
       "        text-align: right;\n",
       "    }\n",
       "</style>\n",
       "<table border=\"1\" class=\"dataframe\">\n",
       "  <thead>\n",
       "    <tr style=\"text-align: right;\">\n",
       "      <th></th>\n",
       "      <th>w_embed</th>\n",
       "      <th>ft_oov_tok</th>\n",
       "      <th>ft_oov_yap</th>\n",
       "    </tr>\n",
       "    <tr>\n",
       "      <th>unit</th>\n",
       "      <th>arch</th>\n",
       "      <th></th>\n",
       "      <th></th>\n",
       "    </tr>\n",
       "  </thead>\n",
       "  <tbody>\n",
       "    <tr>\n",
       "      <th>morph</th>\n",
       "      <th>char_cnn</th>\n",
       "      <td>10.0</td>\n",
       "      <td>10.0</td>\n",
       "    </tr>\n",
       "    <tr>\n",
       "      <th>token</th>\n",
       "      <th>char_cnn</th>\n",
       "      <td>10.0</td>\n",
       "      <td>NaN</td>\n",
       "    </tr>\n",
       "  </tbody>\n",
       "</table>\n",
       "</div>"
      ],
      "text/plain": [
       "w_embed         ft_oov_tok  ft_oov_yap\n",
       "unit  arch                            \n",
       "morph char_cnn        10.0        10.0\n",
       "token char_cnn        10.0         NaN"
      ]
     },
     "execution_count": 295,
     "metadata": {},
     "output_type": "execute_result"
    }
   ],
   "source": [
    "erdf.groupby(['unit', 'arch', 'w_embed']).seed_num.nunique().unstack()"
   ]
  },
  {
   "cell_type": "code",
   "execution_count": 296,
   "metadata": {},
   "outputs": [
    {
     "name": "stdout",
     "output_type": "stream",
     "text": [
      "Mean time per run: 54.25 minutes\n"
     ]
    }
   ],
   "source": [
    "print ('Mean time per run:', round((max(mtimes) - min(mtimes) )/ len(mtimes) / 60, 2), 'minutes')"
   ]
  },
  {
   "cell_type": "code",
   "execution_count": 297,
   "metadata": {},
   "outputs": [
    {
     "data": {
      "text/html": [
       "<div>\n",
       "<style scoped>\n",
       "    .dataframe tbody tr th:only-of-type {\n",
       "        vertical-align: middle;\n",
       "    }\n",
       "\n",
       "    .dataframe tbody tr th {\n",
       "        vertical-align: top;\n",
       "    }\n",
       "\n",
       "    .dataframe thead tr th {\n",
       "        text-align: left;\n",
       "    }\n",
       "\n",
       "    .dataframe thead tr:last-of-type th {\n",
       "        text-align: right;\n",
       "    }\n",
       "</style>\n",
       "<table border=\"1\" class=\"dataframe\">\n",
       "  <thead>\n",
       "    <tr>\n",
       "      <th></th>\n",
       "      <th>embed_type</th>\n",
       "      <th colspan=\"2\" halign=\"left\">ft_oov</th>\n",
       "    </tr>\n",
       "    <tr>\n",
       "      <th></th>\n",
       "      <th>cm</th>\n",
       "      <th>Clash</th>\n",
       "      <th>Match</th>\n",
       "    </tr>\n",
       "    <tr>\n",
       "      <th>unit</th>\n",
       "      <th>arch</th>\n",
       "      <th></th>\n",
       "      <th></th>\n",
       "    </tr>\n",
       "  </thead>\n",
       "  <tbody>\n",
       "    <tr>\n",
       "      <th>morph</th>\n",
       "      <th>char_cnn</th>\n",
       "      <td>97.02</td>\n",
       "      <td>97.11</td>\n",
       "    </tr>\n",
       "    <tr>\n",
       "      <th>token</th>\n",
       "      <th>char_cnn</th>\n",
       "      <td>NaN</td>\n",
       "      <td>96.81</td>\n",
       "    </tr>\n",
       "  </tbody>\n",
       "</table>\n",
       "</div>"
      ],
      "text/plain": [
       "embed_type     ft_oov       \n",
       "cm              Clash  Match\n",
       "unit  arch                  \n",
       "morph char_cnn  97.02  97.11\n",
       "token char_cnn    NaN  96.81"
      ]
     },
     "execution_count": 297,
     "metadata": {},
     "output_type": "execute_result"
    }
   ],
   "source": [
    "erdf.groupby(['unit', 'arch', 'embed_type', 'cm']).relevant_score.mean().unstack([-2,-1]).mul(100).round(2)"
   ]
  },
  {
   "cell_type": "code",
   "execution_count": 298,
   "metadata": {},
   "outputs": [],
   "source": [
    "import numpy as np \n",
    "def perc(n):\n",
    "    def perc_(x):\n",
    "        return np.percentile(x, n)\n",
    "    perc_.__name__ = 'perc_%s' % n\n",
    "    return perc_"
   ]
  },
  {
   "cell_type": "code",
   "execution_count": 299,
   "metadata": {},
   "outputs": [
    {
     "data": {
      "text/html": [
       "<div>\n",
       "<style scoped>\n",
       "    .dataframe tbody tr th:only-of-type {\n",
       "        vertical-align: middle;\n",
       "    }\n",
       "\n",
       "    .dataframe tbody tr th {\n",
       "        vertical-align: top;\n",
       "    }\n",
       "\n",
       "    .dataframe thead th {\n",
       "        text-align: right;\n",
       "    }\n",
       "</style>\n",
       "<table border=\"1\" class=\"dataframe\">\n",
       "  <thead>\n",
       "    <tr style=\"text-align: right;\">\n",
       "      <th></th>\n",
       "      <th></th>\n",
       "      <th>max</th>\n",
       "      <th>min</th>\n",
       "      <th>mean</th>\n",
       "      <th>std</th>\n",
       "      <th>median</th>\n",
       "      <th>perc_95</th>\n",
       "    </tr>\n",
       "    <tr>\n",
       "      <th>unit</th>\n",
       "      <th>char_seq_feature</th>\n",
       "      <th></th>\n",
       "      <th></th>\n",
       "      <th></th>\n",
       "      <th></th>\n",
       "      <th></th>\n",
       "      <th></th>\n",
       "    </tr>\n",
       "  </thead>\n",
       "  <tbody>\n",
       "    <tr>\n",
       "      <th>morph</th>\n",
       "      <th>CNN</th>\n",
       "      <td>97.22</td>\n",
       "      <td>96.93</td>\n",
       "      <td>97.06</td>\n",
       "      <td>0.09</td>\n",
       "      <td>97.06</td>\n",
       "      <td>97.21</td>\n",
       "    </tr>\n",
       "    <tr>\n",
       "      <th>token</th>\n",
       "      <th>CNN</th>\n",
       "      <td>96.93</td>\n",
       "      <td>96.66</td>\n",
       "      <td>96.81</td>\n",
       "      <td>0.09</td>\n",
       "      <td>96.82</td>\n",
       "      <td>96.90</td>\n",
       "    </tr>\n",
       "  </tbody>\n",
       "</table>\n",
       "</div>"
      ],
      "text/plain": [
       "                          max    min   mean   std  median  perc_95\n",
       "unit  char_seq_feature                                            \n",
       "morph CNN               97.22  96.93  97.06  0.09   97.06    97.21\n",
       "token CNN               96.93  96.66  96.81  0.09   96.82    96.90"
      ]
     },
     "execution_count": 299,
     "metadata": {},
     "output_type": "execute_result"
    }
   ],
   "source": [
    "erdf.groupby(['unit', 'char_seq_feature']).relevant_score.agg(['max', 'min', 'mean', 'std', 'median', perc(95)]).mul(100).round(2)"
   ]
  },
  {
   "cell_type": "code",
   "execution_count": 300,
   "metadata": {},
   "outputs": [
    {
     "data": {
      "text/html": [
       "<div>\n",
       "<style scoped>\n",
       "    .dataframe tbody tr th:only-of-type {\n",
       "        vertical-align: middle;\n",
       "    }\n",
       "\n",
       "    .dataframe tbody tr th {\n",
       "        vertical-align: top;\n",
       "    }\n",
       "\n",
       "    .dataframe thead th {\n",
       "        text-align: right;\n",
       "    }\n",
       "</style>\n",
       "<table border=\"1\" class=\"dataframe\">\n",
       "  <thead>\n",
       "    <tr style=\"text-align: right;\">\n",
       "      <th></th>\n",
       "      <th></th>\n",
       "      <th>max</th>\n",
       "      <th>min</th>\n",
       "      <th>mean</th>\n",
       "      <th>std</th>\n",
       "      <th>median</th>\n",
       "      <th>perc_95</th>\n",
       "    </tr>\n",
       "    <tr>\n",
       "      <th>unit</th>\n",
       "      <th>char_seq_feature</th>\n",
       "      <th></th>\n",
       "      <th></th>\n",
       "      <th></th>\n",
       "      <th></th>\n",
       "      <th></th>\n",
       "      <th></th>\n",
       "    </tr>\n",
       "  </thead>\n",
       "  <tbody>\n",
       "    <tr>\n",
       "      <th>morph</th>\n",
       "      <th>CNN</th>\n",
       "      <td>97.22</td>\n",
       "      <td>96.93</td>\n",
       "      <td>97.06</td>\n",
       "      <td>0.09</td>\n",
       "      <td>97.06</td>\n",
       "      <td>97.21</td>\n",
       "    </tr>\n",
       "    <tr>\n",
       "      <th>token</th>\n",
       "      <th>CNN</th>\n",
       "      <td>96.93</td>\n",
       "      <td>96.66</td>\n",
       "      <td>96.81</td>\n",
       "      <td>0.09</td>\n",
       "      <td>96.82</td>\n",
       "      <td>96.90</td>\n",
       "    </tr>\n",
       "  </tbody>\n",
       "</table>\n",
       "</div>"
      ],
      "text/plain": [
       "                          max    min   mean   std  median  perc_95\n",
       "unit  char_seq_feature                                            \n",
       "morph CNN               97.22  96.93  97.06  0.09   97.06    97.21\n",
       "token CNN               96.93  96.66  96.81  0.09   96.82    96.90"
      ]
     },
     "execution_count": 300,
     "metadata": {},
     "output_type": "execute_result"
    }
   ],
   "source": [
    "erdf.groupby(['unit', 'char_seq_feature']).relevant_score.agg(['max', 'min', 'mean', 'std', 'median', perc(95)]).mul(100).round(2)"
   ]
  },
  {
   "cell_type": "code",
   "execution_count": 301,
   "metadata": {},
   "outputs": [],
   "source": [
    "erdf.to_pickle('final_setup/noseg_plo_erdf.pkl')"
   ]
  },
  {
   "cell_type": "markdown",
   "metadata": {},
   "source": [
    "## Decode"
   ]
  },
  {
   "cell_type": "code",
   "execution_count": 302,
   "metadata": {},
   "outputs": [],
   "source": [
    "output_folder = 'final_setup/noseg_plo_decode_output'\n",
    "decode_conf_folder = 'final_setup/noseg_plo_decode_conf'"
   ]
  },
  {
   "cell_type": "code",
   "execution_count": 303,
   "metadata": {},
   "outputs": [],
   "source": [
    "if not os.path.exists(output_folder):\n",
    "    os.mkdir(output_folder)\n",
    "\n",
    "if not os.path.exists(decode_conf_folder):\n",
    "    os.mkdir(decode_conf_folder)\n",
    "    \n",
    "decode_sets = {\n",
    "    'morph': {\n",
    "        'morph_dev_gold': '../NER/data/for_ncrf/morph_gold_dev_plo.bmes',\n",
    "        'morph_dev_yap': '../NER/data/for_ncrf/morph_yap_dev_dummy_o.bmes',\n",
    "        'morph_test_gold': '../NER/data/for_ncrf/morph_gold_test_plo.bmes',\n",
    "        'morph_test_yap': '../NER/data/for_ncrf/morph_yap_test_dummy_o.bmes',\n",
    "    },\n",
    "    'token': {\n",
    "        'token_dev': '../NER/data/for_ncrf/token_gold_dev_fix_plo.bmes',\n",
    "        'token_test': '../NER/data/for_ncrf/token_gold_test_fix_plo.bmes',\n",
    "    },\n",
    "    'multitok': {\n",
    "        'token_dev': '../NER/data/for_ncrf/token_gold_dev_concat_plo.bmes',\n",
    "        'token_test': '../NER/data/for_ncrf/token_gold_test_concat_plo.bmes',\n",
    "    }\n",
    "}"
   ]
  },
  {
   "cell_type": "code",
   "execution_count": 304,
   "metadata": {},
   "outputs": [],
   "source": [
    "params = { 'status': 'decode' }\n",
    "\n",
    "for i, row in erdf.iterrows():\n",
    "    unit = row['unit']\n",
    "    for name, set_path in decode_sets[unit].items():\n",
    "        row_par = params.copy()\n",
    "        row_par['load_model_dir'] = os.path.join(models_folder, row['model_file_name'])\n",
    "        row_par['dset_dir'] = os.path.join(models_folder, row['dset_file_name'])\n",
    "        row_par['decode_dir'] = os.path.join(output_folder, name+'.'+row['model_base_name']+'.bmes')\n",
    "        row_par['raw_dir'] = set_path\n",
    "        \n",
    "        conf_path = os.path.join(decode_conf_folder, name+'.'+row['model_base_name']+'.decode.conf')\n",
    "        if not os.path.exists(conf_path):\n",
    "            with open(conf_path, 'w', encoding='utf8') as of:\n",
    "                for k, v in row_par.items():\n",
    "                    of.write(k+'='+str(v)+'\\n')        \n",
    " "
   ]
  },
  {
   "cell_type": "code",
   "execution_count": null,
   "metadata": {},
   "outputs": [],
   "source": []
  },
  {
   "cell_type": "code",
   "execution_count": 305,
   "metadata": {},
   "outputs": [],
   "source": [
    "import os, re"
   ]
  },
  {
   "cell_type": "code",
   "execution_count": 274,
   "metadata": {},
   "outputs": [
    {
     "data": {
      "text/plain": [
       "[]"
      ]
     },
     "execution_count": 274,
     "metadata": {},
     "output_type": "execute_result"
    }
   ],
   "source": [
    "pred_line = re.compile('Predict raw 1-best result has been written into file.*')\n",
    "bads = []\n",
    "for f in os.scandir('final_setup/noseg_plo_decode_logs'):\n",
    "    if f.name=='.ipynb_checkpoints' or f.name=='.log':\n",
    "        continue\n",
    "    with open(f.path, 'r') as fp:\n",
    "        data = fp.read()\n",
    "        if len(re.findall(pred_line, data))==0:\n",
    "            bads.append (f.name)\n",
    "            #os.remove(f.path)\n",
    "sorted(bads)"
   ]
  },
  {
   "cell_type": "code",
   "execution_count": 275,
   "metadata": {},
   "outputs": [],
   "source": [
    "from collections import Counter"
   ]
  },
  {
   "cell_type": "code",
   "execution_count": 276,
   "metadata": {},
   "outputs": [
    {
     "data": {
      "text/plain": [
       "[]"
      ]
     },
     "execution_count": 276,
     "metadata": {},
     "output_type": "execute_result"
    }
   ],
   "source": [
    "xxx = []\n",
    "for f in os.scandir('final_setup/noseg_plo_decode_output'):\n",
    "    if f.name=='.ipynb_checkpoints' or f.name=='.bmes':\n",
    "        continue\n",
    "    elif 'pruned' in f.name:\n",
    "        xxx.append('.'.join(f.name.split('.')[:-2]))\n",
    "Counter(xxx).most_common()"
   ]
  },
  {
   "cell_type": "markdown",
   "metadata": {},
   "source": [
    "## Evaluate decoded folder"
   ]
  },
  {
   "cell_type": "code",
   "execution_count": 277,
   "metadata": {},
   "outputs": [],
   "source": [
    "erdf = pd.read_pickle('final_setup/noseg_plo_erdf.pkl')"
   ]
  },
  {
   "cell_type": "code",
   "execution_count": 278,
   "metadata": {},
   "outputs": [],
   "source": [
    "import sys\n",
    "sys.path.append('../NER')\n",
    "import ne_evaluate_mentions as nem"
   ]
  },
  {
   "cell_type": "code",
   "execution_count": 306,
   "metadata": {},
   "outputs": [],
   "source": [
    "scores = {}"
   ]
  },
  {
   "cell_type": "code",
   "execution_count": 280,
   "metadata": {},
   "outputs": [],
   "source": [
    "if os.path.exists('final_setup/noseg_plo_scores.pkl'):\n",
    "    scores = pickle.load(open('final_setup/noseg_plo_scores.pkl', 'rb'))"
   ]
  },
  {
   "cell_type": "code",
   "execution_count": 307,
   "metadata": {},
   "outputs": [],
   "source": [
    "for file in os.scandir(output_folder):\n",
    "    if file.name=='.ipynb_checkpoints':\n",
    "        continue\n",
    "    gold_name, inp, arch, w_embed, seed_num = file.name.split('.')[:-1]\n",
    "    if (gold_name, inp, arch, w_embed, seed_num) not in scores:\n",
    "        if len(gold_name.split('_'))>2:\n",
    "            unit, pred_set, _ = gold_name.split('_')\n",
    "            gold_path = decode_sets[unit][unit+'_'+pred_set+'_gold']\n",
    "        else:\n",
    "            unit, pred_set = gold_name.split('_')\n",
    "            gold_path = decode_sets[unit][unit+'_'+pred_set]\n",
    "        p, r, f = nem.evaluate_files(gold_path, file)\n",
    "        scores[(gold_name, inp, arch, w_embed, seed_num)] = (p, r, f)\n",
    "    "
   ]
  },
  {
   "cell_type": "code",
   "execution_count": 308,
   "metadata": {},
   "outputs": [],
   "source": [
    "import pickle\n",
    "pickle.dump(scores, open('final_setup/noseg_plo_scores.pkl', 'wb'))"
   ]
  },
  {
   "cell_type": "code",
   "execution_count": 309,
   "metadata": {},
   "outputs": [],
   "source": [
    "score_tups = [(*k, *v) for k,v in scores.items()]"
   ]
  },
  {
   "cell_type": "code",
   "execution_count": 310,
   "metadata": {},
   "outputs": [
    {
     "data": {
      "text/html": [
       "<div>\n",
       "<style scoped>\n",
       "    .dataframe tbody tr th:only-of-type {\n",
       "        vertical-align: middle;\n",
       "    }\n",
       "\n",
       "    .dataframe tbody tr th {\n",
       "        vertical-align: top;\n",
       "    }\n",
       "\n",
       "    .dataframe thead th {\n",
       "        text-align: right;\n",
       "    }\n",
       "</style>\n",
       "<table border=\"1\" class=\"dataframe\">\n",
       "  <thead>\n",
       "    <tr style=\"text-align: right;\">\n",
       "      <th></th>\n",
       "      <th></th>\n",
       "      <th></th>\n",
       "      <th>max</th>\n",
       "      <th>min</th>\n",
       "      <th>mean</th>\n",
       "      <th>std</th>\n",
       "      <th>median</th>\n",
       "      <th>perc_95</th>\n",
       "    </tr>\n",
       "    <tr>\n",
       "      <th>gold_name</th>\n",
       "      <th>unit</th>\n",
       "      <th>arch</th>\n",
       "      <th></th>\n",
       "      <th></th>\n",
       "      <th></th>\n",
       "      <th></th>\n",
       "      <th></th>\n",
       "      <th></th>\n",
       "    </tr>\n",
       "  </thead>\n",
       "  <tbody>\n",
       "    <tr>\n",
       "      <th>morph_dev_gold</th>\n",
       "      <th>morph</th>\n",
       "      <th>char_cnn</th>\n",
       "      <td>0.842105</td>\n",
       "      <td>0.801275</td>\n",
       "      <td>0.822758</td>\n",
       "      <td>0.009799</td>\n",
       "      <td>0.823080</td>\n",
       "      <td>0.838946</td>\n",
       "    </tr>\n",
       "    <tr>\n",
       "      <th>morph_dev_yap</th>\n",
       "      <th>morph</th>\n",
       "      <th>char_cnn</th>\n",
       "      <td>0.767338</td>\n",
       "      <td>0.722944</td>\n",
       "      <td>0.746338</td>\n",
       "      <td>0.011609</td>\n",
       "      <td>0.743981</td>\n",
       "      <td>0.765579</td>\n",
       "    </tr>\n",
       "    <tr>\n",
       "      <th>token_dev</th>\n",
       "      <th>token</th>\n",
       "      <th>char_cnn</th>\n",
       "      <td>0.813043</td>\n",
       "      <td>0.797814</td>\n",
       "      <td>0.804954</td>\n",
       "      <td>0.006030</td>\n",
       "      <td>0.804637</td>\n",
       "      <td>0.812646</td>\n",
       "    </tr>\n",
       "  </tbody>\n",
       "</table>\n",
       "</div>"
      ],
      "text/plain": [
       "                                    max       min      mean       std  \\\n",
       "gold_name      unit  arch                                               \n",
       "morph_dev_gold morph char_cnn  0.842105  0.801275  0.822758  0.009799   \n",
       "morph_dev_yap  morph char_cnn  0.767338  0.722944  0.746338  0.011609   \n",
       "token_dev      token char_cnn  0.813043  0.797814  0.804954  0.006030   \n",
       "\n",
       "                                 median   perc_95  \n",
       "gold_name      unit  arch                          \n",
       "morph_dev_gold morph char_cnn  0.823080  0.838946  \n",
       "morph_dev_yap  morph char_cnn  0.743981  0.765579  \n",
       "token_dev      token char_cnn  0.804637  0.812646  "
      ]
     },
     "execution_count": 310,
     "metadata": {},
     "output_type": "execute_result"
    }
   ],
   "source": [
    "mev = pd.DataFrame(score_tups, columns=('gold_name', 'unit', 'arch', \n",
    "                                        'w_embed', 'seed_num', \n",
    "                                        'p_m', 'r_m', 'f_m'))\n",
    "(mev[mev.gold_name.str.contains('dev')].groupby(['gold_name', 'unit', 'arch'])\n",
    " .f_m.agg(['max', 'min', 'mean', 'std', 'median', perc(95)]))"
   ]
  },
  {
   "cell_type": "code",
   "execution_count": 311,
   "metadata": {},
   "outputs": [
    {
     "data": {
      "text/plain": [
       "gold_name       unit   arch    \n",
       "morph_dev_gold  morph  char_cnn    20\n",
       "morph_dev_yap   morph  char_cnn    20\n",
       "token_dev       token  char_cnn    10\n",
       "dtype: int64"
      ]
     },
     "execution_count": 311,
     "metadata": {},
     "output_type": "execute_result"
    }
   ],
   "source": [
    "(mev[mev.gold_name.str.contains('dev')].groupby(['gold_name', 'unit', 'arch']).size())"
   ]
  },
  {
   "cell_type": "code",
   "execution_count": 312,
   "metadata": {},
   "outputs": [
    {
     "data": {
      "text/html": [
       "<div>\n",
       "<style scoped>\n",
       "    .dataframe tbody tr th:only-of-type {\n",
       "        vertical-align: middle;\n",
       "    }\n",
       "\n",
       "    .dataframe tbody tr th {\n",
       "        vertical-align: top;\n",
       "    }\n",
       "\n",
       "    .dataframe thead th {\n",
       "        text-align: right;\n",
       "    }\n",
       "</style>\n",
       "<table border=\"1\" class=\"dataframe\">\n",
       "  <thead>\n",
       "    <tr style=\"text-align: right;\">\n",
       "      <th></th>\n",
       "      <th>gold_name</th>\n",
       "      <th>unit</th>\n",
       "      <th>arch</th>\n",
       "      <th>w_embed</th>\n",
       "      <th>seed_num</th>\n",
       "      <th>p_m</th>\n",
       "      <th>r_m</th>\n",
       "      <th>f_m</th>\n",
       "    </tr>\n",
       "  </thead>\n",
       "  <tbody>\n",
       "    <tr>\n",
       "      <th>0</th>\n",
       "      <td>token_dev</td>\n",
       "      <td>token</td>\n",
       "      <td>char_cnn</td>\n",
       "      <td>ft_oov_tok</td>\n",
       "      <td>45_seed</td>\n",
       "      <td>0.836689</td>\n",
       "      <td>0.790698</td>\n",
       "      <td>0.813043</td>\n",
       "    </tr>\n",
       "    <tr>\n",
       "      <th>1</th>\n",
       "      <td>token_test</td>\n",
       "      <td>token</td>\n",
       "      <td>char_cnn</td>\n",
       "      <td>ft_oov_tok</td>\n",
       "      <td>45_seed</td>\n",
       "      <td>0.803965</td>\n",
       "      <td>0.791757</td>\n",
       "      <td>0.797814</td>\n",
       "    </tr>\n",
       "    <tr>\n",
       "      <th>2</th>\n",
       "      <td>token_dev</td>\n",
       "      <td>token</td>\n",
       "      <td>char_cnn</td>\n",
       "      <td>ft_oov_tok</td>\n",
       "      <td>44_seed</td>\n",
       "      <td>0.825792</td>\n",
       "      <td>0.771670</td>\n",
       "      <td>0.797814</td>\n",
       "    </tr>\n",
       "    <tr>\n",
       "      <th>3</th>\n",
       "      <td>token_test</td>\n",
       "      <td>token</td>\n",
       "      <td>char_cnn</td>\n",
       "      <td>ft_oov_tok</td>\n",
       "      <td>44_seed</td>\n",
       "      <td>0.795380</td>\n",
       "      <td>0.784165</td>\n",
       "      <td>0.789732</td>\n",
       "    </tr>\n",
       "    <tr>\n",
       "      <th>4</th>\n",
       "      <td>morph_dev_gold</td>\n",
       "      <td>morph</td>\n",
       "      <td>char_cnn</td>\n",
       "      <td>ft_oov_tok</td>\n",
       "      <td>46_seed</td>\n",
       "      <td>0.845455</td>\n",
       "      <td>0.786469</td>\n",
       "      <td>0.814896</td>\n",
       "    </tr>\n",
       "  </tbody>\n",
       "</table>\n",
       "</div>"
      ],
      "text/plain": [
       "        gold_name   unit      arch     w_embed seed_num       p_m       r_m  \\\n",
       "0       token_dev  token  char_cnn  ft_oov_tok  45_seed  0.836689  0.790698   \n",
       "1      token_test  token  char_cnn  ft_oov_tok  45_seed  0.803965  0.791757   \n",
       "2       token_dev  token  char_cnn  ft_oov_tok  44_seed  0.825792  0.771670   \n",
       "3      token_test  token  char_cnn  ft_oov_tok  44_seed  0.795380  0.784165   \n",
       "4  morph_dev_gold  morph  char_cnn  ft_oov_tok  46_seed  0.845455  0.786469   \n",
       "\n",
       "        f_m  \n",
       "0  0.813043  \n",
       "1  0.797814  \n",
       "2  0.797814  \n",
       "3  0.789732  \n",
       "4  0.814896  "
      ]
     },
     "execution_count": 312,
     "metadata": {},
     "output_type": "execute_result"
    }
   ],
   "source": [
    "mev.head()"
   ]
  },
  {
   "cell_type": "code",
   "execution_count": 313,
   "metadata": {},
   "outputs": [],
   "source": [
    "mev['pred_set'] = mev.gold_name.apply(lambda x: '_'.join(x.split('_')[1:]))"
   ]
  },
  {
   "cell_type": "code",
   "execution_count": 314,
   "metadata": {},
   "outputs": [],
   "source": [
    "mev = mev.merge(erdf, how='left')"
   ]
  },
  {
   "cell_type": "code",
   "execution_count": 315,
   "metadata": {},
   "outputs": [
    {
     "data": {
      "text/html": [
       "<div>\n",
       "<style scoped>\n",
       "    .dataframe tbody tr th:only-of-type {\n",
       "        vertical-align: middle;\n",
       "    }\n",
       "\n",
       "    .dataframe tbody tr th {\n",
       "        vertical-align: top;\n",
       "    }\n",
       "\n",
       "    .dataframe thead tr th {\n",
       "        text-align: left;\n",
       "    }\n",
       "\n",
       "    .dataframe thead tr:last-of-type th {\n",
       "        text-align: right;\n",
       "    }\n",
       "</style>\n",
       "<table border=\"1\" class=\"dataframe\">\n",
       "  <thead>\n",
       "    <tr>\n",
       "      <th></th>\n",
       "      <th></th>\n",
       "      <th></th>\n",
       "      <th colspan=\"2\" halign=\"left\">mean</th>\n",
       "    </tr>\n",
       "    <tr>\n",
       "      <th></th>\n",
       "      <th></th>\n",
       "      <th>embed_type</th>\n",
       "      <th colspan=\"2\" halign=\"left\">ft_oov</th>\n",
       "    </tr>\n",
       "    <tr>\n",
       "      <th></th>\n",
       "      <th></th>\n",
       "      <th>cm</th>\n",
       "      <th>Clash</th>\n",
       "      <th>Match</th>\n",
       "    </tr>\n",
       "    <tr>\n",
       "      <th>unit</th>\n",
       "      <th>pred_set</th>\n",
       "      <th>arch</th>\n",
       "      <th></th>\n",
       "      <th></th>\n",
       "    </tr>\n",
       "  </thead>\n",
       "  <tbody>\n",
       "    <tr>\n",
       "      <th rowspan=\"2\" valign=\"top\">morph</th>\n",
       "      <th>dev_gold</th>\n",
       "      <th>char_cnn</th>\n",
       "      <td>81.59 ± 0.7</td>\n",
       "      <td>82.96 ± 0.7</td>\n",
       "    </tr>\n",
       "    <tr>\n",
       "      <th>dev_yap</th>\n",
       "      <th>char_cnn</th>\n",
       "      <td>73.82 ± 0.8</td>\n",
       "      <td>75.44 ± 0.9</td>\n",
       "    </tr>\n",
       "    <tr>\n",
       "      <th>token</th>\n",
       "      <th>dev</th>\n",
       "      <th>char_cnn</th>\n",
       "      <td>NaN</td>\n",
       "      <td>80.50 ± 0.6</td>\n",
       "    </tr>\n",
       "  </tbody>\n",
       "</table>\n",
       "</div>"
      ],
      "text/plain": [
       "                                mean             \n",
       "embed_type                    ft_oov             \n",
       "cm                             Clash        Match\n",
       "unit  pred_set arch                              \n",
       "morph dev_gold char_cnn  81.59 ± 0.7  82.96 ± 0.7\n",
       "      dev_yap  char_cnn  73.82 ± 0.8  75.44 ± 0.9\n",
       "token dev      char_cnn          NaN  80.50 ± 0.6"
      ]
     },
     "execution_count": 315,
     "metadata": {},
     "output_type": "execute_result"
    }
   ],
   "source": [
    "(mev[mev.pred_set.str.contains('dev')].groupby(['unit', 'pred_set', 'arch', 'embed_type', 'cm'])\n",
    " .f_m.agg(['mean', 'std']).mul(100).round(2)\n",
    " .assign(mean = lambda x: x['mean'].apply('{:,.2f}'.format).astype(str)+' ± '+ x['std'].round(1).astype(str))[['mean']]\n",
    " .unstack([-2,-1]))\n"
   ]
  },
  {
   "cell_type": "code",
   "execution_count": 316,
   "metadata": {},
   "outputs": [
    {
     "data": {
      "text/html": [
       "<div>\n",
       "<style scoped>\n",
       "    .dataframe tbody tr th:only-of-type {\n",
       "        vertical-align: middle;\n",
       "    }\n",
       "\n",
       "    .dataframe tbody tr th {\n",
       "        vertical-align: top;\n",
       "    }\n",
       "\n",
       "    .dataframe thead tr th {\n",
       "        text-align: left;\n",
       "    }\n",
       "\n",
       "    .dataframe thead tr:last-of-type th {\n",
       "        text-align: right;\n",
       "    }\n",
       "</style>\n",
       "<table border=\"1\" class=\"dataframe\">\n",
       "  <thead>\n",
       "    <tr>\n",
       "      <th></th>\n",
       "      <th></th>\n",
       "      <th>embed_type</th>\n",
       "      <th colspan=\"4\" halign=\"left\">ft_oov</th>\n",
       "    </tr>\n",
       "    <tr>\n",
       "      <th></th>\n",
       "      <th></th>\n",
       "      <th>cm</th>\n",
       "      <th colspan=\"2\" halign=\"left\">Clash</th>\n",
       "      <th colspan=\"2\" halign=\"left\">Match</th>\n",
       "    </tr>\n",
       "    <tr>\n",
       "      <th></th>\n",
       "      <th></th>\n",
       "      <th></th>\n",
       "      <th>mean</th>\n",
       "      <th>std</th>\n",
       "      <th>mean</th>\n",
       "      <th>std</th>\n",
       "    </tr>\n",
       "    <tr>\n",
       "      <th>unit</th>\n",
       "      <th>pred_set</th>\n",
       "      <th>arch</th>\n",
       "      <th></th>\n",
       "      <th></th>\n",
       "      <th></th>\n",
       "      <th></th>\n",
       "    </tr>\n",
       "  </thead>\n",
       "  <tbody>\n",
       "    <tr>\n",
       "      <th rowspan=\"2\" valign=\"top\">morph</th>\n",
       "      <th>dev_gold</th>\n",
       "      <th>char_cnn</th>\n",
       "      <td>81.59</td>\n",
       "      <td>0.7</td>\n",
       "      <td>82.96</td>\n",
       "      <td>0.7</td>\n",
       "    </tr>\n",
       "    <tr>\n",
       "      <th>dev_yap</th>\n",
       "      <th>char_cnn</th>\n",
       "      <td>73.82</td>\n",
       "      <td>0.8</td>\n",
       "      <td>75.44</td>\n",
       "      <td>0.9</td>\n",
       "    </tr>\n",
       "    <tr>\n",
       "      <th>token</th>\n",
       "      <th>dev</th>\n",
       "      <th>char_cnn</th>\n",
       "      <td>NaN</td>\n",
       "      <td>NaN</td>\n",
       "      <td>80.50</td>\n",
       "      <td>0.6</td>\n",
       "    </tr>\n",
       "  </tbody>\n",
       "</table>\n",
       "</div>"
      ],
      "text/plain": [
       "embed_type              ft_oov                 \n",
       "cm                       Clash       Match     \n",
       "                          mean  std   mean  std\n",
       "unit  pred_set arch                            \n",
       "morph dev_gold char_cnn  81.59  0.7  82.96  0.7\n",
       "      dev_yap  char_cnn  73.82  0.8  75.44  0.9\n",
       "token dev      char_cnn    NaN  NaN  80.50  0.6"
      ]
     },
     "execution_count": 316,
     "metadata": {},
     "output_type": "execute_result"
    }
   ],
   "source": [
    "x = (mev[mev.pred_set.str.contains('dev')].groupby(['unit', 'pred_set', 'arch', 'embed_type', 'cm'])\n",
    " .f_m.agg([ 'mean', 'std']).mul(100).round(2)\n",
    " .assign(std = lambda x: x['std'].round(1))\n",
    " .unstack([-2,-1]))\n",
    "x.columns = x.columns.reorder_levels([1,2,0])\n",
    "pd.set_option(\"max_columns\", 30)\n",
    "x.sort_index(axis=1)\n"
   ]
  },
  {
   "cell_type": "code",
   "execution_count": 317,
   "metadata": {},
   "outputs": [
    {
     "data": {
      "text/html": [
       "<div>\n",
       "<style scoped>\n",
       "    .dataframe tbody tr th:only-of-type {\n",
       "        vertical-align: middle;\n",
       "    }\n",
       "\n",
       "    .dataframe tbody tr th {\n",
       "        vertical-align: top;\n",
       "    }\n",
       "\n",
       "    .dataframe thead th {\n",
       "        text-align: right;\n",
       "    }\n",
       "</style>\n",
       "<table border=\"1\" class=\"dataframe\">\n",
       "  <thead>\n",
       "    <tr style=\"text-align: right;\">\n",
       "      <th>cm</th>\n",
       "    </tr>\n",
       "    <tr>\n",
       "      <th>pred_set</th>\n",
       "    </tr>\n",
       "  </thead>\n",
       "  <tbody>\n",
       "  </tbody>\n",
       "</table>\n",
       "</div>"
      ],
      "text/plain": [
       "Empty DataFrame\n",
       "Columns: []\n",
       "Index: []"
      ]
     },
     "execution_count": 317,
     "metadata": {},
     "output_type": "execute_result"
    }
   ],
   "source": [
    "mev[(mev.unit=='morph') & (mev.pred_set.str.contains('pruned')) & (mev.embed_type=='ft_oov') & (mev.arch=='char_cnn')].groupby(['pred_set','cm']).f_m.mean().unstack()"
   ]
  },
  {
   "cell_type": "code",
   "execution_count": 318,
   "metadata": {},
   "outputs": [
    {
     "data": {
      "text/html": [
       "<div>\n",
       "<style scoped>\n",
       "    .dataframe tbody tr th:only-of-type {\n",
       "        vertical-align: middle;\n",
       "    }\n",
       "\n",
       "    .dataframe tbody tr th {\n",
       "        vertical-align: top;\n",
       "    }\n",
       "\n",
       "    .dataframe thead th {\n",
       "        text-align: right;\n",
       "    }\n",
       "</style>\n",
       "<table border=\"1\" class=\"dataframe\">\n",
       "  <thead>\n",
       "    <tr style=\"text-align: right;\">\n",
       "      <th></th>\n",
       "      <th></th>\n",
       "      <th>pred_set_main</th>\n",
       "      <th>dev</th>\n",
       "      <th>test</th>\n",
       "      <th>ratio</th>\n",
       "    </tr>\n",
       "    <tr>\n",
       "      <th>unit</th>\n",
       "      <th>pred_set_sub</th>\n",
       "      <th>cm</th>\n",
       "      <th></th>\n",
       "      <th></th>\n",
       "      <th></th>\n",
       "    </tr>\n",
       "  </thead>\n",
       "  <tbody>\n",
       "    <tr>\n",
       "      <th rowspan=\"4\" valign=\"top\">morph</th>\n",
       "      <th rowspan=\"2\" valign=\"top\">gold</th>\n",
       "      <th>Clash</th>\n",
       "      <td>81.59</td>\n",
       "      <td>78.86</td>\n",
       "      <td>-3.3</td>\n",
       "    </tr>\n",
       "    <tr>\n",
       "      <th>Match</th>\n",
       "      <td>82.96</td>\n",
       "      <td>79.76</td>\n",
       "      <td>-3.9</td>\n",
       "    </tr>\n",
       "    <tr>\n",
       "      <th rowspan=\"2\" valign=\"top\">yap</th>\n",
       "      <th>Clash</th>\n",
       "      <td>73.82</td>\n",
       "      <td>68.80</td>\n",
       "      <td>-6.8</td>\n",
       "    </tr>\n",
       "    <tr>\n",
       "      <th>Match</th>\n",
       "      <td>75.44</td>\n",
       "      <td>69.49</td>\n",
       "      <td>-7.9</td>\n",
       "    </tr>\n",
       "    <tr>\n",
       "      <th>token</th>\n",
       "      <th></th>\n",
       "      <th>Match</th>\n",
       "      <td>80.50</td>\n",
       "      <td>79.60</td>\n",
       "      <td>-1.1</td>\n",
       "    </tr>\n",
       "  </tbody>\n",
       "</table>\n",
       "</div>"
      ],
      "text/plain": [
       "pred_set_main               dev   test  ratio\n",
       "unit  pred_set_sub cm                        \n",
       "morph gold         Clash  81.59  78.86   -3.3\n",
       "                   Match  82.96  79.76   -3.9\n",
       "      yap          Clash  73.82  68.80   -6.8\n",
       "                   Match  75.44  69.49   -7.9\n",
       "token              Match  80.50  79.60   -1.1"
      ]
     },
     "execution_count": 318,
     "metadata": {},
     "output_type": "execute_result"
    }
   ],
   "source": [
    "mev['pred_set_sub'] = mev.pred_set.apply(lambda x: x.split('_')[1] if '_' in x else '')\n",
    "mev['pred_set_main'] = mev.pred_set.apply(lambda x: x.split('_')[0] )\n",
    "(mev[((mev.unit!='morph') & (mev.embed_type=='ft_oov') \n",
    "    ) \n",
    "    |\n",
    "     ((mev.unit=='morph') \n",
    "       & (mev.embed_type=='ft_oov') \n",
    "      & (mev.arch=='char_cnn'))].groupby(['unit', 'pred_set_sub', 'cm', 'pred_set_main',])\n",
    " .f_m.mean().unstack().mul(100).round(2)\n",
    " .assign(ratio = lambda x: (x.test/x.dev -1).mul(100).round(1)))"
   ]
  },
  {
   "cell_type": "code",
   "execution_count": 260,
   "metadata": {},
   "outputs": [],
   "source": [
    "mev.to_pickle('final_setup/noseg_plo_mev.pkl')"
   ]
  },
  {
   "cell_type": "code",
   "execution_count": null,
   "metadata": {},
   "outputs": [],
   "source": []
  },
  {
   "cell_type": "code",
   "execution_count": 80,
   "metadata": {},
   "outputs": [],
   "source": [
    "import os\n",
    "from collections import defaultdict\n",
    "for d in os.scandir('hp_search'):\n",
    "    if d.name.startswith('models'):\n",
    "        all_models_paths = defaultdict(list)\n",
    "        all_models_epoch = defaultdict(lambda: -1)\n",
    "        for f in os.scandir(d.path):\n",
    "            if f.name!='.model' and f.name.endswith('.model'):\n",
    "                a, c, _, e, _ = f.name.split('.')\n",
    "                e = int(e)\n",
    "                all_models_epoch[(a,c)] = max(alL_models_epoch[(a,c)], e)\n",
    "                all_models_paths[(a,c)].append((e, f.path))\n",
    "        for k, v in all_models_paths.items():\n",
    "            for e, path in v:\n",
    "                if e!=all_models_epoch[k]:\n",
    "                    #os.remove(path)\n",
    "\n",
    "        \n"
   ]
  },
  {
   "cell_type": "code",
   "execution_count": null,
   "metadata": {},
   "outputs": [],
   "source": []
  },
  {
   "cell_type": "code",
   "execution_count": null,
   "metadata": {},
   "outputs": [],
   "source": []
  },
  {
   "cell_type": "code",
   "execution_count": null,
   "metadata": {},
   "outputs": [],
   "source": []
  },
  {
   "cell_type": "code",
   "execution_count": null,
   "metadata": {},
   "outputs": [],
   "source": []
  },
  {
   "cell_type": "code",
   "execution_count": null,
   "metadata": {},
   "outputs": [],
   "source": []
  },
  {
   "cell_type": "code",
   "execution_count": null,
   "metadata": {},
   "outputs": [],
   "source": []
  },
  {
   "cell_type": "code",
   "execution_count": null,
   "metadata": {},
   "outputs": [],
   "source": []
  },
  {
   "cell_type": "code",
   "execution_count": null,
   "metadata": {},
   "outputs": [],
   "source": []
  },
  {
   "cell_type": "code",
   "execution_count": null,
   "metadata": {},
   "outputs": [],
   "source": []
  },
  {
   "cell_type": "code",
   "execution_count": null,
   "metadata": {},
   "outputs": [],
   "source": []
  },
  {
   "cell_type": "code",
   "execution_count": null,
   "metadata": {},
   "outputs": [],
   "source": []
  },
  {
   "cell_type": "code",
   "execution_count": null,
   "metadata": {},
   "outputs": [],
   "source": []
  },
  {
   "cell_type": "code",
   "execution_count": null,
   "metadata": {},
   "outputs": [],
   "source": []
  },
  {
   "cell_type": "code",
   "execution_count": null,
   "metadata": {},
   "outputs": [],
   "source": []
  },
  {
   "cell_type": "code",
   "execution_count": null,
   "metadata": {},
   "outputs": [],
   "source": []
  },
  {
   "cell_type": "code",
   "execution_count": null,
   "metadata": {},
   "outputs": [],
   "source": []
  },
  {
   "cell_type": "code",
   "execution_count": null,
   "metadata": {},
   "outputs": [],
   "source": []
  },
  {
   "cell_type": "code",
   "execution_count": null,
   "metadata": {},
   "outputs": [],
   "source": []
  },
  {
   "cell_type": "code",
   "execution_count": null,
   "metadata": {},
   "outputs": [],
   "source": []
  },
  {
   "cell_type": "code",
   "execution_count": null,
   "metadata": {},
   "outputs": [],
   "source": []
  },
  {
   "cell_type": "code",
   "execution_count": null,
   "metadata": {},
   "outputs": [],
   "source": []
  },
  {
   "cell_type": "code",
   "execution_count": null,
   "metadata": {},
   "outputs": [],
   "source": []
  },
  {
   "cell_type": "code",
   "execution_count": null,
   "metadata": {},
   "outputs": [],
   "source": []
  },
  {
   "cell_type": "code",
   "execution_count": null,
   "metadata": {},
   "outputs": [],
   "source": []
  },
  {
   "cell_type": "code",
   "execution_count": null,
   "metadata": {},
   "outputs": [],
   "source": []
  },
  {
   "cell_type": "code",
   "execution_count": null,
   "metadata": {},
   "outputs": [],
   "source": []
  },
  {
   "cell_type": "code",
   "execution_count": null,
   "metadata": {},
   "outputs": [],
   "source": []
  },
  {
   "cell_type": "code",
   "execution_count": null,
   "metadata": {},
   "outputs": [],
   "source": []
  },
  {
   "cell_type": "code",
   "execution_count": null,
   "metadata": {},
   "outputs": [],
   "source": []
  },
  {
   "cell_type": "code",
   "execution_count": null,
   "metadata": {},
   "outputs": [],
   "source": []
  },
  {
   "cell_type": "code",
   "execution_count": null,
   "metadata": {},
   "outputs": [],
   "source": []
  },
  {
   "cell_type": "code",
   "execution_count": null,
   "metadata": {},
   "outputs": [],
   "source": []
  },
  {
   "cell_type": "code",
   "execution_count": null,
   "metadata": {},
   "outputs": [],
   "source": []
  },
  {
   "cell_type": "code",
   "execution_count": null,
   "metadata": {},
   "outputs": [],
   "source": []
  },
  {
   "cell_type": "code",
   "execution_count": null,
   "metadata": {},
   "outputs": [],
   "source": []
  },
  {
   "cell_type": "code",
   "execution_count": null,
   "metadata": {},
   "outputs": [],
   "source": []
  },
  {
   "cell_type": "code",
   "execution_count": null,
   "metadata": {},
   "outputs": [],
   "source": []
  },
  {
   "cell_type": "code",
   "execution_count": null,
   "metadata": {},
   "outputs": [],
   "source": []
  },
  {
   "cell_type": "code",
   "execution_count": null,
   "metadata": {},
   "outputs": [],
   "source": []
  },
  {
   "cell_type": "code",
   "execution_count": null,
   "metadata": {},
   "outputs": [],
   "source": []
  },
  {
   "cell_type": "code",
   "execution_count": null,
   "metadata": {},
   "outputs": [],
   "source": []
  },
  {
   "cell_type": "code",
   "execution_count": null,
   "metadata": {},
   "outputs": [],
   "source": []
  },
  {
   "cell_type": "code",
   "execution_count": null,
   "metadata": {},
   "outputs": [],
   "source": []
  },
  {
   "cell_type": "code",
   "execution_count": null,
   "metadata": {},
   "outputs": [],
   "source": []
  },
  {
   "cell_type": "code",
   "execution_count": null,
   "metadata": {},
   "outputs": [],
   "source": []
  },
  {
   "cell_type": "code",
   "execution_count": null,
   "metadata": {},
   "outputs": [],
   "source": []
  },
  {
   "cell_type": "code",
   "execution_count": null,
   "metadata": {},
   "outputs": [],
   "source": []
  },
  {
   "cell_type": "code",
   "execution_count": null,
   "metadata": {},
   "outputs": [],
   "source": []
  },
  {
   "cell_type": "code",
   "execution_count": null,
   "metadata": {},
   "outputs": [],
   "source": []
  },
  {
   "cell_type": "code",
   "execution_count": null,
   "metadata": {},
   "outputs": [],
   "source": []
  },
  {
   "cell_type": "code",
   "execution_count": null,
   "metadata": {},
   "outputs": [],
   "source": []
  },
  {
   "cell_type": "code",
   "execution_count": null,
   "metadata": {},
   "outputs": [],
   "source": []
  },
  {
   "cell_type": "code",
   "execution_count": null,
   "metadata": {},
   "outputs": [],
   "source": []
  },
  {
   "cell_type": "code",
   "execution_count": null,
   "metadata": {},
   "outputs": [],
   "source": []
  },
  {
   "cell_type": "code",
   "execution_count": null,
   "metadata": {},
   "outputs": [],
   "source": []
  },
  {
   "cell_type": "code",
   "execution_count": null,
   "metadata": {},
   "outputs": [],
   "source": []
  },
  {
   "cell_type": "code",
   "execution_count": null,
   "metadata": {},
   "outputs": [],
   "source": []
  },
  {
   "cell_type": "code",
   "execution_count": null,
   "metadata": {},
   "outputs": [],
   "source": []
  },
  {
   "cell_type": "code",
   "execution_count": null,
   "metadata": {},
   "outputs": [],
   "source": []
  }
 ],
 "metadata": {
  "kernelspec": {
   "display_name": "tf",
   "language": "python",
   "name": "tf"
  },
  "language_info": {
   "codemirror_mode": {
    "name": "ipython",
    "version": 3
   },
   "file_extension": ".py",
   "mimetype": "text/x-python",
   "name": "python",
   "nbconvert_exporter": "python",
   "pygments_lexer": "ipython3",
   "version": "3.7.5"
  }
 },
 "nbformat": 4,
 "nbformat_minor": 4
}
